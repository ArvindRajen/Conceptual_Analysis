{
  "nbformat": 4,
  "nbformat_minor": 0,
  "metadata": {
    "colab": {
      "name": "Hotel_Reviews_EDA.ipynb",
      "provenance": [],
      "authorship_tag": "ABX9TyNgku5p/Y2L7eBsftcrOcge",
      "include_colab_link": true
    },
    "kernelspec": {
      "name": "python3",
      "display_name": "Python 3"
    }
  },
  "cells": [
    {
      "cell_type": "markdown",
      "metadata": {
        "id": "view-in-github",
        "colab_type": "text"
      },
      "source": [
        "<a href=\"https://colab.research.google.com/github/ArvindRajen/Conceptual_Analysis/blob/main/Hotel_Reviews_EDA.ipynb\" target=\"_parent\"><img src=\"https://colab.research.google.com/assets/colab-badge.svg\" alt=\"Open In Colab\"/></a>"
      ]
    },
    {
      "cell_type": "code",
      "metadata": {
        "id": "-InE0czsv1hZ"
      },
      "source": [
        "import pandas as pd\n",
        "import numpy as np\n",
        "import nltk"
      ],
      "execution_count": 1,
      "outputs": []
    },
    {
      "cell_type": "code",
      "metadata": {
        "colab": {
          "base_uri": "https://localhost:8080/",
          "height": 713
        },
        "id": "T214omBz1zWN",
        "outputId": "f62195e6-b61f-45fc-c514-02e34505d539"
      },
      "source": [
        "import seaborn as sns; \n",
        "import matplotlib.pyplot as plt\n",
        "# Input data files are available in the \"../input/\" directory.\n",
        "# For example, running this (by clicking run or pressing Shift+Enter) will list the files in the input directory\n",
        "\n",
        "import os\n",
        "print(os.listdir(\"/content\"))\n",
        "df = pd.read_csv('/content/Hotel_Reviews.csv')\n",
        "df.head()"
      ],
      "execution_count": 2,
      "outputs": [
        {
          "output_type": "stream",
          "text": [
            "['.config', 'Hotel_Reviews.csv', 'sample_data']\n"
          ],
          "name": "stdout"
        },
        {
          "output_type": "execute_result",
          "data": {
            "text/html": [
              "<div>\n",
              "<style scoped>\n",
              "    .dataframe tbody tr th:only-of-type {\n",
              "        vertical-align: middle;\n",
              "    }\n",
              "\n",
              "    .dataframe tbody tr th {\n",
              "        vertical-align: top;\n",
              "    }\n",
              "\n",
              "    .dataframe thead th {\n",
              "        text-align: right;\n",
              "    }\n",
              "</style>\n",
              "<table border=\"1\" class=\"dataframe\">\n",
              "  <thead>\n",
              "    <tr style=\"text-align: right;\">\n",
              "      <th></th>\n",
              "      <th>Hotel_Address</th>\n",
              "      <th>Additional_Number_of_Scoring</th>\n",
              "      <th>Review_Date</th>\n",
              "      <th>Average_Score</th>\n",
              "      <th>Hotel_Name</th>\n",
              "      <th>Reviewer_Nationality</th>\n",
              "      <th>Negative_Review</th>\n",
              "      <th>Review_Total_Negative_Word_Counts</th>\n",
              "      <th>Total_Number_of_Reviews</th>\n",
              "      <th>Positive_Review</th>\n",
              "      <th>Review_Total_Positive_Word_Counts</th>\n",
              "      <th>Total_Number_of_Reviews_Reviewer_Has_Given</th>\n",
              "      <th>Reviewer_Score</th>\n",
              "      <th>Tags</th>\n",
              "      <th>days_since_review</th>\n",
              "      <th>lat</th>\n",
              "      <th>lng</th>\n",
              "    </tr>\n",
              "  </thead>\n",
              "  <tbody>\n",
              "    <tr>\n",
              "      <th>0</th>\n",
              "      <td>s Gravesandestraat 55 Oost 1092 AA Amsterdam ...</td>\n",
              "      <td>194</td>\n",
              "      <td>8/3/2017</td>\n",
              "      <td>7.7</td>\n",
              "      <td>Hotel Arena</td>\n",
              "      <td>Russia</td>\n",
              "      <td>I am so angry that i made this post available...</td>\n",
              "      <td>397</td>\n",
              "      <td>1403</td>\n",
              "      <td>Only the park outside of the hotel was beauti...</td>\n",
              "      <td>11</td>\n",
              "      <td>7</td>\n",
              "      <td>2.9</td>\n",
              "      <td>[' Leisure trip ', ' Couple ', ' Duplex Double...</td>\n",
              "      <td>0 days</td>\n",
              "      <td>52.360576</td>\n",
              "      <td>4.915968</td>\n",
              "    </tr>\n",
              "    <tr>\n",
              "      <th>1</th>\n",
              "      <td>s Gravesandestraat 55 Oost 1092 AA Amsterdam ...</td>\n",
              "      <td>194</td>\n",
              "      <td>8/3/2017</td>\n",
              "      <td>7.7</td>\n",
              "      <td>Hotel Arena</td>\n",
              "      <td>Ireland</td>\n",
              "      <td>No Negative</td>\n",
              "      <td>0</td>\n",
              "      <td>1403</td>\n",
              "      <td>No real complaints the hotel was great great ...</td>\n",
              "      <td>105</td>\n",
              "      <td>7</td>\n",
              "      <td>7.5</td>\n",
              "      <td>[' Leisure trip ', ' Couple ', ' Duplex Double...</td>\n",
              "      <td>0 days</td>\n",
              "      <td>52.360576</td>\n",
              "      <td>4.915968</td>\n",
              "    </tr>\n",
              "    <tr>\n",
              "      <th>2</th>\n",
              "      <td>s Gravesandestraat 55 Oost 1092 AA Amsterdam ...</td>\n",
              "      <td>194</td>\n",
              "      <td>7/31/2017</td>\n",
              "      <td>7.7</td>\n",
              "      <td>Hotel Arena</td>\n",
              "      <td>Australia</td>\n",
              "      <td>Rooms are nice but for elderly a bit difficul...</td>\n",
              "      <td>42</td>\n",
              "      <td>1403</td>\n",
              "      <td>Location was good and staff were ok It is cut...</td>\n",
              "      <td>21</td>\n",
              "      <td>9</td>\n",
              "      <td>7.1</td>\n",
              "      <td>[' Leisure trip ', ' Family with young childre...</td>\n",
              "      <td>3 days</td>\n",
              "      <td>52.360576</td>\n",
              "      <td>4.915968</td>\n",
              "    </tr>\n",
              "    <tr>\n",
              "      <th>3</th>\n",
              "      <td>s Gravesandestraat 55 Oost 1092 AA Amsterdam ...</td>\n",
              "      <td>194</td>\n",
              "      <td>7/31/2017</td>\n",
              "      <td>7.7</td>\n",
              "      <td>Hotel Arena</td>\n",
              "      <td>United Kingdom</td>\n",
              "      <td>My room was dirty and I was afraid to walk ba...</td>\n",
              "      <td>210</td>\n",
              "      <td>1403</td>\n",
              "      <td>Great location in nice surroundings the bar a...</td>\n",
              "      <td>26</td>\n",
              "      <td>1</td>\n",
              "      <td>3.8</td>\n",
              "      <td>[' Leisure trip ', ' Solo traveler ', ' Duplex...</td>\n",
              "      <td>3 days</td>\n",
              "      <td>52.360576</td>\n",
              "      <td>4.915968</td>\n",
              "    </tr>\n",
              "    <tr>\n",
              "      <th>4</th>\n",
              "      <td>s Gravesandestraat 55 Oost 1092 AA Amsterdam ...</td>\n",
              "      <td>194</td>\n",
              "      <td>7/24/2017</td>\n",
              "      <td>7.7</td>\n",
              "      <td>Hotel Arena</td>\n",
              "      <td>New Zealand</td>\n",
              "      <td>You When I booked with your company on line y...</td>\n",
              "      <td>140</td>\n",
              "      <td>1403</td>\n",
              "      <td>Amazing location and building Romantic setting</td>\n",
              "      <td>8</td>\n",
              "      <td>3</td>\n",
              "      <td>6.7</td>\n",
              "      <td>[' Leisure trip ', ' Couple ', ' Suite ', ' St...</td>\n",
              "      <td>10 days</td>\n",
              "      <td>52.360576</td>\n",
              "      <td>4.915968</td>\n",
              "    </tr>\n",
              "  </tbody>\n",
              "</table>\n",
              "</div>"
            ],
            "text/plain": [
              "                                       Hotel_Address  ...       lng\n",
              "0   s Gravesandestraat 55 Oost 1092 AA Amsterdam ...  ...  4.915968\n",
              "1   s Gravesandestraat 55 Oost 1092 AA Amsterdam ...  ...  4.915968\n",
              "2   s Gravesandestraat 55 Oost 1092 AA Amsterdam ...  ...  4.915968\n",
              "3   s Gravesandestraat 55 Oost 1092 AA Amsterdam ...  ...  4.915968\n",
              "4   s Gravesandestraat 55 Oost 1092 AA Amsterdam ...  ...  4.915968\n",
              "\n",
              "[5 rows x 17 columns]"
            ]
          },
          "metadata": {
            "tags": []
          },
          "execution_count": 2
        }
      ]
    },
    {
      "cell_type": "code",
      "metadata": {
        "colab": {
          "base_uri": "https://localhost:8080/"
        },
        "id": "RETgp5ZK2ACB",
        "outputId": "d9ba4a32-8ae8-4578-96c7-ada51195eb56"
      },
      "source": [
        "df.shape"
      ],
      "execution_count": 3,
      "outputs": [
        {
          "output_type": "execute_result",
          "data": {
            "text/plain": [
              "(515738, 17)"
            ]
          },
          "metadata": {
            "tags": []
          },
          "execution_count": 3
        }
      ]
    },
    {
      "cell_type": "code",
      "metadata": {
        "colab": {
          "base_uri": "https://localhost:8080/",
          "height": 842
        },
        "id": "akaq2nUdyrGd",
        "outputId": "cf05618a-fb0d-4e94-9fb5-6850f75fd808"
      },
      "source": [
        "df.corr()\n",
        "\n",
        "f,ax=plt.subplots(figsize=(10,10))\n",
        "sns.heatmap(df.corr(),annot=True,ax=ax) "
      ],
      "execution_count": 19,
      "outputs": [
        {
          "output_type": "execute_result",
          "data": {
            "text/plain": [
              "<matplotlib.axes._subplots.AxesSubplot at 0x7fd2028be080>"
            ]
          },
          "metadata": {
            "tags": []
          },
          "execution_count": 19
        },
        {
          "output_type": "display_data",
          "data": {
            "image/png": "[encoded data removed]",
            "text/plain": [
              "<Figure size 720x720 with 2 Axes>"
            ]
          },
          "metadata": {
            "tags": [],
            "needs_background": "light"
          }
        }
      ]
    },
    {
      "cell_type": "code",
      "metadata": {
        "colab": {
          "base_uri": "https://localhost:8080/",
          "height": 769
        },
        "id": "i5Zw8lANyymn",
        "outputId": "99cd8939-526d-43fb-eac2-dbb608a97eea"
      },
      "source": [
        "df.plot(kind='scatter',x='Reviewer_Score',y='Average_Score',alpha=0.2,color='red',figsize=(13,13))\n",
        "plt.xlabel('Reviewer Score')\n",
        "plt.ylabel('Average Score')\n",
        "plt.show()"
      ],
      "execution_count": 20,
      "outputs": [
        {
          "output_type": "display_data",
          "data": {
            "image/png": "[encoded data removed]",
            "text/plain": [
              "<Figure size 936x936 with 1 Axes>"
            ]
          },
          "metadata": {
            "tags": [],
            "needs_background": "light"
          }
        }
      ]
    },
    {
      "cell_type": "code",
      "metadata": {
        "colab": {
          "base_uri": "https://localhost:8080/",
          "height": 755
        },
        "id": "YtA47vU8y3Gg",
        "outputId": "2068e181-1260-4b47-b01d-9251e1c65250"
      },
      "source": [
        "df.Average_Score.plot(kind='hist',bins=60,figsize=(13,13))\n",
        "plt.show()"
      ],
      "execution_count": 21,
      "outputs": [
        {
          "output_type": "display_data",
          "data": {
            "image/png": "[encoded data removed]",
            "text/plain": [
              "<Figure size 936x936 with 1 Axes>"
            ]
          },
          "metadata": {
            "tags": [],
            "needs_background": "light"
          }
        }
      ]
    },
    {
      "cell_type": "markdown",
      "metadata": {
        "id": "AzXBws0q2J_l"
      },
      "source": [
        "We need to know how many hotels we are looking at so :"
      ]
    },
    {
      "cell_type": "code",
      "metadata": {
        "colab": {
          "base_uri": "https://localhost:8080/"
        },
        "id": "KSecmQSe2H-G",
        "outputId": "55762cf7-5194-4c76-a740-9b5f0c27dda6"
      },
      "source": [
        "print(df.Hotel_Name.nunique(), 'hotels in the dataset')"
      ],
      "execution_count": 4,
      "outputs": [
        {
          "output_type": "stream",
          "text": [
            "1492 hotels in the dataset\n"
          ],
          "name": "stdout"
        }
      ]
    },
    {
      "cell_type": "markdown",
      "metadata": {
        "id": "mm64ymcs2UpF"
      },
      "source": [
        "Now that we know there *1492* Hotels in the data set we now look at the average reviews of the hotel. "
      ]
    },
    {
      "cell_type": "code",
      "metadata": {
        "colab": {
          "base_uri": "https://localhost:8080/",
          "height": 408
        },
        "id": "gRgcaH_c2RJE",
        "outputId": "0a5daa8a-36d7-4252-9467-b86b8027cd3a"
      },
      "source": [
        "df_uni = df[['Hotel_Name','Average_Score']].drop_duplicates()\n",
        "plt.figure(figsize = (14,6))\n",
        "sns.countplot(x = 'Average_Score',data = df_uni,color = 'orange')"
      ],
      "execution_count": 5,
      "outputs": [
        {
          "output_type": "execute_result",
          "data": {
            "text/plain": [
              "<matplotlib.axes._subplots.AxesSubplot at 0x7fd2205c5470>"
            ]
          },
          "metadata": {
            "tags": []
          },
          "execution_count": 5
        },
        {
          "output_type": "display_data",
          "data": {
            "image/png": "[encoded data removed]",
            "text/plain": [
              "<Figure size 1008x432 with 1 Axes>"
            ]
          },
          "metadata": {
            "tags": [],
            "needs_background": "light"
          }
        }
      ]
    },
    {
      "cell_type": "markdown",
      "metadata": {
        "id": "MZADvAeF2inP"
      },
      "source": [
        "This is interesting as the average scores indicate that most reviews lie between 8 - 9, meaning that the hotels within the dataset are generally pretty good but we know that the human mind is a thing of many intricacies and words can sometimes convey a different meaning to when we use numbers"
      ]
    },
    {
      "cell_type": "code",
      "metadata": {
        "colab": {
          "base_uri": "https://localhost:8080/"
        },
        "id": "Uw61MV_P3OBU",
        "outputId": "893c788d-f6a7-45e3-e6a3-cb5c11ecc628"
      },
      "source": [
        "df.Average_Score.describe()"
      ],
      "execution_count": 6,
      "outputs": [
        {
          "output_type": "execute_result",
          "data": {
            "text/plain": [
              "count    515738.000000\n",
              "mean          8.397487\n",
              "std           0.548048\n",
              "min           5.200000\n",
              "25%           8.100000\n",
              "50%           8.400000\n",
              "75%           8.800000\n",
              "max           9.800000\n",
              "Name: Average_Score, dtype: float64"
            ]
          },
          "metadata": {
            "tags": []
          },
          "execution_count": 6
        }
      ]
    },
    {
      "cell_type": "code",
      "metadata": {
        "colab": {
          "base_uri": "https://localhost:8080/",
          "height": 36
        },
        "id": "vgBQnc1u3XqG",
        "outputId": "a3247897-c0dc-4486-92eb-f849cb43fd19"
      },
      "source": [
        "df.Hotel_Address[10]"
      ],
      "execution_count": 7,
      "outputs": [
        {
          "output_type": "execute_result",
          "data": {
            "application/vnd.google.colaboratory.intrinsic+json": {
              "type": "string"
            },
            "text/plain": [
              "' s Gravesandestraat 55 Oost 1092 AA Amsterdam Netherlands'"
            ]
          },
          "metadata": {
            "tags": []
          },
          "execution_count": 7
        }
      ]
    },
    {
      "cell_type": "code",
      "metadata": {
        "colab": {
          "base_uri": "https://localhost:8080/",
          "height": 355
        },
        "id": "x4AclJAM3g-5",
        "outputId": "81b46807-078e-4a4e-a8ba-de1b4a476513"
      },
      "source": [
        "df.Hotel_Address = df.Hotel_Address.str.replace('United Kingdom','UK')\n",
        "df['State'] = df.Hotel_Address.apply(lambda x: x.split(' ')[-1])\n",
        "# Now we can check distribution in  and in state\n",
        "plt.figure(figsize = (12,5))\n",
        "plt.title('Hotel distribution in States')\n",
        "df.State.value_counts().plot.barh(color = 'orange')"
      ],
      "execution_count": 8,
      "outputs": [
        {
          "output_type": "execute_result",
          "data": {
            "text/plain": [
              "<matplotlib.axes._subplots.AxesSubplot at 0x7fd21c901860>"
            ]
          },
          "metadata": {
            "tags": []
          },
          "execution_count": 8
        },
        {
          "output_type": "display_data",
          "data": {
            "image/png": "[encoded data removed]",
            "text/plain": [
              "<Figure size 864x360 with 1 Axes>"
            ]
          },
          "metadata": {
            "tags": [],
            "needs_background": "light"
          }
        }
      ]
    },
    {
      "cell_type": "code",
      "metadata": {
        "colab": {
          "base_uri": "https://localhost:8080/",
          "height": 520
        },
        "id": "nF4ilfXi35PE",
        "outputId": "e536611d-0420-4629-e9ee-a314a77584ff"
      },
      "source": [
        "df[df.Average_Score >= 8.8][['Hotel_Name','Average_Score','Total_Number_of_Reviews']].drop_duplicates().sort_values(by ='Total_Number_of_Reviews',ascending = False)[:15]"
      ],
      "execution_count": 9,
      "outputs": [
        {
          "output_type": "execute_result",
          "data": {
            "text/html": [
              "<div>\n",
              "<style scoped>\n",
              "    .dataframe tbody tr th:only-of-type {\n",
              "        vertical-align: middle;\n",
              "    }\n",
              "\n",
              "    .dataframe tbody tr th {\n",
              "        vertical-align: top;\n",
              "    }\n",
              "\n",
              "    .dataframe thead th {\n",
              "        text-align: right;\n",
              "    }\n",
              "</style>\n",
              "<table border=\"1\" class=\"dataframe\">\n",
              "  <thead>\n",
              "    <tr style=\"text-align: right;\">\n",
              "      <th></th>\n",
              "      <th>Hotel_Name</th>\n",
              "      <th>Average_Score</th>\n",
              "      <th>Total_Number_of_Reviews</th>\n",
              "    </tr>\n",
              "  </thead>\n",
              "  <tbody>\n",
              "    <tr>\n",
              "      <th>404728</th>\n",
              "      <td>Glam Milano</td>\n",
              "      <td>8.8</td>\n",
              "      <td>7371</td>\n",
              "    </tr>\n",
              "    <tr>\n",
              "      <th>309843</th>\n",
              "      <td>Jaz Amsterdam</td>\n",
              "      <td>8.9</td>\n",
              "      <td>7108</td>\n",
              "    </tr>\n",
              "    <tr>\n",
              "      <th>327773</th>\n",
              "      <td>Ayre Hotel Gran V a</td>\n",
              "      <td>8.8</td>\n",
              "      <td>4887</td>\n",
              "    </tr>\n",
              "    <tr>\n",
              "      <th>57597</th>\n",
              "      <td>M by Montcalm Shoreditch London Tech City</td>\n",
              "      <td>9.1</td>\n",
              "      <td>4802</td>\n",
              "    </tr>\n",
              "    <tr>\n",
              "      <th>450210</th>\n",
              "      <td>Hotel Esther a</td>\n",
              "      <td>9.1</td>\n",
              "      <td>4687</td>\n",
              "    </tr>\n",
              "    <tr>\n",
              "      <th>180550</th>\n",
              "      <td>citizenM Tower of London</td>\n",
              "      <td>9.1</td>\n",
              "      <td>4672</td>\n",
              "    </tr>\n",
              "    <tr>\n",
              "      <th>370315</th>\n",
              "      <td>25hours Hotel beim MuseumsQuartier</td>\n",
              "      <td>8.8</td>\n",
              "      <td>4324</td>\n",
              "    </tr>\n",
              "    <tr>\n",
              "      <th>361190</th>\n",
              "      <td>Hilton London Wembley</td>\n",
              "      <td>8.8</td>\n",
              "      <td>4305</td>\n",
              "    </tr>\n",
              "    <tr>\n",
              "      <th>14829</th>\n",
              "      <td>Intercontinental London The O2</td>\n",
              "      <td>9.4</td>\n",
              "      <td>4204</td>\n",
              "    </tr>\n",
              "    <tr>\n",
              "      <th>470003</th>\n",
              "      <td>The Square Milano Duomo</td>\n",
              "      <td>9.0</td>\n",
              "      <td>4192</td>\n",
              "    </tr>\n",
              "    <tr>\n",
              "      <th>347200</th>\n",
              "      <td>Room Mate Aitana</td>\n",
              "      <td>8.8</td>\n",
              "      <td>4097</td>\n",
              "    </tr>\n",
              "    <tr>\n",
              "      <th>483570</th>\n",
              "      <td>Hotel Berna</td>\n",
              "      <td>9.2</td>\n",
              "      <td>4017</td>\n",
              "    </tr>\n",
              "    <tr>\n",
              "      <th>428187</th>\n",
              "      <td>Austria Trend Hotel Savoyen Vienna</td>\n",
              "      <td>8.9</td>\n",
              "      <td>4016</td>\n",
              "    </tr>\n",
              "    <tr>\n",
              "      <th>464405</th>\n",
              "      <td>Hotel Stefanie</td>\n",
              "      <td>9.1</td>\n",
              "      <td>3883</td>\n",
              "    </tr>\n",
              "    <tr>\n",
              "      <th>96177</th>\n",
              "      <td>citizenM London Bankside</td>\n",
              "      <td>9.1</td>\n",
              "      <td>3802</td>\n",
              "    </tr>\n",
              "  </tbody>\n",
              "</table>\n",
              "</div>"
            ],
            "text/plain": [
              "                                       Hotel_Name  ...  Total_Number_of_Reviews\n",
              "404728                                Glam Milano  ...                     7371\n",
              "309843                              Jaz Amsterdam  ...                     7108\n",
              "327773                        Ayre Hotel Gran V a  ...                     4887\n",
              "57597   M by Montcalm Shoreditch London Tech City  ...                     4802\n",
              "450210                             Hotel Esther a  ...                     4687\n",
              "180550                   citizenM Tower of London  ...                     4672\n",
              "370315         25hours Hotel beim MuseumsQuartier  ...                     4324\n",
              "361190                      Hilton London Wembley  ...                     4305\n",
              "14829              Intercontinental London The O2  ...                     4204\n",
              "470003                    The Square Milano Duomo  ...                     4192\n",
              "347200                           Room Mate Aitana  ...                     4097\n",
              "483570                                Hotel Berna  ...                     4017\n",
              "428187         Austria Trend Hotel Savoyen Vienna  ...                     4016\n",
              "464405                             Hotel Stefanie  ...                     3883\n",
              "96177                    citizenM London Bankside  ...                     3802\n",
              "\n",
              "[15 rows x 3 columns]"
            ]
          },
          "metadata": {
            "tags": []
          },
          "execution_count": 9
        }
      ]
    },
    {
      "cell_type": "code",
      "metadata": {
        "colab": {
          "base_uri": "https://localhost:8080/",
          "height": 363
        },
        "id": "aK8GKcUI4F5i",
        "outputId": "613fcf78-606c-490d-86a3-91c46bdf16c9"
      },
      "source": [
        "#split city\n",
        "df['City']= df.Hotel_Address.apply(lambda x: x.split(' ')[-2])\n",
        "# find the best 10 hotels in Amsterdam\n",
        "df[(df.Average_Score >= 9.0) & (df.City == 'Amsterdam')][['Hotel_Name','Average_Score']].drop_duplicates().sort_values(by ='Average_Score',ascending = False)[:10]"
      ],
      "execution_count": 10,
      "outputs": [
        {
          "output_type": "execute_result",
          "data": {
            "text/html": [
              "<div>\n",
              "<style scoped>\n",
              "    .dataframe tbody tr th:only-of-type {\n",
              "        vertical-align: middle;\n",
              "    }\n",
              "\n",
              "    .dataframe tbody tr th {\n",
              "        vertical-align: top;\n",
              "    }\n",
              "\n",
              "    .dataframe thead th {\n",
              "        text-align: right;\n",
              "    }\n",
              "</style>\n",
              "<table border=\"1\" class=\"dataframe\">\n",
              "  <thead>\n",
              "    <tr style=\"text-align: right;\">\n",
              "      <th></th>\n",
              "      <th>Hotel_Name</th>\n",
              "      <th>Average_Score</th>\n",
              "    </tr>\n",
              "  </thead>\n",
              "  <tbody>\n",
              "    <tr>\n",
              "      <th>341657</th>\n",
              "      <td>Waldorf Astoria Amsterdam</td>\n",
              "      <td>9.5</td>\n",
              "    </tr>\n",
              "    <tr>\n",
              "      <th>270116</th>\n",
              "      <td>Pillows Anna van den Vondel Amsterdam</td>\n",
              "      <td>9.4</td>\n",
              "    </tr>\n",
              "    <tr>\n",
              "      <th>356072</th>\n",
              "      <td>The Toren</td>\n",
              "      <td>9.4</td>\n",
              "    </tr>\n",
              "    <tr>\n",
              "      <th>393386</th>\n",
              "      <td>Luxury Suites Amsterdam</td>\n",
              "      <td>9.3</td>\n",
              "    </tr>\n",
              "    <tr>\n",
              "      <th>421334</th>\n",
              "      <td>Andaz Amsterdam Prinsengracht A Hyatt Hotel</td>\n",
              "      <td>9.3</td>\n",
              "    </tr>\n",
              "    <tr>\n",
              "      <th>340344</th>\n",
              "      <td>The Hoxton Amsterdam</td>\n",
              "      <td>9.3</td>\n",
              "    </tr>\n",
              "    <tr>\n",
              "      <th>340753</th>\n",
              "      <td>Ambassade Hotel</td>\n",
              "      <td>9.3</td>\n",
              "    </tr>\n",
              "    <tr>\n",
              "      <th>355888</th>\n",
              "      <td>Canal House</td>\n",
              "      <td>9.3</td>\n",
              "    </tr>\n",
              "    <tr>\n",
              "      <th>393615</th>\n",
              "      <td>Sofitel Legend The Grand Amsterdam</td>\n",
              "      <td>9.2</td>\n",
              "    </tr>\n",
              "    <tr>\n",
              "      <th>469602</th>\n",
              "      <td>Conservatorium Hotel</td>\n",
              "      <td>9.2</td>\n",
              "    </tr>\n",
              "  </tbody>\n",
              "</table>\n",
              "</div>"
            ],
            "text/plain": [
              "                                         Hotel_Name  Average_Score\n",
              "341657                    Waldorf Astoria Amsterdam            9.5\n",
              "270116        Pillows Anna van den Vondel Amsterdam            9.4\n",
              "356072                                    The Toren            9.4\n",
              "393386                      Luxury Suites Amsterdam            9.3\n",
              "421334  Andaz Amsterdam Prinsengracht A Hyatt Hotel            9.3\n",
              "340344                         The Hoxton Amsterdam            9.3\n",
              "340753                              Ambassade Hotel            9.3\n",
              "355888                                  Canal House            9.3\n",
              "393615           Sofitel Legend The Grand Amsterdam            9.2\n",
              "469602                         Conservatorium Hotel            9.2"
            ]
          },
          "metadata": {
            "tags": []
          },
          "execution_count": 10
        }
      ]
    },
    {
      "cell_type": "code",
      "metadata": {
        "colab": {
          "base_uri": "https://localhost:8080/",
          "height": 363
        },
        "id": "ERR_XoEq4ePn",
        "outputId": "c7698e04-a7a3-479e-ea98-ea2e1f5d880e"
      },
      "source": [
        "# find the worst 10 hotels in Paris\n",
        "df[(df.Average_Score <= 8.1) & (df.City == 'Paris')][['Hotel_Name','Average_Score']].drop_duplicates().sort_values(by ='Average_Score',ascending = True)[:10]"
      ],
      "execution_count": 11,
      "outputs": [
        {
          "output_type": "execute_result",
          "data": {
            "text/html": [
              "<div>\n",
              "<style scoped>\n",
              "    .dataframe tbody tr th:only-of-type {\n",
              "        vertical-align: middle;\n",
              "    }\n",
              "\n",
              "    .dataframe tbody tr th {\n",
              "        vertical-align: top;\n",
              "    }\n",
              "\n",
              "    .dataframe thead th {\n",
              "        text-align: right;\n",
              "    }\n",
              "</style>\n",
              "<table border=\"1\" class=\"dataframe\">\n",
              "  <thead>\n",
              "    <tr style=\"text-align: right;\">\n",
              "      <th></th>\n",
              "      <th>Hotel_Name</th>\n",
              "      <th>Average_Score</th>\n",
              "    </tr>\n",
              "  </thead>\n",
              "  <tbody>\n",
              "    <tr>\n",
              "      <th>68936</th>\n",
              "      <td>Villa Eugenie</td>\n",
              "      <td>6.8</td>\n",
              "    </tr>\n",
              "    <tr>\n",
              "      <th>209504</th>\n",
              "      <td>Villa Lut ce Port Royal</td>\n",
              "      <td>7.0</td>\n",
              "    </tr>\n",
              "    <tr>\n",
              "      <th>218258</th>\n",
              "      <td>Hotel Royal Elys es</td>\n",
              "      <td>7.0</td>\n",
              "    </tr>\n",
              "    <tr>\n",
              "      <th>135430</th>\n",
              "      <td>Hyatt Regency Paris Etoile</td>\n",
              "      <td>7.1</td>\n",
              "    </tr>\n",
              "    <tr>\n",
              "      <th>22189</th>\n",
              "      <td>Holiday Inn Paris Montparnasse Pasteur</td>\n",
              "      <td>7.1</td>\n",
              "    </tr>\n",
              "    <tr>\n",
              "      <th>220893</th>\n",
              "      <td>Amarante Beau Manoir</td>\n",
              "      <td>7.2</td>\n",
              "    </tr>\n",
              "    <tr>\n",
              "      <th>206499</th>\n",
              "      <td>Mercure Paris Champs Elys es</td>\n",
              "      <td>7.2</td>\n",
              "    </tr>\n",
              "    <tr>\n",
              "      <th>229326</th>\n",
              "      <td>Best Western Hotel Montmartre Sacr Coeur</td>\n",
              "      <td>7.2</td>\n",
              "    </tr>\n",
              "    <tr>\n",
              "      <th>3813</th>\n",
              "      <td>Kube Hotel Ice Bar</td>\n",
              "      <td>7.2</td>\n",
              "    </tr>\n",
              "    <tr>\n",
              "      <th>168654</th>\n",
              "      <td>H tel De Castiglione</td>\n",
              "      <td>7.2</td>\n",
              "    </tr>\n",
              "  </tbody>\n",
              "</table>\n",
              "</div>"
            ],
            "text/plain": [
              "                                      Hotel_Name  Average_Score\n",
              "68936                              Villa Eugenie            6.8\n",
              "209504                   Villa Lut ce Port Royal            7.0\n",
              "218258                       Hotel Royal Elys es            7.0\n",
              "135430                Hyatt Regency Paris Etoile            7.1\n",
              "22189     Holiday Inn Paris Montparnasse Pasteur            7.1\n",
              "220893                      Amarante Beau Manoir            7.2\n",
              "206499              Mercure Paris Champs Elys es            7.2\n",
              "229326  Best Western Hotel Montmartre Sacr Coeur            7.2\n",
              "3813                          Kube Hotel Ice Bar            7.2\n",
              "168654                      H tel De Castiglione            7.2"
            ]
          },
          "metadata": {
            "tags": []
          },
          "execution_count": 11
        }
      ]
    },
    {
      "cell_type": "code",
      "metadata": {
        "id": "jG3dghGX5_S9"
      },
      "source": [
        "df_com = df[['Hotel_Name','Reviewer_Score','Negative_Review','Review_Total_Negative_Word_Counts','Positive_Review','Review_Total_Positive_Word_Counts',\n",
        "             'Total_Number_of_Reviews','Total_Number_of_Reviews_Reviewer_Has_Given']]"
      ],
      "execution_count": 12,
      "outputs": []
    },
    {
      "cell_type": "code",
      "metadata": {
        "colab": {
          "base_uri": "https://localhost:8080/"
        },
        "id": "-DtjRqDs6VXn",
        "outputId": "5ed8a00d-ed35-4945-c61e-78be449db3c5"
      },
      "source": [
        "nltk.download('stopwords')\n",
        "nltk.download('punkt')\n",
        "nltk.download('wordnet')"
      ],
      "execution_count": 13,
      "outputs": [
        {
          "output_type": "stream",
          "text": [
            "[nltk_data] Downloading package stopwords to /root/nltk_data...\n",
            "[nltk_data]   Unzipping corpora/stopwords.zip.\n",
            "[nltk_data] Downloading package punkt to /root/nltk_data...\n",
            "[nltk_data]   Unzipping tokenizers/punkt.zip.\n",
            "[nltk_data] Downloading package wordnet to /root/nltk_data...\n",
            "[nltk_data]   Unzipping corpora/wordnet.zip.\n"
          ],
          "name": "stdout"
        },
        {
          "output_type": "execute_result",
          "data": {
            "text/plain": [
              "True"
            ]
          },
          "metadata": {
            "tags": []
          },
          "execution_count": 13
        }
      ]
    },
    {
      "cell_type": "code",
      "metadata": {
        "id": "7sJKoLYy6EiH"
      },
      "source": [
        "# Create NLP and machine learning environment\n",
        "import re, nltk\n",
        "from nltk.stem import WordNetLemmatizer\n",
        "from nltk.corpus import stopwords\n",
        "stop_words = set(stopwords.words('english'))\n",
        "wordnet_lemmatizer = WordNetLemmatizer()\n",
        "from sklearn.feature_extraction.text import CountVectorizer\n",
        "\n",
        "#NLP prepross neg and pos reviews\n",
        "neg = []\n",
        "for i in df_com['Negative_Review']:\n",
        "    letters = re.sub('[^a-zA-Z]',' ',i)\n",
        "    tokens = nltk.word_tokenize(letters)\n",
        "    lowercase = [l.lower() for l in tokens]\n",
        "    filtered_result = list(filter(lambda l: l not in stop_words, lowercase))\n",
        "    lemmas = [wordnet_lemmatizer.lemmatize(t) for t in filtered_result] \n",
        "    neg.append(' '.join(lemmas))\n",
        "    \n",
        "pos = []\n",
        "for i in df_com['Positive_Review']:\n",
        "    pletters = re.sub('[^a-zA-Z]',' ',i)\n",
        "    ptokens = nltk.word_tokenize(pletters)\n",
        "    plowercase = [l.lower() for l in ptokens]\n",
        "    filtered_presult = list(filter(lambda l: l not in stop_words, plowercase))\n",
        "    plemmas = [wordnet_lemmatizer.lemmatize(t) for t in filtered_presult] \n",
        "    pos.append(' '.join(plemmas))\n",
        "\n"
      ],
      "execution_count": 14,
      "outputs": []
    },
    {
      "cell_type": "code",
      "metadata": {
        "colab": {
          "base_uri": "https://localhost:8080/",
          "height": 859
        },
        "id": "h3VOZA3e6NmU",
        "outputId": "cc94fc1a-3fd4-4918-b5ba-86a6d9c4f079"
      },
      "source": [
        "#Finding most important words in Negative Reviews and in Postive Reviews\n",
        "cv = CountVectorizer(analyzer = 'word',stop_words = 'english',max_features = 20,ngram_range=(2,2))\n",
        "most_negative_words = cv.fit_transform(neg)\n",
        "temp_counts = most_negative_words.sum(axis=0)\n",
        "temp_words = cv.vocabulary_\n",
        "print('the most important words in Negative Reviews:')\n",
        "print('--------------------------------------------')\n",
        "display(temp_words)\n",
        "\n",
        "print('                                          ')\n",
        "cv = CountVectorizer(analyzer = 'word',stop_words = 'english',max_features = 20,ngram_range=(2,2))\n",
        "most_positive_words = cv.fit_transform(pos)\n",
        "temp1_counts = most_positive_words.sum(axis=0)\n",
        "temp1_words = cv.vocabulary_\n",
        "print('the most important words in Positive Reviews:')\n",
        "print('--------------------------------------------')\n",
        "temp1_words"
      ],
      "execution_count": 15,
      "outputs": [
        {
          "output_type": "stream",
          "text": [
            "the most important words in Negative Reviews:\n",
            "--------------------------------------------\n"
          ],
          "name": "stdout"
        },
        {
          "output_type": "display_data",
          "data": {
            "text/plain": [
              "{'air conditioning': 0,\n",
              " 'bit small': 1,\n",
              " 'booking com': 2,\n",
              " 'breakfast expensive': 3,\n",
              " 'breakfast included': 4,\n",
              " 'breakfast room': 5,\n",
              " 'double bed': 6,\n",
              " 'double room': 7,\n",
              " 'hotel room': 8,\n",
              " 'little bit': 9,\n",
              " 'mini bar': 10,\n",
              " 'room bit': 11,\n",
              " 'room little': 12,\n",
              " 'room room': 13,\n",
              " 'room service': 14,\n",
              " 'room small': 15,\n",
              " 'small room': 16,\n",
              " 'star hotel': 17,\n",
              " 'tea coffee': 18,\n",
              " 'wi fi': 19}"
            ]
          },
          "metadata": {
            "tags": []
          }
        },
        {
          "output_type": "stream",
          "text": [
            "                                          \n",
            "the most important words in Positive Reviews:\n",
            "--------------------------------------------\n"
          ],
          "name": "stdout"
        },
        {
          "output_type": "execute_result",
          "data": {
            "text/plain": [
              "{'bed comfortable': 0,\n",
              " 'breakfast good': 1,\n",
              " 'clean room': 2,\n",
              " 'comfortable bed': 3,\n",
              " 'comfortable room': 4,\n",
              " 'comfy bed': 5,\n",
              " 'excellent location': 6,\n",
              " 'friendly helpful': 7,\n",
              " 'friendly staff': 8,\n",
              " 'good breakfast': 9,\n",
              " 'good location': 10,\n",
              " 'great location': 11,\n",
              " 'helpful staff': 12,\n",
              " 'location excellent': 13,\n",
              " 'location good': 14,\n",
              " 'location great': 15,\n",
              " 'room clean': 16,\n",
              " 'staff friendly': 17,\n",
              " 'staff helpful': 18,\n",
              " 'walking distance': 19}"
            ]
          },
          "metadata": {
            "tags": []
          },
          "execution_count": 15
        }
      ]
    },
    {
      "cell_type": "code",
      "metadata": {
        "colab": {
          "base_uri": "https://localhost:8080/",
          "height": 1000
        },
        "id": "qmyVUnDcw92M",
        "outputId": "7b483b3b-a707-4f06-b468-f070738d735c"
      },
      "source": [
        "df_com['+'] = 1\n",
        "df_com['-'] = 1\n",
        "df_com['+'] = df_com.apply(lambda x: 0 if x[\"Positive_Review\"] == 'No Positive' else x['+'],axis =1)\n",
        "df_com['-'] = df_com.apply(lambda x: 0 if x[\"Negative_Review\"] == 'No Negative' else x['-'],axis =1)\n",
        "counted_reviews = pd.DataFrame(df_com.groupby(['Hotel_Name'])['+','-','Total_Number_of_Reviews_Reviewer_Has_Given'].sum())\n",
        "counted_reviews['Total'] = counted_reviews['+'] +counted_reviews['-']\n",
        "counted_reviews['Neg_rate'] = round(counted_reviews['-'] / counted_reviews['Total'],2)\n",
        "counted_reviews['Neg_rate'].describe()\n",
        "\n",
        "counted_reviews[counted_reviews.Neg_rate > 0.5]"
      ],
      "execution_count": 16,
      "outputs": [
        {
          "output_type": "stream",
          "text": [
            "/usr/local/lib/python3.6/dist-packages/ipykernel_launcher.py:1: SettingWithCopyWarning: \n",
            "A value is trying to be set on a copy of a slice from a DataFrame.\n",
            "Try using .loc[row_indexer,col_indexer] = value instead\n",
            "\n",
            "See the caveats in the documentation: https://pandas.pydata.org/pandas-docs/stable/user_guide/indexing.html#returning-a-view-versus-a-copy\n",
            "  \"\"\"Entry point for launching an IPython kernel.\n",
            "/usr/local/lib/python3.6/dist-packages/ipykernel_launcher.py:2: SettingWithCopyWarning: \n",
            "A value is trying to be set on a copy of a slice from a DataFrame.\n",
            "Try using .loc[row_indexer,col_indexer] = value instead\n",
            "\n",
            "See the caveats in the documentation: https://pandas.pydata.org/pandas-docs/stable/user_guide/indexing.html#returning-a-view-versus-a-copy\n",
            "  \n",
            "/usr/local/lib/python3.6/dist-packages/ipykernel_launcher.py:3: SettingWithCopyWarning: \n",
            "A value is trying to be set on a copy of a slice from a DataFrame.\n",
            "Try using .loc[row_indexer,col_indexer] = value instead\n",
            "\n",
            "See the caveats in the documentation: https://pandas.pydata.org/pandas-docs/stable/user_guide/indexing.html#returning-a-view-versus-a-copy\n",
            "  This is separate from the ipykernel package so we can avoid doing imports until\n",
            "/usr/local/lib/python3.6/dist-packages/ipykernel_launcher.py:4: SettingWithCopyWarning: \n",
            "A value is trying to be set on a copy of a slice from a DataFrame.\n",
            "Try using .loc[row_indexer,col_indexer] = value instead\n",
            "\n",
            "See the caveats in the documentation: https://pandas.pydata.org/pandas-docs/stable/user_guide/indexing.html#returning-a-view-versus-a-copy\n",
            "  after removing the cwd from sys.path.\n",
            "/usr/local/lib/python3.6/dist-packages/ipykernel_launcher.py:5: FutureWarning: Indexing with multiple keys (implicitly converted to a tuple of keys) will be deprecated, use a list instead.\n",
            "  \"\"\"\n"
          ],
          "name": "stderr"
        },
        {
          "output_type": "execute_result",
          "data": {
            "text/html": [
              "<div>\n",
              "<style scoped>\n",
              "    .dataframe tbody tr th:only-of-type {\n",
              "        vertical-align: middle;\n",
              "    }\n",
              "\n",
              "    .dataframe tbody tr th {\n",
              "        vertical-align: top;\n",
              "    }\n",
              "\n",
              "    .dataframe thead th {\n",
              "        text-align: right;\n",
              "    }\n",
              "</style>\n",
              "<table border=\"1\" class=\"dataframe\">\n",
              "  <thead>\n",
              "    <tr style=\"text-align: right;\">\n",
              "      <th></th>\n",
              "      <th>+</th>\n",
              "      <th>-</th>\n",
              "      <th>Total_Number_of_Reviews_Reviewer_Has_Given</th>\n",
              "      <th>Total</th>\n",
              "      <th>Neg_rate</th>\n",
              "    </tr>\n",
              "    <tr>\n",
              "      <th>Hotel_Name</th>\n",
              "      <th></th>\n",
              "      <th></th>\n",
              "      <th></th>\n",
              "      <th></th>\n",
              "      <th></th>\n",
              "    </tr>\n",
              "  </thead>\n",
              "  <tbody>\n",
              "    <tr>\n",
              "      <th>AC Hotel Irla a Marriott Lifestyle Hotel</th>\n",
              "      <td>12</td>\n",
              "      <td>13</td>\n",
              "      <td>148</td>\n",
              "      <td>25</td>\n",
              "      <td>0.52</td>\n",
              "    </tr>\n",
              "    <tr>\n",
              "      <th>BEST WESTERN Maitrise Hotel Maida Vale</th>\n",
              "      <td>695</td>\n",
              "      <td>732</td>\n",
              "      <td>5023</td>\n",
              "      <td>1427</td>\n",
              "      <td>0.51</td>\n",
              "    </tr>\n",
              "    <tr>\n",
              "      <th>Best Western Maitrise Hotel Edgware Road</th>\n",
              "      <td>175</td>\n",
              "      <td>203</td>\n",
              "      <td>901</td>\n",
              "      <td>378</td>\n",
              "      <td>0.54</td>\n",
              "    </tr>\n",
              "    <tr>\n",
              "      <th>Britannia International Hotel Canary Wharf</th>\n",
              "      <td>4099</td>\n",
              "      <td>4262</td>\n",
              "      <td>22855</td>\n",
              "      <td>8361</td>\n",
              "      <td>0.51</td>\n",
              "    </tr>\n",
              "    <tr>\n",
              "      <th>Gran Hotel Barcino</th>\n",
              "      <td>66</td>\n",
              "      <td>73</td>\n",
              "      <td>385</td>\n",
              "      <td>139</td>\n",
              "      <td>0.53</td>\n",
              "    </tr>\n",
              "    <tr>\n",
              "      <th>Hallmark Hotel London Chigwell Prince Regent</th>\n",
              "      <td>384</td>\n",
              "      <td>415</td>\n",
              "      <td>2319</td>\n",
              "      <td>799</td>\n",
              "      <td>0.52</td>\n",
              "    </tr>\n",
              "    <tr>\n",
              "      <th>Hotel Liberty</th>\n",
              "      <td>51</td>\n",
              "      <td>64</td>\n",
              "      <td>395</td>\n",
              "      <td>115</td>\n",
              "      <td>0.56</td>\n",
              "    </tr>\n",
              "    <tr>\n",
              "      <th>Ibis Styles Milano Palmanova</th>\n",
              "      <td>9</td>\n",
              "      <td>11</td>\n",
              "      <td>37</td>\n",
              "      <td>20</td>\n",
              "      <td>0.55</td>\n",
              "    </tr>\n",
              "    <tr>\n",
              "      <th>Idea Hotel Milano San Siro</th>\n",
              "      <td>393</td>\n",
              "      <td>419</td>\n",
              "      <td>4132</td>\n",
              "      <td>812</td>\n",
              "      <td>0.52</td>\n",
              "    </tr>\n",
              "    <tr>\n",
              "      <th>Kube Hotel Ice Bar</th>\n",
              "      <td>16</td>\n",
              "      <td>18</td>\n",
              "      <td>170</td>\n",
              "      <td>34</td>\n",
              "      <td>0.53</td>\n",
              "    </tr>\n",
              "    <tr>\n",
              "      <th>Le M ridien Etoile</th>\n",
              "      <td>77</td>\n",
              "      <td>80</td>\n",
              "      <td>586</td>\n",
              "      <td>157</td>\n",
              "      <td>0.51</td>\n",
              "    </tr>\n",
              "    <tr>\n",
              "      <th>Le Meridien Piccadilly</th>\n",
              "      <td>221</td>\n",
              "      <td>230</td>\n",
              "      <td>1356</td>\n",
              "      <td>451</td>\n",
              "      <td>0.51</td>\n",
              "    </tr>\n",
              "    <tr>\n",
              "      <th>Mercure Paris Op ra Faubourg Montmartre</th>\n",
              "      <td>30</td>\n",
              "      <td>31</td>\n",
              "      <td>148</td>\n",
              "      <td>61</td>\n",
              "      <td>0.51</td>\n",
              "    </tr>\n",
              "    <tr>\n",
              "      <th>Mercure Paris Tour Eiffel Pont Mirabeau</th>\n",
              "      <td>56</td>\n",
              "      <td>58</td>\n",
              "      <td>412</td>\n",
              "      <td>114</td>\n",
              "      <td>0.51</td>\n",
              "    </tr>\n",
              "    <tr>\n",
              "      <th>Milan Marriott Hotel</th>\n",
              "      <td>59</td>\n",
              "      <td>62</td>\n",
              "      <td>642</td>\n",
              "      <td>121</td>\n",
              "      <td>0.51</td>\n",
              "    </tr>\n",
              "    <tr>\n",
              "      <th>Novotel Suites Paris Montreuil Vincennes</th>\n",
              "      <td>162</td>\n",
              "      <td>166</td>\n",
              "      <td>962</td>\n",
              "      <td>328</td>\n",
              "      <td>0.51</td>\n",
              "    </tr>\n",
              "    <tr>\n",
              "      <th>Novotel Suites Paris Nord 18 me</th>\n",
              "      <td>150</td>\n",
              "      <td>166</td>\n",
              "      <td>897</td>\n",
              "      <td>316</td>\n",
              "      <td>0.53</td>\n",
              "    </tr>\n",
              "    <tr>\n",
              "      <th>Paris Marriott Champs Elysees Hotel</th>\n",
              "      <td>78</td>\n",
              "      <td>81</td>\n",
              "      <td>574</td>\n",
              "      <td>159</td>\n",
              "      <td>0.51</td>\n",
              "    </tr>\n",
              "    <tr>\n",
              "      <th>Savoy Hotel Amsterdam</th>\n",
              "      <td>189</td>\n",
              "      <td>222</td>\n",
              "      <td>1369</td>\n",
              "      <td>411</td>\n",
              "      <td>0.54</td>\n",
              "    </tr>\n",
              "    <tr>\n",
              "      <th>St George Hotel</th>\n",
              "      <td>108</td>\n",
              "      <td>112</td>\n",
              "      <td>556</td>\n",
              "      <td>220</td>\n",
              "      <td>0.51</td>\n",
              "    </tr>\n",
              "    <tr>\n",
              "      <th>Vienna Marriott Hotel</th>\n",
              "      <td>176</td>\n",
              "      <td>182</td>\n",
              "      <td>1907</td>\n",
              "      <td>358</td>\n",
              "      <td>0.51</td>\n",
              "    </tr>\n",
              "    <tr>\n",
              "      <th>Villa Eugenie</th>\n",
              "      <td>52</td>\n",
              "      <td>54</td>\n",
              "      <td>346</td>\n",
              "      <td>106</td>\n",
              "      <td>0.51</td>\n",
              "    </tr>\n",
              "    <tr>\n",
              "      <th>Villa Lut ce Port Royal</th>\n",
              "      <td>41</td>\n",
              "      <td>43</td>\n",
              "      <td>635</td>\n",
              "      <td>84</td>\n",
              "      <td>0.51</td>\n",
              "    </tr>\n",
              "  </tbody>\n",
              "</table>\n",
              "</div>"
            ],
            "text/plain": [
              "                                                 +     -  ...  Total  Neg_rate\n",
              "Hotel_Name                                                ...                 \n",
              "AC Hotel Irla a Marriott Lifestyle Hotel        12    13  ...     25      0.52\n",
              "BEST WESTERN Maitrise Hotel Maida Vale         695   732  ...   1427      0.51\n",
              "Best Western Maitrise Hotel Edgware Road       175   203  ...    378      0.54\n",
              "Britannia International Hotel Canary Wharf    4099  4262  ...   8361      0.51\n",
              "Gran Hotel Barcino                              66    73  ...    139      0.53\n",
              "Hallmark Hotel London Chigwell Prince Regent   384   415  ...    799      0.52\n",
              "Hotel Liberty                                   51    64  ...    115      0.56\n",
              "Ibis Styles Milano Palmanova                     9    11  ...     20      0.55\n",
              "Idea Hotel Milano San Siro                     393   419  ...    812      0.52\n",
              "Kube Hotel Ice Bar                              16    18  ...     34      0.53\n",
              "Le M ridien Etoile                              77    80  ...    157      0.51\n",
              "Le Meridien Piccadilly                         221   230  ...    451      0.51\n",
              "Mercure Paris Op ra Faubourg Montmartre         30    31  ...     61      0.51\n",
              "Mercure Paris Tour Eiffel Pont Mirabeau         56    58  ...    114      0.51\n",
              "Milan Marriott Hotel                            59    62  ...    121      0.51\n",
              "Novotel Suites Paris Montreuil Vincennes       162   166  ...    328      0.51\n",
              "Novotel Suites Paris Nord 18 me                150   166  ...    316      0.53\n",
              "Paris Marriott Champs Elysees Hotel             78    81  ...    159      0.51\n",
              "Savoy Hotel Amsterdam                          189   222  ...    411      0.54\n",
              "St George Hotel                                108   112  ...    220      0.51\n",
              "Vienna Marriott Hotel                          176   182  ...    358      0.51\n",
              "Villa Eugenie                                   52    54  ...    106      0.51\n",
              "Villa Lut ce Port Royal                         41    43  ...     84      0.51\n",
              "\n",
              "[23 rows x 5 columns]"
            ]
          },
          "metadata": {
            "tags": []
          },
          "execution_count": 16
        }
      ]
    },
    {
      "cell_type": "code",
      "metadata": {
        "colab": {
          "base_uri": "https://localhost:8080/",
          "height": 423
        },
        "id": "xu8fsJeFxJac",
        "outputId": "61093125-fd97-4715-b6ed-75c9f7aa87d2"
      },
      "source": [
        "df[df.Hotel_Name == 'Hotel Liberty'][['Positive_Review','Negative_Review','Average_Score']]"
      ],
      "execution_count": 17,
      "outputs": [
        {
          "output_type": "execute_result",
          "data": {
            "text/html": [
              "<div>\n",
              "<style scoped>\n",
              "    .dataframe tbody tr th:only-of-type {\n",
              "        vertical-align: middle;\n",
              "    }\n",
              "\n",
              "    .dataframe tbody tr th {\n",
              "        vertical-align: top;\n",
              "    }\n",
              "\n",
              "    .dataframe thead th {\n",
              "        text-align: right;\n",
              "    }\n",
              "</style>\n",
              "<table border=\"1\" class=\"dataframe\">\n",
              "  <thead>\n",
              "    <tr style=\"text-align: right;\">\n",
              "      <th></th>\n",
              "      <th>Positive_Review</th>\n",
              "      <th>Negative_Review</th>\n",
              "      <th>Average_Score</th>\n",
              "    </tr>\n",
              "  </thead>\n",
              "  <tbody>\n",
              "    <tr>\n",
              "      <th>494791</th>\n",
              "      <td>No Positive</td>\n",
              "      <td>The room is really dirty dirt and dust are ev...</td>\n",
              "      <td>5.2</td>\n",
              "    </tr>\n",
              "    <tr>\n",
              "      <th>494792</th>\n",
              "      <td>Good location quiet if rooms are on the inter...</td>\n",
              "      <td>There is no wi fi in the rooms and no air con...</td>\n",
              "      <td>5.2</td>\n",
              "    </tr>\n",
              "    <tr>\n",
              "      <th>494793</th>\n",
              "      <td>Great location with public transport links on...</td>\n",
              "      <td>The hotel was advertised with air conditionin...</td>\n",
              "      <td>5.2</td>\n",
              "    </tr>\n",
              "    <tr>\n",
              "      <th>494794</th>\n",
              "      <td>Tram lines</td>\n",
              "      <td>There was no hot water in my room and staff w...</td>\n",
              "      <td>5.2</td>\n",
              "    </tr>\n",
              "    <tr>\n",
              "      <th>494795</th>\n",
              "      <td>Breakfast was good</td>\n",
              "      <td>NO wifi in room You have to go to portal for ...</td>\n",
              "      <td>5.2</td>\n",
              "    </tr>\n",
              "    <tr>\n",
              "      <th>...</th>\n",
              "      <td>...</td>\n",
              "      <td>...</td>\n",
              "      <td>...</td>\n",
              "    </tr>\n",
              "    <tr>\n",
              "      <th>494851</th>\n",
              "      <td>No Positive</td>\n",
              "      <td>It feels like a 2 star hotel masquerading as ...</td>\n",
              "      <td>5.2</td>\n",
              "    </tr>\n",
              "    <tr>\n",
              "      <th>494852</th>\n",
              "      <td>Quiet area good breakfast and nice clean hotel</td>\n",
              "      <td>Air con was ineffective so it was pretty warm...</td>\n",
              "      <td>5.2</td>\n",
              "    </tr>\n",
              "    <tr>\n",
              "      <th>494853</th>\n",
              "      <td>No Positive</td>\n",
              "      <td>pas de chaines internationales</td>\n",
              "      <td>5.2</td>\n",
              "    </tr>\n",
              "    <tr>\n",
              "      <th>494854</th>\n",
              "      <td>V friendly staff</td>\n",
              "      <td>Ac not good</td>\n",
              "      <td>5.2</td>\n",
              "    </tr>\n",
              "    <tr>\n",
              "      <th>494855</th>\n",
              "      <td>Friendly and available staff Location is very...</td>\n",
              "      <td>Not very clean for 4 star</td>\n",
              "      <td>5.2</td>\n",
              "    </tr>\n",
              "  </tbody>\n",
              "</table>\n",
              "<p>65 rows × 3 columns</p>\n",
              "</div>"
            ],
            "text/plain": [
              "                                          Positive_Review  ... Average_Score\n",
              "494791                                        No Positive  ...           5.2\n",
              "494792   Good location quiet if rooms are on the inter...  ...           5.2\n",
              "494793   Great location with public transport links on...  ...           5.2\n",
              "494794                                         Tram lines  ...           5.2\n",
              "494795                                Breakfast was good   ...           5.2\n",
              "...                                                   ...  ...           ...\n",
              "494851                                        No Positive  ...           5.2\n",
              "494852    Quiet area good breakfast and nice clean hotel   ...           5.2\n",
              "494853                                        No Positive  ...           5.2\n",
              "494854                                   V friendly staff  ...           5.2\n",
              "494855   Friendly and available staff Location is very...  ...           5.2\n",
              "\n",
              "[65 rows x 3 columns]"
            ]
          },
          "metadata": {
            "tags": []
          },
          "execution_count": 17
        }
      ]
    },
    {
      "cell_type": "markdown",
      "metadata": {
        "id": "fwQBrjWjxsIc"
      },
      "source": [
        "#Part 2"
      ]
    },
    {
      "cell_type": "code",
      "metadata": {
        "colab": {
          "base_uri": "https://localhost:8080/",
          "height": 206
        },
        "id": "YXWg264hxtXG",
        "outputId": "cce49174-c218-4361-ec88-9c845f40b330"
      },
      "source": [
        "import pandas as pd\n",
        "\n",
        "# read data\n",
        "reviews_df = pd.read_csv(\"/content/Hotel_Reviews.csv\")\n",
        "# append the positive and negative text reviews\n",
        "reviews_df[\"review\"] = reviews_df[\"Negative_Review\"] + reviews_df[\"Positive_Review\"]\n",
        "# create the label\n",
        "reviews_df[\"is_bad_review\"] = reviews_df[\"Reviewer_Score\"].apply(lambda x: 1 if x < 5 else 0)\n",
        "# select only relevant columns\n",
        "reviews_df = reviews_df[[\"review\", \"is_bad_review\"]]\n",
        "reviews_df.head()"
      ],
      "execution_count": 18,
      "outputs": [
        {
          "output_type": "execute_result",
          "data": {
            "text/html": [
              "<div>\n",
              "<style scoped>\n",
              "    .dataframe tbody tr th:only-of-type {\n",
              "        vertical-align: middle;\n",
              "    }\n",
              "\n",
              "    .dataframe tbody tr th {\n",
              "        vertical-align: top;\n",
              "    }\n",
              "\n",
              "    .dataframe thead th {\n",
              "        text-align: right;\n",
              "    }\n",
              "</style>\n",
              "<table border=\"1\" class=\"dataframe\">\n",
              "  <thead>\n",
              "    <tr style=\"text-align: right;\">\n",
              "      <th></th>\n",
              "      <th>review</th>\n",
              "      <th>is_bad_review</th>\n",
              "    </tr>\n",
              "  </thead>\n",
              "  <tbody>\n",
              "    <tr>\n",
              "      <th>0</th>\n",
              "      <td>I am so angry that i made this post available...</td>\n",
              "      <td>1</td>\n",
              "    </tr>\n",
              "    <tr>\n",
              "      <th>1</th>\n",
              "      <td>No Negative No real complaints the hotel was g...</td>\n",
              "      <td>0</td>\n",
              "    </tr>\n",
              "    <tr>\n",
              "      <th>2</th>\n",
              "      <td>Rooms are nice but for elderly a bit difficul...</td>\n",
              "      <td>0</td>\n",
              "    </tr>\n",
              "    <tr>\n",
              "      <th>3</th>\n",
              "      <td>My room was dirty and I was afraid to walk ba...</td>\n",
              "      <td>1</td>\n",
              "    </tr>\n",
              "    <tr>\n",
              "      <th>4</th>\n",
              "      <td>You When I booked with your company on line y...</td>\n",
              "      <td>0</td>\n",
              "    </tr>\n",
              "  </tbody>\n",
              "</table>\n",
              "</div>"
            ],
            "text/plain": [
              "                                              review  is_bad_review\n",
              "0   I am so angry that i made this post available...              1\n",
              "1  No Negative No real complaints the hotel was g...              0\n",
              "2   Rooms are nice but for elderly a bit difficul...              0\n",
              "3   My room was dirty and I was afraid to walk ba...              1\n",
              "4   You When I booked with your company on line y...              0"
            ]
          },
          "metadata": {
            "tags": []
          },
          "execution_count": 18
        }
      ]
    }
  ]
}