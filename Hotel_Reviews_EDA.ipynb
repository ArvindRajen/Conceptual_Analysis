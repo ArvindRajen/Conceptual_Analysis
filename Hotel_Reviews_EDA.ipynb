{
  "nbformat": 4,
  "nbformat_minor": 0,
  "metadata": {
    "colab": {
      "name": "Hotel_Reviews_EDA.ipynb",
      "provenance": [],
      "authorship_tag": "ABX9TyNf/Qzk++1KboDzGqrU1hKp",
      "include_colab_link": true
    },
    "kernelspec": {
      "name": "python3",
      "display_name": "Python 3"
    }
  },
  "cells": [
    {
      "cell_type": "markdown",
      "metadata": {
        "id": "view-in-github",
        "colab_type": "text"
      },
      "source": [
        "<a href=\"https://colab.research.google.com/github/ArvindRajen/Conceptual_Analysis/blob/main/Hotel_Reviews_EDA.ipynb\" target=\"_parent\"><img src=\"https://colab.research.google.com/assets/colab-badge.svg\" alt=\"Open In Colab\"/></a>"
      ]
    },
    {
      "cell_type": "code",
      "metadata": {
        "id": "-InE0czsv1hZ"
      },
      "source": [
        "import pandas as pd\n",
        "import numpy as np\n",
        "import nltk"
      ],
      "execution_count": 1,
      "outputs": []
    },
    {
      "cell_type": "code",
      "metadata": {
        "colab": {
          "base_uri": "https://localhost:8080/",
          "height": 713
        },
        "id": "T214omBz1zWN",
        "outputId": "26474918-3378-4a8d-a9b8-269dfe9b90b0"
      },
      "source": [
        "import seaborn as sns; \n",
        "import matplotlib.pyplot as plt\n",
        "# Input data files are available in the \"../input/\" directory.\n",
        "# For example, running this (by clicking run or pressing Shift+Enter) will list the files in the input directory\n",
        "\n",
        "import os\n",
        "print(os.listdir(\"/content\"))\n",
        "df = pd.read_csv('/content/Hotel_Reviews.csv')\n",
        "df.head()"
      ],
      "execution_count": 2,
      "outputs": [
        {
          "output_type": "stream",
          "text": [
            "['.config', 'Hotel_Reviews.csv', 'sample_data']\n"
          ],
          "name": "stdout"
        },
        {
          "output_type": "execute_result",
          "data": {
            "text/html": [
              "<div>\n",
              "<style scoped>\n",
              "    .dataframe tbody tr th:only-of-type {\n",
              "        vertical-align: middle;\n",
              "    }\n",
              "\n",
              "    .dataframe tbody tr th {\n",
              "        vertical-align: top;\n",
              "    }\n",
              "\n",
              "    .dataframe thead th {\n",
              "        text-align: right;\n",
              "    }\n",
              "</style>\n",
              "<table border=\"1\" class=\"dataframe\">\n",
              "  <thead>\n",
              "    <tr style=\"text-align: right;\">\n",
              "      <th></th>\n",
              "      <th>Hotel_Address</th>\n",
              "      <th>Additional_Number_of_Scoring</th>\n",
              "      <th>Review_Date</th>\n",
              "      <th>Average_Score</th>\n",
              "      <th>Hotel_Name</th>\n",
              "      <th>Reviewer_Nationality</th>\n",
              "      <th>Negative_Review</th>\n",
              "      <th>Review_Total_Negative_Word_Counts</th>\n",
              "      <th>Total_Number_of_Reviews</th>\n",
              "      <th>Positive_Review</th>\n",
              "      <th>Review_Total_Positive_Word_Counts</th>\n",
              "      <th>Total_Number_of_Reviews_Reviewer_Has_Given</th>\n",
              "      <th>Reviewer_Score</th>\n",
              "      <th>Tags</th>\n",
              "      <th>days_since_review</th>\n",
              "      <th>lat</th>\n",
              "      <th>lng</th>\n",
              "    </tr>\n",
              "  </thead>\n",
              "  <tbody>\n",
              "    <tr>\n",
              "      <th>0</th>\n",
              "      <td>s Gravesandestraat 55 Oost 1092 AA Amsterdam ...</td>\n",
              "      <td>194</td>\n",
              "      <td>8/3/2017</td>\n",
              "      <td>7.7</td>\n",
              "      <td>Hotel Arena</td>\n",
              "      <td>Russia</td>\n",
              "      <td>I am so angry that i made this post available...</td>\n",
              "      <td>397</td>\n",
              "      <td>1403</td>\n",
              "      <td>Only the park outside of the hotel was beauti...</td>\n",
              "      <td>11</td>\n",
              "      <td>7</td>\n",
              "      <td>2.9</td>\n",
              "      <td>[' Leisure trip ', ' Couple ', ' Duplex Double...</td>\n",
              "      <td>0 days</td>\n",
              "      <td>52.360576</td>\n",
              "      <td>4.915968</td>\n",
              "    </tr>\n",
              "    <tr>\n",
              "      <th>1</th>\n",
              "      <td>s Gravesandestraat 55 Oost 1092 AA Amsterdam ...</td>\n",
              "      <td>194</td>\n",
              "      <td>8/3/2017</td>\n",
              "      <td>7.7</td>\n",
              "      <td>Hotel Arena</td>\n",
              "      <td>Ireland</td>\n",
              "      <td>No Negative</td>\n",
              "      <td>0</td>\n",
              "      <td>1403</td>\n",
              "      <td>No real complaints the hotel was great great ...</td>\n",
              "      <td>105</td>\n",
              "      <td>7</td>\n",
              "      <td>7.5</td>\n",
              "      <td>[' Leisure trip ', ' Couple ', ' Duplex Double...</td>\n",
              "      <td>0 days</td>\n",
              "      <td>52.360576</td>\n",
              "      <td>4.915968</td>\n",
              "    </tr>\n",
              "    <tr>\n",
              "      <th>2</th>\n",
              "      <td>s Gravesandestraat 55 Oost 1092 AA Amsterdam ...</td>\n",
              "      <td>194</td>\n",
              "      <td>7/31/2017</td>\n",
              "      <td>7.7</td>\n",
              "      <td>Hotel Arena</td>\n",
              "      <td>Australia</td>\n",
              "      <td>Rooms are nice but for elderly a bit difficul...</td>\n",
              "      <td>42</td>\n",
              "      <td>1403</td>\n",
              "      <td>Location was good and staff were ok It is cut...</td>\n",
              "      <td>21</td>\n",
              "      <td>9</td>\n",
              "      <td>7.1</td>\n",
              "      <td>[' Leisure trip ', ' Family with young childre...</td>\n",
              "      <td>3 days</td>\n",
              "      <td>52.360576</td>\n",
              "      <td>4.915968</td>\n",
              "    </tr>\n",
              "    <tr>\n",
              "      <th>3</th>\n",
              "      <td>s Gravesandestraat 55 Oost 1092 AA Amsterdam ...</td>\n",
              "      <td>194</td>\n",
              "      <td>7/31/2017</td>\n",
              "      <td>7.7</td>\n",
              "      <td>Hotel Arena</td>\n",
              "      <td>United Kingdom</td>\n",
              "      <td>My room was dirty and I was afraid to walk ba...</td>\n",
              "      <td>210</td>\n",
              "      <td>1403</td>\n",
              "      <td>Great location in nice surroundings the bar a...</td>\n",
              "      <td>26</td>\n",
              "      <td>1</td>\n",
              "      <td>3.8</td>\n",
              "      <td>[' Leisure trip ', ' Solo traveler ', ' Duplex...</td>\n",
              "      <td>3 days</td>\n",
              "      <td>52.360576</td>\n",
              "      <td>4.915968</td>\n",
              "    </tr>\n",
              "    <tr>\n",
              "      <th>4</th>\n",
              "      <td>s Gravesandestraat 55 Oost 1092 AA Amsterdam ...</td>\n",
              "      <td>194</td>\n",
              "      <td>7/24/2017</td>\n",
              "      <td>7.7</td>\n",
              "      <td>Hotel Arena</td>\n",
              "      <td>New Zealand</td>\n",
              "      <td>You When I booked with your company on line y...</td>\n",
              "      <td>140</td>\n",
              "      <td>1403</td>\n",
              "      <td>Amazing location and building Romantic setting</td>\n",
              "      <td>8</td>\n",
              "      <td>3</td>\n",
              "      <td>6.7</td>\n",
              "      <td>[' Leisure trip ', ' Couple ', ' Suite ', ' St...</td>\n",
              "      <td>10 days</td>\n",
              "      <td>52.360576</td>\n",
              "      <td>4.915968</td>\n",
              "    </tr>\n",
              "  </tbody>\n",
              "</table>\n",
              "</div>"
            ],
            "text/plain": [
              "                                       Hotel_Address  ...       lng\n",
              "0   s Gravesandestraat 55 Oost 1092 AA Amsterdam ...  ...  4.915968\n",
              "1   s Gravesandestraat 55 Oost 1092 AA Amsterdam ...  ...  4.915968\n",
              "2   s Gravesandestraat 55 Oost 1092 AA Amsterdam ...  ...  4.915968\n",
              "3   s Gravesandestraat 55 Oost 1092 AA Amsterdam ...  ...  4.915968\n",
              "4   s Gravesandestraat 55 Oost 1092 AA Amsterdam ...  ...  4.915968\n",
              "\n",
              "[5 rows x 17 columns]"
            ]
          },
          "metadata": {
            "tags": []
          },
          "execution_count": 2
        }
      ]
    },
    {
      "cell_type": "code",
      "metadata": {
        "colab": {
          "base_uri": "https://localhost:8080/"
        },
        "id": "RETgp5ZK2ACB",
        "outputId": "f3cf5b1e-5fa5-4a60-e8e2-1af713fb07b2"
      },
      "source": [
        "df.shape"
      ],
      "execution_count": 3,
      "outputs": [
        {
          "output_type": "execute_result",
          "data": {
            "text/plain": [
              "(515738, 17)"
            ]
          },
          "metadata": {
            "tags": []
          },
          "execution_count": 3
        }
      ]
    },
    {
      "cell_type": "markdown",
      "metadata": {
        "id": "AzXBws0q2J_l"
      },
      "source": [
        "We need to know how many hotels we are looking at so :"
      ]
    },
    {
      "cell_type": "code",
      "metadata": {
        "colab": {
          "base_uri": "https://localhost:8080/"
        },
        "id": "KSecmQSe2H-G",
        "outputId": "4cfb3953-c212-413b-8a22-7d4febe2d4da"
      },
      "source": [
        "print(df.Hotel_Name.nunique(), 'hotels in the dataset')"
      ],
      "execution_count": 4,
      "outputs": [
        {
          "output_type": "stream",
          "text": [
            "1492 hotels in the dataset\n"
          ],
          "name": "stdout"
        }
      ]
    },
    {
      "cell_type": "markdown",
      "metadata": {
        "id": "mm64ymcs2UpF"
      },
      "source": [
        "Now that we know there *1492* Hotels in the data set we now look at the average reviews of the hotel. "
      ]
    },
    {
      "cell_type": "code",
      "metadata": {
        "colab": {
          "base_uri": "https://localhost:8080/",
          "height": 408
        },
        "id": "gRgcaH_c2RJE",
        "outputId": "83a01b82-cf78-4a84-a8bb-453b1de11cac"
      },
      "source": [
        "df_uni = df[['Hotel_Name','Average_Score']].drop_duplicates()\n",
        "plt.figure(figsize = (14,6))\n",
        "sns.countplot(x = 'Average_Score',data = df_uni,color = 'orange')"
      ],
      "execution_count": 5,
      "outputs": [
        {
          "output_type": "execute_result",
          "data": {
            "text/plain": [
              "<matplotlib.axes._subplots.AxesSubplot at 0x7f5fbed416a0>"
            ]
          },
          "metadata": {
            "tags": []
          },
          "execution_count": 5
        },
        {
          "output_type": "display_data",
          "data": {
            "image/png": "[encoded data removed]",
            "text/plain": [
              "<Figure size 1008x432 with 1 Axes>"
            ]
          },
          "metadata": {
            "tags": [],
            "needs_background": "light"
          }
        }
      ]
    },
    {
      "cell_type": "markdown",
      "metadata": {
        "id": "MZADvAeF2inP"
      },
      "source": [
        "This is interesting as the average scores indicate that most reviews lie between 8 - 9, meaning that the hotels within the dataset are generally pretty good but we know that the human mind is a thing of many intricacies and words can sometimes convey a different meaning to when we use numbers"
      ]
    },
    {
      "cell_type": "code",
      "metadata": {
        "colab": {
          "base_uri": "https://localhost:8080/"
        },
        "id": "Uw61MV_P3OBU",
        "outputId": "4bb50d92-357e-4929-8cc0-7e06a76602e5"
      },
      "source": [
        "df.Average_Score.describe()"
      ],
      "execution_count": 6,
      "outputs": [
        {
          "output_type": "execute_result",
          "data": {
            "text/plain": [
              "count    515738.000000\n",
              "mean          8.397487\n",
              "std           0.548048\n",
              "min           5.200000\n",
              "25%           8.100000\n",
              "50%           8.400000\n",
              "75%           8.800000\n",
              "max           9.800000\n",
              "Name: Average_Score, dtype: float64"
            ]
          },
          "metadata": {
            "tags": []
          },
          "execution_count": 6
        }
      ]
    },
    {
      "cell_type": "code",
      "metadata": {
        "colab": {
          "base_uri": "https://localhost:8080/",
          "height": 36
        },
        "id": "vgBQnc1u3XqG",
        "outputId": "8fa4b8b9-ad75-49f1-8dc7-eb8323dba978"
      },
      "source": [
        "df.Hotel_Address[10]"
      ],
      "execution_count": 10,
      "outputs": [
        {
          "output_type": "execute_result",
          "data": {
            "application/vnd.google.colaboratory.intrinsic+json": {
              "type": "string"
            },
            "text/plain": [
              "' s Gravesandestraat 55 Oost 1092 AA Amsterdam Netherlands'"
            ]
          },
          "metadata": {
            "tags": []
          },
          "execution_count": 10
        }
      ]
    },
    {
      "cell_type": "code",
      "metadata": {
        "colab": {
          "base_uri": "https://localhost:8080/",
          "height": 355
        },
        "id": "x4AclJAM3g-5",
        "outputId": "198a8e10-12f3-4e44-d174-9c37d6fb4da3"
      },
      "source": [
        "df.Hotel_Address = df.Hotel_Address.str.replace('United Kingdom','UK')\n",
        "df['State'] = df.Hotel_Address.apply(lambda x: x.split(' ')[-1])\n",
        "# Now we can check distribution in  and in state\n",
        "plt.figure(figsize = (12,5))\n",
        "plt.title('Hotel distribution in States')\n",
        "df.State.value_counts().plot.barh(color = 'orange')"
      ],
      "execution_count": 11,
      "outputs": [
        {
          "output_type": "execute_result",
          "data": {
            "text/plain": [
              "<matplotlib.axes._subplots.AxesSubplot at 0x7f5fbb0962b0>"
            ]
          },
          "metadata": {
            "tags": []
          },
          "execution_count": 11
        },
        {
          "output_type": "display_data",
          "data": {
            "image/png": "[encoded data removed]",
            "text/plain": [
              "<Figure size 864x360 with 1 Axes>"
            ]
          },
          "metadata": {
            "tags": [],
            "needs_background": "light"
          }
        }
      ]
    },
    {
      "cell_type": "code",
      "metadata": {
        "colab": {
          "base_uri": "https://localhost:8080/",
          "height": 520
        },
        "id": "nF4ilfXi35PE",
        "outputId": "511eee22-3640-4464-f993-c6b19b80d037"
      },
      "source": [
        "df[df.Average_Score >= 8.8][['Hotel_Name','Average_Score','Total_Number_of_Reviews']].drop_duplicates().sort_values(by ='Total_Number_of_Reviews',ascending = False)[:15]"
      ],
      "execution_count": 15,
      "outputs": [
        {
          "output_type": "execute_result",
          "data": {
            "text/html": [
              "<div>\n",
              "<style scoped>\n",
              "    .dataframe tbody tr th:only-of-type {\n",
              "        vertical-align: middle;\n",
              "    }\n",
              "\n",
              "    .dataframe tbody tr th {\n",
              "        vertical-align: top;\n",
              "    }\n",
              "\n",
              "    .dataframe thead th {\n",
              "        text-align: right;\n",
              "    }\n",
              "</style>\n",
              "<table border=\"1\" class=\"dataframe\">\n",
              "  <thead>\n",
              "    <tr style=\"text-align: right;\">\n",
              "      <th></th>\n",
              "      <th>Hotel_Name</th>\n",
              "      <th>Average_Score</th>\n",
              "      <th>Total_Number_of_Reviews</th>\n",
              "    </tr>\n",
              "  </thead>\n",
              "  <tbody>\n",
              "    <tr>\n",
              "      <th>404728</th>\n",
              "      <td>Glam Milano</td>\n",
              "      <td>8.8</td>\n",
              "      <td>7371</td>\n",
              "    </tr>\n",
              "    <tr>\n",
              "      <th>309843</th>\n",
              "      <td>Jaz Amsterdam</td>\n",
              "      <td>8.9</td>\n",
              "      <td>7108</td>\n",
              "    </tr>\n",
              "    <tr>\n",
              "      <th>327773</th>\n",
              "      <td>Ayre Hotel Gran V a</td>\n",
              "      <td>8.8</td>\n",
              "      <td>4887</td>\n",
              "    </tr>\n",
              "    <tr>\n",
              "      <th>57597</th>\n",
              "      <td>M by Montcalm Shoreditch London Tech City</td>\n",
              "      <td>9.1</td>\n",
              "      <td>4802</td>\n",
              "    </tr>\n",
              "    <tr>\n",
              "      <th>450210</th>\n",
              "      <td>Hotel Esther a</td>\n",
              "      <td>9.1</td>\n",
              "      <td>4687</td>\n",
              "    </tr>\n",
              "    <tr>\n",
              "      <th>180550</th>\n",
              "      <td>citizenM Tower of London</td>\n",
              "      <td>9.1</td>\n",
              "      <td>4672</td>\n",
              "    </tr>\n",
              "    <tr>\n",
              "      <th>370315</th>\n",
              "      <td>25hours Hotel beim MuseumsQuartier</td>\n",
              "      <td>8.8</td>\n",
              "      <td>4324</td>\n",
              "    </tr>\n",
              "    <tr>\n",
              "      <th>361190</th>\n",
              "      <td>Hilton London Wembley</td>\n",
              "      <td>8.8</td>\n",
              "      <td>4305</td>\n",
              "    </tr>\n",
              "    <tr>\n",
              "      <th>14829</th>\n",
              "      <td>Intercontinental London The O2</td>\n",
              "      <td>9.4</td>\n",
              "      <td>4204</td>\n",
              "    </tr>\n",
              "    <tr>\n",
              "      <th>470003</th>\n",
              "      <td>The Square Milano Duomo</td>\n",
              "      <td>9.0</td>\n",
              "      <td>4192</td>\n",
              "    </tr>\n",
              "    <tr>\n",
              "      <th>347200</th>\n",
              "      <td>Room Mate Aitana</td>\n",
              "      <td>8.8</td>\n",
              "      <td>4097</td>\n",
              "    </tr>\n",
              "    <tr>\n",
              "      <th>483570</th>\n",
              "      <td>Hotel Berna</td>\n",
              "      <td>9.2</td>\n",
              "      <td>4017</td>\n",
              "    </tr>\n",
              "    <tr>\n",
              "      <th>428187</th>\n",
              "      <td>Austria Trend Hotel Savoyen Vienna</td>\n",
              "      <td>8.9</td>\n",
              "      <td>4016</td>\n",
              "    </tr>\n",
              "    <tr>\n",
              "      <th>464405</th>\n",
              "      <td>Hotel Stefanie</td>\n",
              "      <td>9.1</td>\n",
              "      <td>3883</td>\n",
              "    </tr>\n",
              "    <tr>\n",
              "      <th>96177</th>\n",
              "      <td>citizenM London Bankside</td>\n",
              "      <td>9.1</td>\n",
              "      <td>3802</td>\n",
              "    </tr>\n",
              "  </tbody>\n",
              "</table>\n",
              "</div>"
            ],
            "text/plain": [
              "                                       Hotel_Name  ...  Total_Number_of_Reviews\n",
              "404728                                Glam Milano  ...                     7371\n",
              "309843                              Jaz Amsterdam  ...                     7108\n",
              "327773                        Ayre Hotel Gran V a  ...                     4887\n",
              "57597   M by Montcalm Shoreditch London Tech City  ...                     4802\n",
              "450210                             Hotel Esther a  ...                     4687\n",
              "180550                   citizenM Tower of London  ...                     4672\n",
              "370315         25hours Hotel beim MuseumsQuartier  ...                     4324\n",
              "361190                      Hilton London Wembley  ...                     4305\n",
              "14829              Intercontinental London The O2  ...                     4204\n",
              "470003                    The Square Milano Duomo  ...                     4192\n",
              "347200                           Room Mate Aitana  ...                     4097\n",
              "483570                                Hotel Berna  ...                     4017\n",
              "428187         Austria Trend Hotel Savoyen Vienna  ...                     4016\n",
              "464405                             Hotel Stefanie  ...                     3883\n",
              "96177                    citizenM London Bankside  ...                     3802\n",
              "\n",
              "[15 rows x 3 columns]"
            ]
          },
          "metadata": {
            "tags": []
          },
          "execution_count": 15
        }
      ]
    },
    {
      "cell_type": "code",
      "metadata": {
        "colab": {
          "base_uri": "https://localhost:8080/",
          "height": 363
        },
        "id": "aK8GKcUI4F5i",
        "outputId": "5d6e10b4-7312-428f-d8ef-16a630bda0bf"
      },
      "source": [
        "#split city\n",
        "df['City']= df.Hotel_Address.apply(lambda x: x.split(' ')[-2])\n",
        "# find the best 10 hotels in Amsterdam\n",
        "df[(df.Average_Score >= 9.0) & (df.City == 'Amsterdam')][['Hotel_Name','Average_Score']].drop_duplicates().sort_values(by ='Average_Score',ascending = False)[:10]"
      ],
      "execution_count": 16,
      "outputs": [
        {
          "output_type": "execute_result",
          "data": {
            "text/html": [
              "<div>\n",
              "<style scoped>\n",
              "    .dataframe tbody tr th:only-of-type {\n",
              "        vertical-align: middle;\n",
              "    }\n",
              "\n",
              "    .dataframe tbody tr th {\n",
              "        vertical-align: top;\n",
              "    }\n",
              "\n",
              "    .dataframe thead th {\n",
              "        text-align: right;\n",
              "    }\n",
              "</style>\n",
              "<table border=\"1\" class=\"dataframe\">\n",
              "  <thead>\n",
              "    <tr style=\"text-align: right;\">\n",
              "      <th></th>\n",
              "      <th>Hotel_Name</th>\n",
              "      <th>Average_Score</th>\n",
              "    </tr>\n",
              "  </thead>\n",
              "  <tbody>\n",
              "    <tr>\n",
              "      <th>341657</th>\n",
              "      <td>Waldorf Astoria Amsterdam</td>\n",
              "      <td>9.5</td>\n",
              "    </tr>\n",
              "    <tr>\n",
              "      <th>270116</th>\n",
              "      <td>Pillows Anna van den Vondel Amsterdam</td>\n",
              "      <td>9.4</td>\n",
              "    </tr>\n",
              "    <tr>\n",
              "      <th>356072</th>\n",
              "      <td>The Toren</td>\n",
              "      <td>9.4</td>\n",
              "    </tr>\n",
              "    <tr>\n",
              "      <th>393386</th>\n",
              "      <td>Luxury Suites Amsterdam</td>\n",
              "      <td>9.3</td>\n",
              "    </tr>\n",
              "    <tr>\n",
              "      <th>421334</th>\n",
              "      <td>Andaz Amsterdam Prinsengracht A Hyatt Hotel</td>\n",
              "      <td>9.3</td>\n",
              "    </tr>\n",
              "    <tr>\n",
              "      <th>340344</th>\n",
              "      <td>The Hoxton Amsterdam</td>\n",
              "      <td>9.3</td>\n",
              "    </tr>\n",
              "    <tr>\n",
              "      <th>340753</th>\n",
              "      <td>Ambassade Hotel</td>\n",
              "      <td>9.3</td>\n",
              "    </tr>\n",
              "    <tr>\n",
              "      <th>355888</th>\n",
              "      <td>Canal House</td>\n",
              "      <td>9.3</td>\n",
              "    </tr>\n",
              "    <tr>\n",
              "      <th>393615</th>\n",
              "      <td>Sofitel Legend The Grand Amsterdam</td>\n",
              "      <td>9.2</td>\n",
              "    </tr>\n",
              "    <tr>\n",
              "      <th>469602</th>\n",
              "      <td>Conservatorium Hotel</td>\n",
              "      <td>9.2</td>\n",
              "    </tr>\n",
              "  </tbody>\n",
              "</table>\n",
              "</div>"
            ],
            "text/plain": [
              "                                         Hotel_Name  Average_Score\n",
              "341657                    Waldorf Astoria Amsterdam            9.5\n",
              "270116        Pillows Anna van den Vondel Amsterdam            9.4\n",
              "356072                                    The Toren            9.4\n",
              "393386                      Luxury Suites Amsterdam            9.3\n",
              "421334  Andaz Amsterdam Prinsengracht A Hyatt Hotel            9.3\n",
              "340344                         The Hoxton Amsterdam            9.3\n",
              "340753                              Ambassade Hotel            9.3\n",
              "355888                                  Canal House            9.3\n",
              "393615           Sofitel Legend The Grand Amsterdam            9.2\n",
              "469602                         Conservatorium Hotel            9.2"
            ]
          },
          "metadata": {
            "tags": []
          },
          "execution_count": 16
        }
      ]
    },
    {
      "cell_type": "code",
      "metadata": {
        "colab": {
          "base_uri": "https://localhost:8080/",
          "height": 363
        },
        "id": "ERR_XoEq4ePn",
        "outputId": "9dc923b6-a6ac-44bc-9ed8-26e2b510e45f"
      },
      "source": [
        "# find the worst 10 hotels in Paris\n",
        "df[(df.Average_Score <= 8.1) & (df.City == 'Paris')][['Hotel_Name','Average_Score']].drop_duplicates().sort_values(by ='Average_Score',ascending = True)[:10]"
      ],
      "execution_count": 17,
      "outputs": [
        {
          "output_type": "execute_result",
          "data": {
            "text/html": [
              "<div>\n",
              "<style scoped>\n",
              "    .dataframe tbody tr th:only-of-type {\n",
              "        vertical-align: middle;\n",
              "    }\n",
              "\n",
              "    .dataframe tbody tr th {\n",
              "        vertical-align: top;\n",
              "    }\n",
              "\n",
              "    .dataframe thead th {\n",
              "        text-align: right;\n",
              "    }\n",
              "</style>\n",
              "<table border=\"1\" class=\"dataframe\">\n",
              "  <thead>\n",
              "    <tr style=\"text-align: right;\">\n",
              "      <th></th>\n",
              "      <th>Hotel_Name</th>\n",
              "      <th>Average_Score</th>\n",
              "    </tr>\n",
              "  </thead>\n",
              "  <tbody>\n",
              "    <tr>\n",
              "      <th>68936</th>\n",
              "      <td>Villa Eugenie</td>\n",
              "      <td>6.8</td>\n",
              "    </tr>\n",
              "    <tr>\n",
              "      <th>209504</th>\n",
              "      <td>Villa Lut ce Port Royal</td>\n",
              "      <td>7.0</td>\n",
              "    </tr>\n",
              "    <tr>\n",
              "      <th>218258</th>\n",
              "      <td>Hotel Royal Elys es</td>\n",
              "      <td>7.0</td>\n",
              "    </tr>\n",
              "    <tr>\n",
              "      <th>135430</th>\n",
              "      <td>Hyatt Regency Paris Etoile</td>\n",
              "      <td>7.1</td>\n",
              "    </tr>\n",
              "    <tr>\n",
              "      <th>22189</th>\n",
              "      <td>Holiday Inn Paris Montparnasse Pasteur</td>\n",
              "      <td>7.1</td>\n",
              "    </tr>\n",
              "    <tr>\n",
              "      <th>220893</th>\n",
              "      <td>Amarante Beau Manoir</td>\n",
              "      <td>7.2</td>\n",
              "    </tr>\n",
              "    <tr>\n",
              "      <th>206499</th>\n",
              "      <td>Mercure Paris Champs Elys es</td>\n",
              "      <td>7.2</td>\n",
              "    </tr>\n",
              "    <tr>\n",
              "      <th>229326</th>\n",
              "      <td>Best Western Hotel Montmartre Sacr Coeur</td>\n",
              "      <td>7.2</td>\n",
              "    </tr>\n",
              "    <tr>\n",
              "      <th>3813</th>\n",
              "      <td>Kube Hotel Ice Bar</td>\n",
              "      <td>7.2</td>\n",
              "    </tr>\n",
              "    <tr>\n",
              "      <th>168654</th>\n",
              "      <td>H tel De Castiglione</td>\n",
              "      <td>7.2</td>\n",
              "    </tr>\n",
              "  </tbody>\n",
              "</table>\n",
              "</div>"
            ],
            "text/plain": [
              "                                      Hotel_Name  Average_Score\n",
              "68936                              Villa Eugenie            6.8\n",
              "209504                   Villa Lut ce Port Royal            7.0\n",
              "218258                       Hotel Royal Elys es            7.0\n",
              "135430                Hyatt Regency Paris Etoile            7.1\n",
              "22189     Holiday Inn Paris Montparnasse Pasteur            7.1\n",
              "220893                      Amarante Beau Manoir            7.2\n",
              "206499              Mercure Paris Champs Elys es            7.2\n",
              "229326  Best Western Hotel Montmartre Sacr Coeur            7.2\n",
              "3813                          Kube Hotel Ice Bar            7.2\n",
              "168654                      H tel De Castiglione            7.2"
            ]
          },
          "metadata": {
            "tags": []
          },
          "execution_count": 17
        }
      ]
    },
    {
      "cell_type": "code",
      "metadata": {
        "id": "jG3dghGX5_S9"
      },
      "source": [
        "df_com = df[['Hotel_Name','Reviewer_Score','Negative_Review','Review_Total_Negative_Word_Counts','Positive_Review','Review_Total_Positive_Word_Counts',\n",
        "             'Total_Number_of_Reviews','Total_Number_of_Reviews_Reviewer_Has_Given']]"
      ],
      "execution_count": 19,
      "outputs": []
    },
    {
      "cell_type": "code",
      "metadata": {
        "colab": {
          "base_uri": "https://localhost:8080/"
        },
        "id": "-DtjRqDs6VXn",
        "outputId": "45140860-c44c-4e1f-fcb8-06ccac494baf"
      },
      "source": [
        "nltk.download('stopwords')\n",
        "nltk.download('punkt')\n",
        "nltk.download('wordnet')"
      ],
      "execution_count": 26,
      "outputs": [
        {
          "output_type": "stream",
          "text": [
            "[nltk_data] Downloading package stopwords to /root/nltk_data...\n",
            "[nltk_data]   Package stopwords is already up-to-date!\n",
            "[nltk_data] Downloading package punkt to /root/nltk_data...\n",
            "[nltk_data]   Package punkt is already up-to-date!\n",
            "[nltk_data] Downloading package wordnet to /root/nltk_data...\n",
            "[nltk_data]   Unzipping corpora/wordnet.zip.\n"
          ],
          "name": "stdout"
        },
        {
          "output_type": "execute_result",
          "data": {
            "text/plain": [
              "True"
            ]
          },
          "metadata": {
            "tags": []
          },
          "execution_count": 26
        }
      ]
    },
    {
      "cell_type": "code",
      "metadata": {
        "id": "7sJKoLYy6EiH"
      },
      "source": [
        "# Create NLP and machine learning environment\n",
        "import re, nltk\n",
        "from nltk.stem import WordNetLemmatizer\n",
        "from nltk.corpus import stopwords\n",
        "stop_words = set(stopwords.words('english'))\n",
        "wordnet_lemmatizer = WordNetLemmatizer()\n",
        "from sklearn.feature_extraction.text import CountVectorizer\n",
        "\n",
        "#NLP prepross neg and pos reviews\n",
        "neg = []\n",
        "for i in df_com['Negative_Review']:\n",
        "    letters = re.sub('[^a-zA-Z]',' ',i)\n",
        "    tokens = nltk.word_tokenize(letters)\n",
        "    lowercase = [l.lower() for l in tokens]\n",
        "    filtered_result = list(filter(lambda l: l not in stop_words, lowercase))\n",
        "    lemmas = [wordnet_lemmatizer.lemmatize(t) for t in filtered_result] \n",
        "    neg.append(' '.join(lemmas))\n",
        "    \n",
        "pos = []\n",
        "for i in df_com['Positive_Review']:\n",
        "    pletters = re.sub('[^a-zA-Z]',' ',i)\n",
        "    ptokens = nltk.word_tokenize(pletters)\n",
        "    plowercase = [l.lower() for l in ptokens]\n",
        "    filtered_presult = list(filter(lambda l: l not in stop_words, plowercase))\n",
        "    plemmas = [wordnet_lemmatizer.lemmatize(t) for t in filtered_presult] \n",
        "    pos.append(' '.join(plemmas))\n",
        "\n"
      ],
      "execution_count": 27,
      "outputs": []
    },
    {
      "cell_type": "code",
      "metadata": {
        "colab": {
          "base_uri": "https://localhost:8080/",
          "height": 859
        },
        "id": "h3VOZA3e6NmU",
        "outputId": "0820a06b-5cf3-447b-9709-731c95b5052d"
      },
      "source": [
        "#Finding most important words in Negative Reviews and in Postive Reviews\n",
        "cv = CountVectorizer(analyzer = 'word',stop_words = 'english',max_features = 20,ngram_range=(2,2))\n",
        "most_negative_words = cv.fit_transform(neg)\n",
        "temp_counts = most_negative_words.sum(axis=0)\n",
        "temp_words = cv.vocabulary_\n",
        "print('the most important words in Negative Reviews:')\n",
        "print('--------------------------------------------')\n",
        "display(temp_words)\n",
        "\n",
        "print('                                          ')\n",
        "cv = CountVectorizer(analyzer = 'word',stop_words = 'english',max_features = 20,ngram_range=(2,2))\n",
        "most_positive_words = cv.fit_transform(pos)\n",
        "temp1_counts = most_positive_words.sum(axis=0)\n",
        "temp1_words = cv.vocabulary_\n",
        "print('the most important words in Positive Reviews:')\n",
        "print('--------------------------------------------')\n",
        "temp1_words"
      ],
      "execution_count": 28,
      "outputs": [
        {
          "output_type": "stream",
          "text": [
            "the most important words in Negative Reviews:\n",
            "--------------------------------------------\n"
          ],
          "name": "stdout"
        },
        {
          "output_type": "display_data",
          "data": {
            "text/plain": [
              "{'air conditioning': 0,\n",
              " 'bit small': 1,\n",
              " 'booking com': 2,\n",
              " 'breakfast expensive': 3,\n",
              " 'breakfast included': 4,\n",
              " 'breakfast room': 5,\n",
              " 'double bed': 6,\n",
              " 'double room': 7,\n",
              " 'hotel room': 8,\n",
              " 'little bit': 9,\n",
              " 'mini bar': 10,\n",
              " 'room bit': 11,\n",
              " 'room little': 12,\n",
              " 'room room': 13,\n",
              " 'room service': 14,\n",
              " 'room small': 15,\n",
              " 'small room': 16,\n",
              " 'star hotel': 17,\n",
              " 'tea coffee': 18,\n",
              " 'wi fi': 19}"
            ]
          },
          "metadata": {
            "tags": []
          }
        },
        {
          "output_type": "stream",
          "text": [
            "                                          \n",
            "the most important words in Positive Reviews:\n",
            "--------------------------------------------\n"
          ],
          "name": "stdout"
        },
        {
          "output_type": "execute_result",
          "data": {
            "text/plain": [
              "{'bed comfortable': 0,\n",
              " 'breakfast good': 1,\n",
              " 'clean room': 2,\n",
              " 'comfortable bed': 3,\n",
              " 'comfortable room': 4,\n",
              " 'comfy bed': 5,\n",
              " 'excellent location': 6,\n",
              " 'friendly helpful': 7,\n",
              " 'friendly staff': 8,\n",
              " 'good breakfast': 9,\n",
              " 'good location': 10,\n",
              " 'great location': 11,\n",
              " 'helpful staff': 12,\n",
              " 'location excellent': 13,\n",
              " 'location good': 14,\n",
              " 'location great': 15,\n",
              " 'room clean': 16,\n",
              " 'staff friendly': 17,\n",
              " 'staff helpful': 18,\n",
              " 'walking distance': 19}"
            ]
          },
          "metadata": {
            "tags": []
          },
          "execution_count": 28
        }
      ]
    }
  ]
}