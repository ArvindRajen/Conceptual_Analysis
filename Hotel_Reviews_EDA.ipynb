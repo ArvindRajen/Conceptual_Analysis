{
  "nbformat": 4,
  "nbformat_minor": 0,
  "metadata": {
    "colab": {
      "name": "Hotel_Reviews_EDA.ipynb",
      "provenance": [],
      "authorship_tag": "ABX9TyNCMhoRrxNvA0pM5CYp3zUp",
      "include_colab_link": true
    },
    "kernelspec": {
      "name": "python3",
      "display_name": "Python 3"
    }
  },
  "cells": [
    {
      "cell_type": "markdown",
      "metadata": {
        "id": "view-in-github",
        "colab_type": "text"
      },
      "source": [
        "<a href=\"https://colab.research.google.com/github/ArvindRajen/Conceptual_Analysis/blob/main/Hotel_Reviews_EDA.ipynb\" target=\"_parent\"><img src=\"https://colab.research.google.com/assets/colab-badge.svg\" alt=\"Open In Colab\"/></a>"
      ]
    },
    {
      "cell_type": "markdown",
      "metadata": {
        "id": "c8jXKQquGNUy"
      },
      "source": [
        "# Part 1 - **Exploratory Data Analysis**\n"
      ]
    },
    {
      "cell_type": "code",
      "metadata": {
        "id": "-InE0czsv1hZ",
        "colab": {
          "base_uri": "https://localhost:8080/"
        },
        "outputId": "5f46abbd-7ff9-4433-bddf-0158cd41d27f"
      },
      "source": [
        "import os, re, nltk, gensim\n",
        "import numpy as np\n",
        "import pandas as pd\n",
        "import seaborn as sns \n",
        "import matplotlib.pyplot as plt\n",
        "\n",
        "from wordcloud import WordCloud\n",
        "from nltk.corpus import stopwords\n",
        "from nltk.stem import WordNetLemmatizer\n",
        "from sklearn.feature_extraction.text import CountVectorizer\n",
        "\n",
        "nltk.download('punkt')\n",
        "nltk.download('wordnet')\n",
        "nltk.download('stopwords')\n",
        "nltk.download('vader_lexicon')\n",
        "nltk.download('averaged_perceptron_tagger')\n",
        "\n"
      ],
      "execution_count": 4,
      "outputs": [
        {
          "output_type": "stream",
          "text": [
            "[nltk_data] Downloading package punkt to /root/nltk_data...\n",
            "[nltk_data]   Package punkt is already up-to-date!\n",
            "[nltk_data] Downloading package wordnet to /root/nltk_data...\n",
            "[nltk_data]   Package wordnet is already up-to-date!\n",
            "[nltk_data] Downloading package stopwords to /root/nltk_data...\n",
            "[nltk_data]   Package stopwords is already up-to-date!\n",
            "[nltk_data] Downloading package vader_lexicon to /root/nltk_data...\n",
            "[nltk_data]   Package vader_lexicon is already up-to-date!\n",
            "[nltk_data] Downloading package averaged_perceptron_tagger to\n",
            "[nltk_data]     /root/nltk_data...\n",
            "[nltk_data]   Package averaged_perceptron_tagger is already up-to-\n",
            "[nltk_data]       date!\n"
          ],
          "name": "stdout"
        },
        {
          "output_type": "execute_result",
          "data": {
            "text/plain": [
              "True"
            ]
          },
          "metadata": {
            "tags": []
          },
          "execution_count": 4
        }
      ]
    },
    {
      "cell_type": "markdown",
      "metadata": {
        "id": "T_C0osSE7keq"
      },
      "source": [
        "Importing the File using Pandas"
      ]
    },
    {
      "cell_type": "code",
      "metadata": {
        "colab": {
          "base_uri": "https://localhost:8080/",
          "height": 713
        },
        "id": "T214omBz1zWN",
        "outputId": "1eb22ff5-e251-4225-c2c2-743ba87e1c4e"
      },
      "source": [
        "print(os.listdir(\"/content\"))\n",
        "df = pd.read_csv('/content/Hotel_Reviews.csv')\n",
        "df.head()"
      ],
      "execution_count": 5,
      "outputs": [
        {
          "output_type": "stream",
          "text": [
            "['.config', 'Hotel_Reviews.csv', 'sample_data']\n"
          ],
          "name": "stdout"
        },
        {
          "output_type": "execute_result",
          "data": {
            "text/html": [
              "<div>\n",
              "<style scoped>\n",
              "    .dataframe tbody tr th:only-of-type {\n",
              "        vertical-align: middle;\n",
              "    }\n",
              "\n",
              "    .dataframe tbody tr th {\n",
              "        vertical-align: top;\n",
              "    }\n",
              "\n",
              "    .dataframe thead th {\n",
              "        text-align: right;\n",
              "    }\n",
              "</style>\n",
              "<table border=\"1\" class=\"dataframe\">\n",
              "  <thead>\n",
              "    <tr style=\"text-align: right;\">\n",
              "      <th></th>\n",
              "      <th>Hotel_Address</th>\n",
              "      <th>Additional_Number_of_Scoring</th>\n",
              "      <th>Review_Date</th>\n",
              "      <th>Average_Score</th>\n",
              "      <th>Hotel_Name</th>\n",
              "      <th>Reviewer_Nationality</th>\n",
              "      <th>Negative_Review</th>\n",
              "      <th>Review_Total_Negative_Word_Counts</th>\n",
              "      <th>Total_Number_of_Reviews</th>\n",
              "      <th>Positive_Review</th>\n",
              "      <th>Review_Total_Positive_Word_Counts</th>\n",
              "      <th>Total_Number_of_Reviews_Reviewer_Has_Given</th>\n",
              "      <th>Reviewer_Score</th>\n",
              "      <th>Tags</th>\n",
              "      <th>days_since_review</th>\n",
              "      <th>lat</th>\n",
              "      <th>lng</th>\n",
              "    </tr>\n",
              "  </thead>\n",
              "  <tbody>\n",
              "    <tr>\n",
              "      <th>0</th>\n",
              "      <td>s Gravesandestraat 55 Oost 1092 AA Amsterdam ...</td>\n",
              "      <td>194</td>\n",
              "      <td>8/3/2017</td>\n",
              "      <td>7.7</td>\n",
              "      <td>Hotel Arena</td>\n",
              "      <td>Russia</td>\n",
              "      <td>I am so angry that i made this post available...</td>\n",
              "      <td>397</td>\n",
              "      <td>1403</td>\n",
              "      <td>Only the park outside of the hotel was beauti...</td>\n",
              "      <td>11</td>\n",
              "      <td>7</td>\n",
              "      <td>2.9</td>\n",
              "      <td>[' Leisure trip ', ' Couple ', ' Duplex Double...</td>\n",
              "      <td>0 days</td>\n",
              "      <td>52.360576</td>\n",
              "      <td>4.915968</td>\n",
              "    </tr>\n",
              "    <tr>\n",
              "      <th>1</th>\n",
              "      <td>s Gravesandestraat 55 Oost 1092 AA Amsterdam ...</td>\n",
              "      <td>194</td>\n",
              "      <td>8/3/2017</td>\n",
              "      <td>7.7</td>\n",
              "      <td>Hotel Arena</td>\n",
              "      <td>Ireland</td>\n",
              "      <td>No Negative</td>\n",
              "      <td>0</td>\n",
              "      <td>1403</td>\n",
              "      <td>No real complaints the hotel was great great ...</td>\n",
              "      <td>105</td>\n",
              "      <td>7</td>\n",
              "      <td>7.5</td>\n",
              "      <td>[' Leisure trip ', ' Couple ', ' Duplex Double...</td>\n",
              "      <td>0 days</td>\n",
              "      <td>52.360576</td>\n",
              "      <td>4.915968</td>\n",
              "    </tr>\n",
              "    <tr>\n",
              "      <th>2</th>\n",
              "      <td>s Gravesandestraat 55 Oost 1092 AA Amsterdam ...</td>\n",
              "      <td>194</td>\n",
              "      <td>7/31/2017</td>\n",
              "      <td>7.7</td>\n",
              "      <td>Hotel Arena</td>\n",
              "      <td>Australia</td>\n",
              "      <td>Rooms are nice but for elderly a bit difficul...</td>\n",
              "      <td>42</td>\n",
              "      <td>1403</td>\n",
              "      <td>Location was good and staff were ok It is cut...</td>\n",
              "      <td>21</td>\n",
              "      <td>9</td>\n",
              "      <td>7.1</td>\n",
              "      <td>[' Leisure trip ', ' Family with young childre...</td>\n",
              "      <td>3 days</td>\n",
              "      <td>52.360576</td>\n",
              "      <td>4.915968</td>\n",
              "    </tr>\n",
              "    <tr>\n",
              "      <th>3</th>\n",
              "      <td>s Gravesandestraat 55 Oost 1092 AA Amsterdam ...</td>\n",
              "      <td>194</td>\n",
              "      <td>7/31/2017</td>\n",
              "      <td>7.7</td>\n",
              "      <td>Hotel Arena</td>\n",
              "      <td>United Kingdom</td>\n",
              "      <td>My room was dirty and I was afraid to walk ba...</td>\n",
              "      <td>210</td>\n",
              "      <td>1403</td>\n",
              "      <td>Great location in nice surroundings the bar a...</td>\n",
              "      <td>26</td>\n",
              "      <td>1</td>\n",
              "      <td>3.8</td>\n",
              "      <td>[' Leisure trip ', ' Solo traveler ', ' Duplex...</td>\n",
              "      <td>3 days</td>\n",
              "      <td>52.360576</td>\n",
              "      <td>4.915968</td>\n",
              "    </tr>\n",
              "    <tr>\n",
              "      <th>4</th>\n",
              "      <td>s Gravesandestraat 55 Oost 1092 AA Amsterdam ...</td>\n",
              "      <td>194</td>\n",
              "      <td>7/24/2017</td>\n",
              "      <td>7.7</td>\n",
              "      <td>Hotel Arena</td>\n",
              "      <td>New Zealand</td>\n",
              "      <td>You When I booked with your company on line y...</td>\n",
              "      <td>140</td>\n",
              "      <td>1403</td>\n",
              "      <td>Amazing location and building Romantic setting</td>\n",
              "      <td>8</td>\n",
              "      <td>3</td>\n",
              "      <td>6.7</td>\n",
              "      <td>[' Leisure trip ', ' Couple ', ' Suite ', ' St...</td>\n",
              "      <td>10 days</td>\n",
              "      <td>52.360576</td>\n",
              "      <td>4.915968</td>\n",
              "    </tr>\n",
              "  </tbody>\n",
              "</table>\n",
              "</div>"
            ],
            "text/plain": [
              "                                       Hotel_Address  ...       lng\n",
              "0   s Gravesandestraat 55 Oost 1092 AA Amsterdam ...  ...  4.915968\n",
              "1   s Gravesandestraat 55 Oost 1092 AA Amsterdam ...  ...  4.915968\n",
              "2   s Gravesandestraat 55 Oost 1092 AA Amsterdam ...  ...  4.915968\n",
              "3   s Gravesandestraat 55 Oost 1092 AA Amsterdam ...  ...  4.915968\n",
              "4   s Gravesandestraat 55 Oost 1092 AA Amsterdam ...  ...  4.915968\n",
              "\n",
              "[5 rows x 17 columns]"
            ]
          },
          "metadata": {
            "tags": []
          },
          "execution_count": 5
        }
      ]
    },
    {
      "cell_type": "code",
      "metadata": {
        "colab": {
          "base_uri": "https://localhost:8080/"
        },
        "id": "RETgp5ZK2ACB",
        "outputId": "5af8d8c1-4c0c-49b7-ff14-bd4b85885fe0"
      },
      "source": [
        "df.shape"
      ],
      "execution_count": 6,
      "outputs": [
        {
          "output_type": "execute_result",
          "data": {
            "text/plain": [
              "(515738, 17)"
            ]
          },
          "metadata": {
            "tags": []
          },
          "execution_count": 6
        }
      ]
    },
    {
      "cell_type": "markdown",
      "metadata": {
        "id": "WNq2ovU67rnJ"
      },
      "source": [
        "Checking Possible Pair-Wise Correlations isn't the best way to check for multi-collinearity but it's a start "
      ]
    },
    {
      "cell_type": "code",
      "metadata": {
        "colab": {
          "base_uri": "https://localhost:8080/",
          "height": 842
        },
        "id": "akaq2nUdyrGd",
        "outputId": "97db9dab-9204-4af5-b2eb-d1ffedf13fdd"
      },
      "source": [
        "df.corr()\n",
        "\n",
        "f,ax=plt.subplots(figsize=(10,10))\n",
        "sns.heatmap(df.corr(),annot=True,ax=ax) "
      ],
      "execution_count": 7,
      "outputs": [
        {
          "output_type": "execute_result",
          "data": {
            "text/plain": [
              "<matplotlib.axes._subplots.AxesSubplot at 0x7fa6b025a160>"
            ]
          },
          "metadata": {
            "tags": []
          },
          "execution_count": 7
        },
        {
          "output_type": "display_data",
          "data": {
            "image/png": "[encoded data removed]",
            "text/plain": [
              "<Figure size 720x720 with 2 Axes>"
            ]
          },
          "metadata": {
            "tags": [],
            "needs_background": "light"
          }
        }
      ]
    },
    {
      "cell_type": "markdown",
      "metadata": {
        "id": "oCR6o7RMMqoz"
      },
      "source": [
        "\n",
        "First Review with heatmap; it can be seen that `Total_Number_of_Reviews` is **positively correlated** with `Additional_Number_of_Scoring` by looking at this we can understand that if hotels get more reviews it gets more scoring points and usually if people give positive reviews we can slightly guesstimate whether the hotel is good or not."
      ]
    },
    {
      "cell_type": "code",
      "metadata": {
        "colab": {
          "base_uri": "https://localhost:8080/",
          "height": 408
        },
        "id": "gRgcaH_c2RJE",
        "outputId": "e4aa5ffd-5465-4eb7-abd7-124cbeda9777"
      },
      "source": [
        "df_uni = df[['Hotel_Name','Average_Score']].drop_duplicates()\n",
        "plt.figure(figsize = (14,6))\n",
        "sns.countplot(x = 'Average_Score',data = df_uni,color = 'orange')"
      ],
      "execution_count": 8,
      "outputs": [
        {
          "output_type": "execute_result",
          "data": {
            "text/plain": [
              "<matplotlib.axes._subplots.AxesSubplot at 0x7fa6b024da90>"
            ]
          },
          "metadata": {
            "tags": []
          },
          "execution_count": 8
        },
        {
          "output_type": "display_data",
          "data": {
            "image/png": "[encoded data removed]",
            "text/plain": [
              "<Figure size 1008x432 with 1 Axes>"
            ]
          },
          "metadata": {
            "tags": [],
            "needs_background": "light"
          }
        }
      ]
    },
    {
      "cell_type": "code",
      "metadata": {
        "colab": {
          "base_uri": "https://localhost:8080/"
        },
        "id": "mc5WXi8lTL44",
        "outputId": "2162aa04-b25e-47f4-e19d-f310944c1a06"
      },
      "source": [
        "df.Average_Score.describe()"
      ],
      "execution_count": 9,
      "outputs": [
        {
          "output_type": "execute_result",
          "data": {
            "text/plain": [
              "count    515738.000000\n",
              "mean          8.397487\n",
              "std           0.548048\n",
              "min           5.200000\n",
              "25%           8.100000\n",
              "50%           8.400000\n",
              "75%           8.800000\n",
              "max           9.800000\n",
              "Name: Average_Score, dtype: float64"
            ]
          },
          "metadata": {
            "tags": []
          },
          "execution_count": 9
        }
      ]
    },
    {
      "cell_type": "markdown",
      "metadata": {
        "id": "8civR0WMJzVc"
      },
      "source": [
        "We can see very clearly from the upper image and the table, most of reviews stay the rightside of 8.1. If a hotel's Avg_score is under 8.1, that means it only wins 25% competitors."
      ]
    },
    {
      "cell_type": "markdown",
      "metadata": {
        "id": "MZADvAeF2inP"
      },
      "source": [
        "This is interesting as the average scores indicate that most reviews lie between 8 - 9, meaning that the hotels within the dataset are generally pretty good but we know that the human mind is a thing of many intricacies and words can sometimes convey a different meaning to when we use numbers."
      ]
    },
    {
      "cell_type": "code",
      "metadata": {
        "colab": {
          "base_uri": "https://localhost:8080/",
          "height": 747
        },
        "id": "X931kzmay-mL",
        "outputId": "e178166a-4006-4655-d27e-5004226b655d"
      },
      "source": [
        "df_tight=df[(df.Average_Score>=7.9) & (df.Average_Score<=9.1)]\n",
        "df_tight.head()"
      ],
      "execution_count": 10,
      "outputs": [
        {
          "output_type": "execute_result",
          "data": {
            "text/html": [
              "<div>\n",
              "<style scoped>\n",
              "    .dataframe tbody tr th:only-of-type {\n",
              "        vertical-align: middle;\n",
              "    }\n",
              "\n",
              "    .dataframe tbody tr th {\n",
              "        vertical-align: top;\n",
              "    }\n",
              "\n",
              "    .dataframe thead th {\n",
              "        text-align: right;\n",
              "    }\n",
              "</style>\n",
              "<table border=\"1\" class=\"dataframe\">\n",
              "  <thead>\n",
              "    <tr style=\"text-align: right;\">\n",
              "      <th></th>\n",
              "      <th>Hotel_Address</th>\n",
              "      <th>Additional_Number_of_Scoring</th>\n",
              "      <th>Review_Date</th>\n",
              "      <th>Average_Score</th>\n",
              "      <th>Hotel_Name</th>\n",
              "      <th>Reviewer_Nationality</th>\n",
              "      <th>Negative_Review</th>\n",
              "      <th>Review_Total_Negative_Word_Counts</th>\n",
              "      <th>Total_Number_of_Reviews</th>\n",
              "      <th>Positive_Review</th>\n",
              "      <th>Review_Total_Positive_Word_Counts</th>\n",
              "      <th>Total_Number_of_Reviews_Reviewer_Has_Given</th>\n",
              "      <th>Reviewer_Score</th>\n",
              "      <th>Tags</th>\n",
              "      <th>days_since_review</th>\n",
              "      <th>lat</th>\n",
              "      <th>lng</th>\n",
              "    </tr>\n",
              "  </thead>\n",
              "  <tbody>\n",
              "    <tr>\n",
              "      <th>405</th>\n",
              "      <td>1 15 Templeton Place Earl s Court Kensington a...</td>\n",
              "      <td>244</td>\n",
              "      <td>8/3/2017</td>\n",
              "      <td>8.5</td>\n",
              "      <td>K K Hotel George</td>\n",
              "      <td>Ireland</td>\n",
              "      <td>Really nothing negative to say about this hotel</td>\n",
              "      <td>9</td>\n",
              "      <td>1831</td>\n",
              "      <td>Very comfortable beds smart bathroom good sho...</td>\n",
              "      <td>18</td>\n",
              "      <td>2</td>\n",
              "      <td>9.6</td>\n",
              "      <td>[' Leisure trip ', ' Group ', ' Classic Twin R...</td>\n",
              "      <td>0 days</td>\n",
              "      <td>51.491888</td>\n",
              "      <td>-0.194971</td>\n",
              "    </tr>\n",
              "    <tr>\n",
              "      <th>406</th>\n",
              "      <td>1 15 Templeton Place Earl s Court Kensington a...</td>\n",
              "      <td>244</td>\n",
              "      <td>8/2/2017</td>\n",
              "      <td>8.5</td>\n",
              "      <td>K K Hotel George</td>\n",
              "      <td>United States of America</td>\n",
              "      <td>No coffee or tea in the room or lobby No one ...</td>\n",
              "      <td>52</td>\n",
              "      <td>1831</td>\n",
              "      <td>No Positive</td>\n",
              "      <td>0</td>\n",
              "      <td>1</td>\n",
              "      <td>7.1</td>\n",
              "      <td>[' Leisure trip ', ' Couple ', ' Classic Twin ...</td>\n",
              "      <td>1 days</td>\n",
              "      <td>51.491888</td>\n",
              "      <td>-0.194971</td>\n",
              "    </tr>\n",
              "    <tr>\n",
              "      <th>407</th>\n",
              "      <td>1 15 Templeton Place Earl s Court Kensington a...</td>\n",
              "      <td>244</td>\n",
              "      <td>7/20/2017</td>\n",
              "      <td>8.5</td>\n",
              "      <td>K K Hotel George</td>\n",
              "      <td>United States of America</td>\n",
              "      <td>Room was pretty small for the three of us</td>\n",
              "      <td>11</td>\n",
              "      <td>1831</td>\n",
              "      <td>The staff was very friendly and helpful in or...</td>\n",
              "      <td>27</td>\n",
              "      <td>3</td>\n",
              "      <td>9.2</td>\n",
              "      <td>[' Leisure trip ', ' Family with young childre...</td>\n",
              "      <td>14 days</td>\n",
              "      <td>51.491888</td>\n",
              "      <td>-0.194971</td>\n",
              "    </tr>\n",
              "    <tr>\n",
              "      <th>408</th>\n",
              "      <td>1 15 Templeton Place Earl s Court Kensington a...</td>\n",
              "      <td>244</td>\n",
              "      <td>7/19/2017</td>\n",
              "      <td>8.5</td>\n",
              "      <td>K K Hotel George</td>\n",
              "      <td>Australia</td>\n",
              "      <td>Nothing really</td>\n",
              "      <td>4</td>\n",
              "      <td>1831</td>\n",
              "      <td>We stayed at the hotel at a friend s recommen...</td>\n",
              "      <td>66</td>\n",
              "      <td>15</td>\n",
              "      <td>9.6</td>\n",
              "      <td>[' Leisure trip ', ' Couple ', ' Classic Doubl...</td>\n",
              "      <td>15 days</td>\n",
              "      <td>51.491888</td>\n",
              "      <td>-0.194971</td>\n",
              "    </tr>\n",
              "    <tr>\n",
              "      <th>409</th>\n",
              "      <td>1 15 Templeton Place Earl s Court Kensington a...</td>\n",
              "      <td>244</td>\n",
              "      <td>7/18/2017</td>\n",
              "      <td>8.5</td>\n",
              "      <td>K K Hotel George</td>\n",
              "      <td>United States of America</td>\n",
              "      <td>Only cab service to airport is expensive comp...</td>\n",
              "      <td>16</td>\n",
              "      <td>1831</td>\n",
              "      <td>Super location on Division underground line d...</td>\n",
              "      <td>60</td>\n",
              "      <td>1</td>\n",
              "      <td>8.3</td>\n",
              "      <td>[' Leisure trip ', ' Group ', ' Classic Twin R...</td>\n",
              "      <td>16 days</td>\n",
              "      <td>51.491888</td>\n",
              "      <td>-0.194971</td>\n",
              "    </tr>\n",
              "  </tbody>\n",
              "</table>\n",
              "</div>"
            ],
            "text/plain": [
              "                                         Hotel_Address  ...       lng\n",
              "405  1 15 Templeton Place Earl s Court Kensington a...  ... -0.194971\n",
              "406  1 15 Templeton Place Earl s Court Kensington a...  ... -0.194971\n",
              "407  1 15 Templeton Place Earl s Court Kensington a...  ... -0.194971\n",
              "408  1 15 Templeton Place Earl s Court Kensington a...  ... -0.194971\n",
              "409  1 15 Templeton Place Earl s Court Kensington a...  ... -0.194971\n",
              "\n",
              "[5 rows x 17 columns]"
            ]
          },
          "metadata": {
            "tags": []
          },
          "execution_count": 10
        }
      ]
    },
    {
      "cell_type": "markdown",
      "metadata": {
        "id": "AzXBws0q2J_l"
      },
      "source": [
        "We need to know how many hotels we are looking at :"
      ]
    },
    {
      "cell_type": "code",
      "metadata": {
        "colab": {
          "base_uri": "https://localhost:8080/"
        },
        "id": "KSecmQSe2H-G",
        "outputId": "cdc2a5c4-e6ca-4090-bc86-b2e3df968624"
      },
      "source": [
        "print(df.Hotel_Name.nunique(), 'hotels in the dataset')"
      ],
      "execution_count": 11,
      "outputs": [
        {
          "output_type": "stream",
          "text": [
            "1492 hotels in the dataset\n"
          ],
          "name": "stdout"
        }
      ]
    },
    {
      "cell_type": "code",
      "metadata": {
        "colab": {
          "base_uri": "https://localhost:8080/"
        },
        "id": "9N9wndw7UdXn",
        "outputId": "3ef69e9a-17e9-4188-d1f9-0115f400a9d5"
      },
      "source": [
        "print(df.Reviewer_Nationality.nunique(), 'Nationalities of Reviewers in the dataset')"
      ],
      "execution_count": 12,
      "outputs": [
        {
          "output_type": "stream",
          "text": [
            "227 Nationalities of Reviewers in the dataset\n"
          ],
          "name": "stdout"
        }
      ]
    },
    {
      "cell_type": "markdown",
      "metadata": {
        "id": "hd8QvaEMNWcJ"
      },
      "source": [
        "How many of the Countries are part of the analysis."
      ]
    },
    {
      "cell_type": "code",
      "metadata": {
        "colab": {
          "base_uri": "https://localhost:8080/"
        },
        "id": "jnAYe5L3s3MR",
        "outputId": "045f5d15-56e9-4ace-9f19-d284890d8e79"
      },
      "source": [
        "df['State'] = df.Hotel_Address.apply(lambda x: x.split(' ')[-1]) \n",
        "print(df.Hotel_Name.nunique(), 'hotels belonging to', df.State.unique().size,'different Countries in the dataset')\n",
        "print('Countries : ', df.State.unique())"
      ],
      "execution_count": 13,
      "outputs": [
        {
          "output_type": "stream",
          "text": [
            "1492 hotels belonging to 6 different Countries in the dataset\n",
            "Countries :  ['Netherlands' 'Kingdom' 'France' 'Spain' 'Italy' 'Austria']\n"
          ],
          "name": "stdout"
        }
      ]
    },
    {
      "cell_type": "code",
      "metadata": {
        "colab": {
          "base_uri": "https://localhost:8080/",
          "height": 355
        },
        "id": "x4AclJAM3g-5",
        "outputId": "0bd06d9a-48e9-4ac0-c923-cbd0578f0e83"
      },
      "source": [
        "df.Hotel_Address = df.Hotel_Address.str.replace('United Kingdom','UK')\n",
        "df['State'] = df.Hotel_Address.apply(lambda x: x.split(' ')[-1])\n",
        "# Now we can check distribution in  and in state\n",
        "plt.figure(figsize = (12,5))\n",
        "plt.title('Hotel distribution in States')\n",
        "df.State.value_counts().plot.barh(color = 'orange')"
      ],
      "execution_count": 14,
      "outputs": [
        {
          "output_type": "execute_result",
          "data": {
            "text/plain": [
              "<matplotlib.axes._subplots.AxesSubplot at 0x7fa6ad89c320>"
            ]
          },
          "metadata": {
            "tags": []
          },
          "execution_count": 14
        },
        {
          "output_type": "display_data",
          "data": {
            "image/png": "[encoded data removed]",
            "text/plain": [
              "<Figure size 864x360 with 1 Axes>"
            ]
          },
          "metadata": {
            "tags": [],
            "needs_background": "light"
          }
        }
      ]
    },
    {
      "cell_type": "markdown",
      "metadata": {
        "id": "mm64ymcs2UpF"
      },
      "source": [
        "Now that we know there *1492* Hotels in the data set we now look at How many of the Hotels are distrubuted among the 6 countries. "
      ]
    },
    {
      "cell_type": "markdown",
      "metadata": {
        "id": "exdCn9iTKWZ5"
      },
      "source": [
        "Let's define the popular hotels are above 8.8 Avg_score and those with the most no. of reviews."
      ]
    },
    {
      "cell_type": "code",
      "metadata": {
        "colab": {
          "base_uri": "https://localhost:8080/",
          "height": 363
        },
        "id": "nF4ilfXi35PE",
        "outputId": "d1b74d1d-7faf-40ee-eacb-22372bb5a425"
      },
      "source": [
        "#Top 10 Popular hotels\n",
        "df[df.Average_Score >= 8.8][['Hotel_Name','Average_Score', 'Total_Number_of_Reviews',\n",
        "                             'State']].drop_duplicates().sort_values(by ='Total_Number_of_Reviews',ascending = False)[:10]\n"
      ],
      "execution_count": 15,
      "outputs": [
        {
          "output_type": "execute_result",
          "data": {
            "text/html": [
              "<div>\n",
              "<style scoped>\n",
              "    .dataframe tbody tr th:only-of-type {\n",
              "        vertical-align: middle;\n",
              "    }\n",
              "\n",
              "    .dataframe tbody tr th {\n",
              "        vertical-align: top;\n",
              "    }\n",
              "\n",
              "    .dataframe thead th {\n",
              "        text-align: right;\n",
              "    }\n",
              "</style>\n",
              "<table border=\"1\" class=\"dataframe\">\n",
              "  <thead>\n",
              "    <tr style=\"text-align: right;\">\n",
              "      <th></th>\n",
              "      <th>Hotel_Name</th>\n",
              "      <th>Average_Score</th>\n",
              "      <th>Total_Number_of_Reviews</th>\n",
              "      <th>State</th>\n",
              "    </tr>\n",
              "  </thead>\n",
              "  <tbody>\n",
              "    <tr>\n",
              "      <th>404728</th>\n",
              "      <td>Glam Milano</td>\n",
              "      <td>8.8</td>\n",
              "      <td>7371</td>\n",
              "      <td>Italy</td>\n",
              "    </tr>\n",
              "    <tr>\n",
              "      <th>309843</th>\n",
              "      <td>Jaz Amsterdam</td>\n",
              "      <td>8.9</td>\n",
              "      <td>7108</td>\n",
              "      <td>Netherlands</td>\n",
              "    </tr>\n",
              "    <tr>\n",
              "      <th>327773</th>\n",
              "      <td>Ayre Hotel Gran V a</td>\n",
              "      <td>8.8</td>\n",
              "      <td>4887</td>\n",
              "      <td>Spain</td>\n",
              "    </tr>\n",
              "    <tr>\n",
              "      <th>57597</th>\n",
              "      <td>M by Montcalm Shoreditch London Tech City</td>\n",
              "      <td>9.1</td>\n",
              "      <td>4802</td>\n",
              "      <td>UK</td>\n",
              "    </tr>\n",
              "    <tr>\n",
              "      <th>450210</th>\n",
              "      <td>Hotel Esther a</td>\n",
              "      <td>9.1</td>\n",
              "      <td>4687</td>\n",
              "      <td>Netherlands</td>\n",
              "    </tr>\n",
              "    <tr>\n",
              "      <th>180550</th>\n",
              "      <td>citizenM Tower of London</td>\n",
              "      <td>9.1</td>\n",
              "      <td>4672</td>\n",
              "      <td>UK</td>\n",
              "    </tr>\n",
              "    <tr>\n",
              "      <th>370315</th>\n",
              "      <td>25hours Hotel beim MuseumsQuartier</td>\n",
              "      <td>8.8</td>\n",
              "      <td>4324</td>\n",
              "      <td>Austria</td>\n",
              "    </tr>\n",
              "    <tr>\n",
              "      <th>361190</th>\n",
              "      <td>Hilton London Wembley</td>\n",
              "      <td>8.8</td>\n",
              "      <td>4305</td>\n",
              "      <td>UK</td>\n",
              "    </tr>\n",
              "    <tr>\n",
              "      <th>14829</th>\n",
              "      <td>Intercontinental London The O2</td>\n",
              "      <td>9.4</td>\n",
              "      <td>4204</td>\n",
              "      <td>UK</td>\n",
              "    </tr>\n",
              "    <tr>\n",
              "      <th>470003</th>\n",
              "      <td>The Square Milano Duomo</td>\n",
              "      <td>9.0</td>\n",
              "      <td>4192</td>\n",
              "      <td>Italy</td>\n",
              "    </tr>\n",
              "  </tbody>\n",
              "</table>\n",
              "</div>"
            ],
            "text/plain": [
              "                                       Hotel_Name  ...        State\n",
              "404728                                Glam Milano  ...        Italy\n",
              "309843                              Jaz Amsterdam  ...  Netherlands\n",
              "327773                        Ayre Hotel Gran V a  ...        Spain\n",
              "57597   M by Montcalm Shoreditch London Tech City  ...           UK\n",
              "450210                             Hotel Esther a  ...  Netherlands\n",
              "180550                   citizenM Tower of London  ...           UK\n",
              "370315         25hours Hotel beim MuseumsQuartier  ...      Austria\n",
              "361190                      Hilton London Wembley  ...           UK\n",
              "14829              Intercontinental London The O2  ...           UK\n",
              "470003                    The Square Milano Duomo  ...        Italy\n",
              "\n",
              "[10 rows x 4 columns]"
            ]
          },
          "metadata": {
            "tags": []
          },
          "execution_count": 15
        }
      ]
    },
    {
      "cell_type": "code",
      "metadata": {
        "colab": {
          "base_uri": "https://localhost:8080/",
          "height": 363
        },
        "id": "qBXDyPmXCdLl",
        "outputId": "de6619f0-4f0e-4010-bfd4-b0344d7e3766"
      },
      "source": [
        "#Top 10 Unheard hotels\n",
        "df[df.Average_Score >= 8.8][['Hotel_Name','Average_Score', 'Total_Number_of_Reviews',\n",
        "                             'State']].drop_duplicates().sort_values(by ='Total_Number_of_Reviews',ascending = True)[:10]"
      ],
      "execution_count": 16,
      "outputs": [
        {
          "output_type": "execute_result",
          "data": {
            "text/html": [
              "<div>\n",
              "<style scoped>\n",
              "    .dataframe tbody tr th:only-of-type {\n",
              "        vertical-align: middle;\n",
              "    }\n",
              "\n",
              "    .dataframe tbody tr th {\n",
              "        vertical-align: top;\n",
              "    }\n",
              "\n",
              "    .dataframe thead th {\n",
              "        text-align: right;\n",
              "    }\n",
              "</style>\n",
              "<table border=\"1\" class=\"dataframe\">\n",
              "  <thead>\n",
              "    <tr style=\"text-align: right;\">\n",
              "      <th></th>\n",
              "      <th>Hotel_Name</th>\n",
              "      <th>Average_Score</th>\n",
              "      <th>Total_Number_of_Reviews</th>\n",
              "      <th>State</th>\n",
              "    </tr>\n",
              "  </thead>\n",
              "  <tbody>\n",
              "    <tr>\n",
              "      <th>250467</th>\n",
              "      <td>Hotel Daniel Paris</td>\n",
              "      <td>8.8</td>\n",
              "      <td>43</td>\n",
              "      <td>France</td>\n",
              "    </tr>\n",
              "    <tr>\n",
              "      <th>48780</th>\n",
              "      <td>The Henrietta Hotel</td>\n",
              "      <td>9.2</td>\n",
              "      <td>49</td>\n",
              "      <td>UK</td>\n",
              "    </tr>\n",
              "    <tr>\n",
              "      <th>122487</th>\n",
              "      <td>XO Hotel</td>\n",
              "      <td>8.9</td>\n",
              "      <td>49</td>\n",
              "      <td>France</td>\n",
              "    </tr>\n",
              "    <tr>\n",
              "      <th>191756</th>\n",
              "      <td>The Curtain</td>\n",
              "      <td>9.1</td>\n",
              "      <td>59</td>\n",
              "      <td>UK</td>\n",
              "    </tr>\n",
              "    <tr>\n",
              "      <th>78350</th>\n",
              "      <td>Splendide Royal Paris</td>\n",
              "      <td>9.4</td>\n",
              "      <td>59</td>\n",
              "      <td>France</td>\n",
              "    </tr>\n",
              "    <tr>\n",
              "      <th>89963</th>\n",
              "      <td>Hotel Dupond Smith</td>\n",
              "      <td>9.3</td>\n",
              "      <td>60</td>\n",
              "      <td>France</td>\n",
              "    </tr>\n",
              "    <tr>\n",
              "      <th>421548</th>\n",
              "      <td>Hotel Seven One Seven</td>\n",
              "      <td>8.8</td>\n",
              "      <td>61</td>\n",
              "      <td>Netherlands</td>\n",
              "    </tr>\n",
              "    <tr>\n",
              "      <th>346688</th>\n",
              "      <td>The Lanesborough</td>\n",
              "      <td>9.4</td>\n",
              "      <td>64</td>\n",
              "      <td>UK</td>\n",
              "    </tr>\n",
              "    <tr>\n",
              "      <th>71274</th>\n",
              "      <td>Drawing Hotel</td>\n",
              "      <td>8.9</td>\n",
              "      <td>67</td>\n",
              "      <td>France</td>\n",
              "    </tr>\n",
              "    <tr>\n",
              "      <th>275588</th>\n",
              "      <td>Room Mate Gerard</td>\n",
              "      <td>9.0</td>\n",
              "      <td>67</td>\n",
              "      <td>Spain</td>\n",
              "    </tr>\n",
              "  </tbody>\n",
              "</table>\n",
              "</div>"
            ],
            "text/plain": [
              "                   Hotel_Name  ...        State\n",
              "250467     Hotel Daniel Paris  ...       France\n",
              "48780     The Henrietta Hotel  ...           UK\n",
              "122487               XO Hotel  ...       France\n",
              "191756            The Curtain  ...           UK\n",
              "78350   Splendide Royal Paris  ...       France\n",
              "89963      Hotel Dupond Smith  ...       France\n",
              "421548  Hotel Seven One Seven  ...  Netherlands\n",
              "346688       The Lanesborough  ...           UK\n",
              "71274           Drawing Hotel  ...       France\n",
              "275588       Room Mate Gerard  ...        Spain\n",
              "\n",
              "[10 rows x 4 columns]"
            ]
          },
          "metadata": {
            "tags": []
          },
          "execution_count": 16
        }
      ]
    },
    {
      "cell_type": "code",
      "metadata": {
        "colab": {
          "base_uri": "https://localhost:8080/",
          "height": 363
        },
        "id": "aK8GKcUI4F5i",
        "outputId": "f2857179-da49-4e1b-fa3d-cf4eedb4f394"
      },
      "source": [
        "# find the best 10 hotels in Europe\n",
        "df[(df.Average_Score >= 9.0)][['Hotel_Name','Average_Score', 'Total_Number_of_Reviews', \n",
        "                               'State']].drop_duplicates().sort_values(by ='Average_Score',ascending = False)[:10]"
      ],
      "execution_count": 17,
      "outputs": [
        {
          "output_type": "execute_result",
          "data": {
            "text/html": [
              "<div>\n",
              "<style scoped>\n",
              "    .dataframe tbody tr th:only-of-type {\n",
              "        vertical-align: middle;\n",
              "    }\n",
              "\n",
              "    .dataframe tbody tr th {\n",
              "        vertical-align: top;\n",
              "    }\n",
              "\n",
              "    .dataframe thead th {\n",
              "        text-align: right;\n",
              "    }\n",
              "</style>\n",
              "<table border=\"1\" class=\"dataframe\">\n",
              "  <thead>\n",
              "    <tr style=\"text-align: right;\">\n",
              "      <th></th>\n",
              "      <th>Hotel_Name</th>\n",
              "      <th>Average_Score</th>\n",
              "      <th>Total_Number_of_Reviews</th>\n",
              "      <th>State</th>\n",
              "    </tr>\n",
              "  </thead>\n",
              "  <tbody>\n",
              "    <tr>\n",
              "      <th>54717</th>\n",
              "      <td>Ritz Paris</td>\n",
              "      <td>9.8</td>\n",
              "      <td>122</td>\n",
              "      <td>France</td>\n",
              "    </tr>\n",
              "    <tr>\n",
              "      <th>176997</th>\n",
              "      <td>H tel de La Tamise Esprit de France</td>\n",
              "      <td>9.6</td>\n",
              "      <td>166</td>\n",
              "      <td>France</td>\n",
              "    </tr>\n",
              "    <tr>\n",
              "      <th>398945</th>\n",
              "      <td>Hotel The Serras</td>\n",
              "      <td>9.6</td>\n",
              "      <td>604</td>\n",
              "      <td>Spain</td>\n",
              "    </tr>\n",
              "    <tr>\n",
              "      <th>185602</th>\n",
              "      <td>41</td>\n",
              "      <td>9.6</td>\n",
              "      <td>244</td>\n",
              "      <td>UK</td>\n",
              "    </tr>\n",
              "    <tr>\n",
              "      <th>316447</th>\n",
              "      <td>Hotel Casa Camper</td>\n",
              "      <td>9.6</td>\n",
              "      <td>732</td>\n",
              "      <td>Spain</td>\n",
              "    </tr>\n",
              "    <tr>\n",
              "      <th>402244</th>\n",
              "      <td>H10 Casa Mimosa 4 Sup</td>\n",
              "      <td>9.6</td>\n",
              "      <td>454</td>\n",
              "      <td>Spain</td>\n",
              "    </tr>\n",
              "    <tr>\n",
              "      <th>14708</th>\n",
              "      <td>Haymarket Hotel</td>\n",
              "      <td>9.6</td>\n",
              "      <td>255</td>\n",
              "      <td>UK</td>\n",
              "    </tr>\n",
              "    <tr>\n",
              "      <th>341657</th>\n",
              "      <td>Waldorf Astoria Amsterdam</td>\n",
              "      <td>9.5</td>\n",
              "      <td>443</td>\n",
              "      <td>Netherlands</td>\n",
              "    </tr>\n",
              "    <tr>\n",
              "      <th>291408</th>\n",
              "      <td>Taj 51 Buckingham Gate Suites and Residences</td>\n",
              "      <td>9.5</td>\n",
              "      <td>310</td>\n",
              "      <td>UK</td>\n",
              "    </tr>\n",
              "    <tr>\n",
              "      <th>176748</th>\n",
              "      <td>The Soho Hotel</td>\n",
              "      <td>9.5</td>\n",
              "      <td>385</td>\n",
              "      <td>UK</td>\n",
              "    </tr>\n",
              "  </tbody>\n",
              "</table>\n",
              "</div>"
            ],
            "text/plain": [
              "                                          Hotel_Name  ...        State\n",
              "54717                                     Ritz Paris  ...       France\n",
              "176997           H tel de La Tamise Esprit de France  ...       France\n",
              "398945                              Hotel The Serras  ...        Spain\n",
              "185602                                            41  ...           UK\n",
              "316447                             Hotel Casa Camper  ...        Spain\n",
              "402244                         H10 Casa Mimosa 4 Sup  ...        Spain\n",
              "14708                                Haymarket Hotel  ...           UK\n",
              "341657                     Waldorf Astoria Amsterdam  ...  Netherlands\n",
              "291408  Taj 51 Buckingham Gate Suites and Residences  ...           UK\n",
              "176748                                The Soho Hotel  ...           UK\n",
              "\n",
              "[10 rows x 4 columns]"
            ]
          },
          "metadata": {
            "tags": []
          },
          "execution_count": 17
        }
      ]
    },
    {
      "cell_type": "code",
      "metadata": {
        "colab": {
          "base_uri": "https://localhost:8080/",
          "height": 363
        },
        "id": "ERR_XoEq4ePn",
        "outputId": "9c25030d-4187-450f-f38f-6dfe9e46e202"
      },
      "source": [
        "# find the worst 10 hotels\n",
        "df[(df.Average_Score <= 8.1)][['Hotel_Name','Average_Score','Total_Number_of_Reviews',\n",
        "                               'State']].drop_duplicates().sort_values(by ='Average_Score',ascending = True)[:10]"
      ],
      "execution_count": 18,
      "outputs": [
        {
          "output_type": "execute_result",
          "data": {
            "text/html": [
              "<div>\n",
              "<style scoped>\n",
              "    .dataframe tbody tr th:only-of-type {\n",
              "        vertical-align: middle;\n",
              "    }\n",
              "\n",
              "    .dataframe tbody tr th {\n",
              "        vertical-align: top;\n",
              "    }\n",
              "\n",
              "    .dataframe thead th {\n",
              "        text-align: right;\n",
              "    }\n",
              "</style>\n",
              "<table border=\"1\" class=\"dataframe\">\n",
              "  <thead>\n",
              "    <tr style=\"text-align: right;\">\n",
              "      <th></th>\n",
              "      <th>Hotel_Name</th>\n",
              "      <th>Average_Score</th>\n",
              "      <th>Total_Number_of_Reviews</th>\n",
              "      <th>State</th>\n",
              "    </tr>\n",
              "  </thead>\n",
              "  <tbody>\n",
              "    <tr>\n",
              "      <th>494791</th>\n",
              "      <td>Hotel Liberty</td>\n",
              "      <td>5.2</td>\n",
              "      <td>465</td>\n",
              "      <td>Italy</td>\n",
              "    </tr>\n",
              "    <tr>\n",
              "      <th>323302</th>\n",
              "      <td>Savoy Hotel Amsterdam</td>\n",
              "      <td>6.4</td>\n",
              "      <td>995</td>\n",
              "      <td>Netherlands</td>\n",
              "    </tr>\n",
              "    <tr>\n",
              "      <th>242324</th>\n",
              "      <td>Hotel Cavendish</td>\n",
              "      <td>6.4</td>\n",
              "      <td>2275</td>\n",
              "      <td>UK</td>\n",
              "    </tr>\n",
              "    <tr>\n",
              "      <th>157843</th>\n",
              "      <td>Best Western Maitrise Hotel Edgware Road</td>\n",
              "      <td>6.6</td>\n",
              "      <td>461</td>\n",
              "      <td>UK</td>\n",
              "    </tr>\n",
              "    <tr>\n",
              "      <th>129781</th>\n",
              "      <td>The Tophams Hotel</td>\n",
              "      <td>6.6</td>\n",
              "      <td>411</td>\n",
              "      <td>UK</td>\n",
              "    </tr>\n",
              "    <tr>\n",
              "      <th>204614</th>\n",
              "      <td>Commodore Hotel</td>\n",
              "      <td>6.7</td>\n",
              "      <td>2400</td>\n",
              "      <td>UK</td>\n",
              "    </tr>\n",
              "    <tr>\n",
              "      <th>485009</th>\n",
              "      <td>Ibis Styles Milano Palmanova</td>\n",
              "      <td>6.7</td>\n",
              "      <td>207</td>\n",
              "      <td>Italy</td>\n",
              "    </tr>\n",
              "    <tr>\n",
              "      <th>130789</th>\n",
              "      <td>Bloomsbury Palace Hotel</td>\n",
              "      <td>6.8</td>\n",
              "      <td>2751</td>\n",
              "      <td>UK</td>\n",
              "    </tr>\n",
              "    <tr>\n",
              "      <th>68936</th>\n",
              "      <td>Villa Eugenie</td>\n",
              "      <td>6.8</td>\n",
              "      <td>165</td>\n",
              "      <td>France</td>\n",
              "    </tr>\n",
              "    <tr>\n",
              "      <th>375953</th>\n",
              "      <td>Hallmark Hotel London Chigwell Prince Regent</td>\n",
              "      <td>6.9</td>\n",
              "      <td>747</td>\n",
              "      <td>UK</td>\n",
              "    </tr>\n",
              "  </tbody>\n",
              "</table>\n",
              "</div>"
            ],
            "text/plain": [
              "                                          Hotel_Name  ...        State\n",
              "494791                                 Hotel Liberty  ...        Italy\n",
              "323302                         Savoy Hotel Amsterdam  ...  Netherlands\n",
              "242324                               Hotel Cavendish  ...           UK\n",
              "157843      Best Western Maitrise Hotel Edgware Road  ...           UK\n",
              "129781                             The Tophams Hotel  ...           UK\n",
              "204614                               Commodore Hotel  ...           UK\n",
              "485009                  Ibis Styles Milano Palmanova  ...        Italy\n",
              "130789                       Bloomsbury Palace Hotel  ...           UK\n",
              "68936                                  Villa Eugenie  ...       France\n",
              "375953  Hallmark Hotel London Chigwell Prince Regent  ...           UK\n",
              "\n",
              "[10 rows x 4 columns]"
            ]
          },
          "metadata": {
            "tags": []
          },
          "execution_count": 18
        }
      ]
    },
    {
      "cell_type": "code",
      "metadata": {
        "id": "jG3dghGX5_S9"
      },
      "source": [
        "df_com = df[['Hotel_Name','Reviewer_Score','Negative_Review','Review_Total_Negative_Word_Counts',\n",
        "             'Positive_Review','Review_Total_Positive_Word_Counts',\n",
        "             'Total_Number_of_Reviews','Total_Number_of_Reviews_Reviewer_Has_Given']]"
      ],
      "execution_count": 19,
      "outputs": []
    },
    {
      "cell_type": "markdown",
      "metadata": {
        "id": "6JhFJJ2v50YV"
      },
      "source": [
        "##**Mining for Words in Text Docs**"
      ]
    },
    {
      "cell_type": "markdown",
      "metadata": {
        "id": "7AEwiw3xcX02"
      },
      "source": [
        "##Why Lemmatization?\n",
        "\n",
        "Lemmatization considers the context and converts the word to its meaningful base form, whereas stemming just removes the last few characters, often leading to incorrect meanings and spelling errors."
      ]
    },
    {
      "cell_type": "code",
      "metadata": {
        "id": "7sJKoLYy6EiH"
      },
      "source": [
        "# Creating machine learning environment\n",
        "\n",
        "stop_words = set(stopwords.words('english'))\n",
        "wordnet_lemmatizer = WordNetLemmatizer()\n",
        "\n",
        "#NLP prepross neg and pos reviews\n",
        "neg = []\n",
        "for i in df_com['Negative_Review']:\n",
        "    letters = re.sub('[^a-zA-Z]',' ',i)\n",
        "    tokens = nltk.word_tokenize(letters)\n",
        "    lowercase = [l.lower() for l in tokens]\n",
        "    filtered_result = list(filter(lambda l: l not in stop_words, lowercase))\n",
        "    lemmas = [wordnet_lemmatizer.lemmatize(t) for t in filtered_result] \n",
        "    neg.append(' '.join(lemmas))\n",
        "\n",
        "pos = []\n",
        "for j in df_com['Positive_Review']:\n",
        "    pletters = re.sub('[^a-zA-Z]',' ',j)\n",
        "    ptokens = nltk.word_tokenize(pletters)\n",
        "    plowercase = [l.lower() for l in ptokens]\n",
        "    filtered_presult = list(filter(lambda l: l not in stop_words, plowercase))\n",
        "    plemmas = [wordnet_lemmatizer.lemmatize(t) for t in filtered_presult] \n",
        "    pos.append(' '.join(plemmas))   "
      ],
      "execution_count": 20,
      "outputs": []
    },
    {
      "cell_type": "code",
      "metadata": {
        "colab": {
          "base_uri": "https://localhost:8080/"
        },
        "id": "qVZgNGg7f0TJ",
        "outputId": "32b7595e-bfb7-44e8-b93a-d1df53748f69"
      },
      "source": [
        "print(pos[1])"
      ],
      "execution_count": 52,
      "outputs": [
        {
          "output_type": "stream",
          "text": [
            "real complaint hotel great great location surroundings room amenity service two recommendation however firstly staff upon check confusing regarding deposit payment staff offer upon checkout refund original payment make new one bit confusing secondly site restaurant bit lacking well thought excellent quality food anyone vegetarian vegan background even wrap toasted sandwich option would great aside minor minor thing fantastic spot back return amsterdam\n"
          ],
          "name": "stdout"
        }
      ]
    },
    {
      "cell_type": "code",
      "metadata": {
        "id": "h3VOZA3e6NmU",
        "colab": {
          "base_uri": "https://localhost:8080/",
          "height": 859
        },
        "outputId": "64d048e7-d449-4893-f66f-af24d8b0e691"
      },
      "source": [
        "#Finding most important words in Negative Reviews and in Postive Reviews\n",
        "cv = CountVectorizer(analyzer = 'word',stop_words = 'english',max_features = 20,ngram_range=(2,2))\n",
        "most_negative_words = cv.fit_transform(neg)\n",
        "temp_counts = most_negative_words.sum(axis=0)\n",
        "temp_words = cv.vocabulary_\n",
        "print('the most important words in Negative Reviews:')\n",
        "print('--------------------------------------------')\n",
        "display(temp_words)\n",
        "\n",
        "print('                                          ')\n",
        "cv = CountVectorizer(analyzer = 'word',stop_words = 'english',max_features = 20,ngram_range=(2,2))\n",
        "most_positive_words = cv.fit_transform(pos)\n",
        "temp1_counts = most_positive_words.sum(axis=0)\n",
        "temp1_words = cv.vocabulary_\n",
        "print('the most important words in Positive Reviews:')\n",
        "print('--------------------------------------------')\n",
        "temp1_words"
      ],
      "execution_count": 51,
      "outputs": [
        {
          "output_type": "stream",
          "text": [
            "the most important words in Negative Reviews:\n",
            "--------------------------------------------\n"
          ],
          "name": "stdout"
        },
        {
          "output_type": "display_data",
          "data": {
            "text/plain": [
              "{'air conditioning': 0,\n",
              " 'bit small': 1,\n",
              " 'booking com': 2,\n",
              " 'breakfast expensive': 3,\n",
              " 'breakfast included': 4,\n",
              " 'breakfast room': 5,\n",
              " 'double bed': 6,\n",
              " 'double room': 7,\n",
              " 'hotel room': 8,\n",
              " 'little bit': 9,\n",
              " 'mini bar': 10,\n",
              " 'room bit': 11,\n",
              " 'room little': 12,\n",
              " 'room room': 13,\n",
              " 'room service': 14,\n",
              " 'room small': 15,\n",
              " 'small room': 16,\n",
              " 'star hotel': 17,\n",
              " 'tea coffee': 18,\n",
              " 'wi fi': 19}"
            ]
          },
          "metadata": {
            "tags": []
          }
        },
        {
          "output_type": "stream",
          "text": [
            "                                          \n",
            "the most important words in Positive Reviews:\n",
            "--------------------------------------------\n"
          ],
          "name": "stdout"
        },
        {
          "output_type": "execute_result",
          "data": {
            "text/plain": [
              "{'bed comfortable': 0,\n",
              " 'breakfast good': 1,\n",
              " 'clean room': 2,\n",
              " 'comfortable bed': 3,\n",
              " 'comfortable room': 4,\n",
              " 'comfy bed': 5,\n",
              " 'excellent location': 6,\n",
              " 'friendly helpful': 7,\n",
              " 'friendly staff': 8,\n",
              " 'good breakfast': 9,\n",
              " 'good location': 10,\n",
              " 'great location': 11,\n",
              " 'helpful staff': 12,\n",
              " 'location excellent': 13,\n",
              " 'location good': 14,\n",
              " 'location great': 15,\n",
              " 'room clean': 16,\n",
              " 'staff friendly': 17,\n",
              " 'staff helpful': 18,\n",
              " 'walking distance': 19}"
            ]
          },
          "metadata": {
            "tags": []
          },
          "execution_count": 51
        }
      ]
    },
    {
      "cell_type": "markdown",
      "metadata": {
        "id": "6EoKSyg4LK3O"
      },
      "source": [
        "Now, we roughly know reasons of positive review and negative review. Some words appear many times. We can dig deeper.\n"
      ]
    },
    {
      "cell_type": "code",
      "metadata": {
        "id": "qmyVUnDcw92M",
        "colab": {
          "base_uri": "https://localhost:8080/",
          "height": 1000
        },
        "outputId": "e63324a2-2fe3-40db-8d7f-255a2dea28d8"
      },
      "source": [
        "# define and make a neg-rate\n",
        "# Use the neg-rate to evaluate a hotel's management\n",
        "\n",
        "df_com['+'] = 1\n",
        "df_com['-'] = 1\n",
        "df_com['+'] = df_com.apply(lambda x: 0 if x[\"Positive_Review\"] == 'No Positive' else x['+'],axis =1)\n",
        "df_com['-'] = df_com.apply(lambda x: 0 if x[\"Negative_Review\"] == 'No Negative' else x['-'],axis =1)\n",
        "counted_reviews = pd.DataFrame(df_com.groupby(['Hotel_Name'])['+','-','Total_Number_of_Reviews_Reviewer_Has_Given'].sum())\n",
        "counted_reviews['Total'] = counted_reviews['+'] +counted_reviews['-']\n",
        "counted_reviews['Neg_rate'] = round(counted_reviews['-'] / counted_reviews['Total'],2)\n",
        "counted_reviews['Neg_rate'].describe()\n",
        "\n",
        "counted_reviews[counted_reviews.Neg_rate > 0.5]"
      ],
      "execution_count": 22,
      "outputs": [
        {
          "output_type": "stream",
          "text": [
            "/usr/local/lib/python3.6/dist-packages/ipykernel_launcher.py:4: SettingWithCopyWarning: \n",
            "A value is trying to be set on a copy of a slice from a DataFrame.\n",
            "Try using .loc[row_indexer,col_indexer] = value instead\n",
            "\n",
            "See the caveats in the documentation: https://pandas.pydata.org/pandas-docs/stable/user_guide/indexing.html#returning-a-view-versus-a-copy\n",
            "  after removing the cwd from sys.path.\n",
            "/usr/local/lib/python3.6/dist-packages/ipykernel_launcher.py:5: SettingWithCopyWarning: \n",
            "A value is trying to be set on a copy of a slice from a DataFrame.\n",
            "Try using .loc[row_indexer,col_indexer] = value instead\n",
            "\n",
            "See the caveats in the documentation: https://pandas.pydata.org/pandas-docs/stable/user_guide/indexing.html#returning-a-view-versus-a-copy\n",
            "  \"\"\"\n",
            "/usr/local/lib/python3.6/dist-packages/ipykernel_launcher.py:6: SettingWithCopyWarning: \n",
            "A value is trying to be set on a copy of a slice from a DataFrame.\n",
            "Try using .loc[row_indexer,col_indexer] = value instead\n",
            "\n",
            "See the caveats in the documentation: https://pandas.pydata.org/pandas-docs/stable/user_guide/indexing.html#returning-a-view-versus-a-copy\n",
            "  \n",
            "/usr/local/lib/python3.6/dist-packages/ipykernel_launcher.py:7: SettingWithCopyWarning: \n",
            "A value is trying to be set on a copy of a slice from a DataFrame.\n",
            "Try using .loc[row_indexer,col_indexer] = value instead\n",
            "\n",
            "See the caveats in the documentation: https://pandas.pydata.org/pandas-docs/stable/user_guide/indexing.html#returning-a-view-versus-a-copy\n",
            "  import sys\n",
            "/usr/local/lib/python3.6/dist-packages/ipykernel_launcher.py:8: FutureWarning: Indexing with multiple keys (implicitly converted to a tuple of keys) will be deprecated, use a list instead.\n",
            "  \n"
          ],
          "name": "stderr"
        },
        {
          "output_type": "execute_result",
          "data": {
            "text/html": [
              "<div>\n",
              "<style scoped>\n",
              "    .dataframe tbody tr th:only-of-type {\n",
              "        vertical-align: middle;\n",
              "    }\n",
              "\n",
              "    .dataframe tbody tr th {\n",
              "        vertical-align: top;\n",
              "    }\n",
              "\n",
              "    .dataframe thead th {\n",
              "        text-align: right;\n",
              "    }\n",
              "</style>\n",
              "<table border=\"1\" class=\"dataframe\">\n",
              "  <thead>\n",
              "    <tr style=\"text-align: right;\">\n",
              "      <th></th>\n",
              "      <th>+</th>\n",
              "      <th>-</th>\n",
              "      <th>Total_Number_of_Reviews_Reviewer_Has_Given</th>\n",
              "      <th>Total</th>\n",
              "      <th>Neg_rate</th>\n",
              "    </tr>\n",
              "    <tr>\n",
              "      <th>Hotel_Name</th>\n",
              "      <th></th>\n",
              "      <th></th>\n",
              "      <th></th>\n",
              "      <th></th>\n",
              "      <th></th>\n",
              "    </tr>\n",
              "  </thead>\n",
              "  <tbody>\n",
              "    <tr>\n",
              "      <th>AC Hotel Irla a Marriott Lifestyle Hotel</th>\n",
              "      <td>12</td>\n",
              "      <td>13</td>\n",
              "      <td>148</td>\n",
              "      <td>25</td>\n",
              "      <td>0.52</td>\n",
              "    </tr>\n",
              "    <tr>\n",
              "      <th>BEST WESTERN Maitrise Hotel Maida Vale</th>\n",
              "      <td>695</td>\n",
              "      <td>732</td>\n",
              "      <td>5023</td>\n",
              "      <td>1427</td>\n",
              "      <td>0.51</td>\n",
              "    </tr>\n",
              "    <tr>\n",
              "      <th>Best Western Maitrise Hotel Edgware Road</th>\n",
              "      <td>175</td>\n",
              "      <td>203</td>\n",
              "      <td>901</td>\n",
              "      <td>378</td>\n",
              "      <td>0.54</td>\n",
              "    </tr>\n",
              "    <tr>\n",
              "      <th>Britannia International Hotel Canary Wharf</th>\n",
              "      <td>4099</td>\n",
              "      <td>4262</td>\n",
              "      <td>22855</td>\n",
              "      <td>8361</td>\n",
              "      <td>0.51</td>\n",
              "    </tr>\n",
              "    <tr>\n",
              "      <th>Gran Hotel Barcino</th>\n",
              "      <td>66</td>\n",
              "      <td>73</td>\n",
              "      <td>385</td>\n",
              "      <td>139</td>\n",
              "      <td>0.53</td>\n",
              "    </tr>\n",
              "    <tr>\n",
              "      <th>Hallmark Hotel London Chigwell Prince Regent</th>\n",
              "      <td>384</td>\n",
              "      <td>415</td>\n",
              "      <td>2319</td>\n",
              "      <td>799</td>\n",
              "      <td>0.52</td>\n",
              "    </tr>\n",
              "    <tr>\n",
              "      <th>Hotel Liberty</th>\n",
              "      <td>51</td>\n",
              "      <td>64</td>\n",
              "      <td>395</td>\n",
              "      <td>115</td>\n",
              "      <td>0.56</td>\n",
              "    </tr>\n",
              "    <tr>\n",
              "      <th>Ibis Styles Milano Palmanova</th>\n",
              "      <td>9</td>\n",
              "      <td>11</td>\n",
              "      <td>37</td>\n",
              "      <td>20</td>\n",
              "      <td>0.55</td>\n",
              "    </tr>\n",
              "    <tr>\n",
              "      <th>Idea Hotel Milano San Siro</th>\n",
              "      <td>393</td>\n",
              "      <td>419</td>\n",
              "      <td>4132</td>\n",
              "      <td>812</td>\n",
              "      <td>0.52</td>\n",
              "    </tr>\n",
              "    <tr>\n",
              "      <th>Kube Hotel Ice Bar</th>\n",
              "      <td>16</td>\n",
              "      <td>18</td>\n",
              "      <td>170</td>\n",
              "      <td>34</td>\n",
              "      <td>0.53</td>\n",
              "    </tr>\n",
              "    <tr>\n",
              "      <th>Le M ridien Etoile</th>\n",
              "      <td>77</td>\n",
              "      <td>80</td>\n",
              "      <td>586</td>\n",
              "      <td>157</td>\n",
              "      <td>0.51</td>\n",
              "    </tr>\n",
              "    <tr>\n",
              "      <th>Le Meridien Piccadilly</th>\n",
              "      <td>221</td>\n",
              "      <td>230</td>\n",
              "      <td>1356</td>\n",
              "      <td>451</td>\n",
              "      <td>0.51</td>\n",
              "    </tr>\n",
              "    <tr>\n",
              "      <th>Mercure Paris Op ra Faubourg Montmartre</th>\n",
              "      <td>30</td>\n",
              "      <td>31</td>\n",
              "      <td>148</td>\n",
              "      <td>61</td>\n",
              "      <td>0.51</td>\n",
              "    </tr>\n",
              "    <tr>\n",
              "      <th>Mercure Paris Tour Eiffel Pont Mirabeau</th>\n",
              "      <td>56</td>\n",
              "      <td>58</td>\n",
              "      <td>412</td>\n",
              "      <td>114</td>\n",
              "      <td>0.51</td>\n",
              "    </tr>\n",
              "    <tr>\n",
              "      <th>Milan Marriott Hotel</th>\n",
              "      <td>59</td>\n",
              "      <td>62</td>\n",
              "      <td>642</td>\n",
              "      <td>121</td>\n",
              "      <td>0.51</td>\n",
              "    </tr>\n",
              "    <tr>\n",
              "      <th>Novotel Suites Paris Montreuil Vincennes</th>\n",
              "      <td>162</td>\n",
              "      <td>166</td>\n",
              "      <td>962</td>\n",
              "      <td>328</td>\n",
              "      <td>0.51</td>\n",
              "    </tr>\n",
              "    <tr>\n",
              "      <th>Novotel Suites Paris Nord 18 me</th>\n",
              "      <td>150</td>\n",
              "      <td>166</td>\n",
              "      <td>897</td>\n",
              "      <td>316</td>\n",
              "      <td>0.53</td>\n",
              "    </tr>\n",
              "    <tr>\n",
              "      <th>Paris Marriott Champs Elysees Hotel</th>\n",
              "      <td>78</td>\n",
              "      <td>81</td>\n",
              "      <td>574</td>\n",
              "      <td>159</td>\n",
              "      <td>0.51</td>\n",
              "    </tr>\n",
              "    <tr>\n",
              "      <th>Savoy Hotel Amsterdam</th>\n",
              "      <td>189</td>\n",
              "      <td>222</td>\n",
              "      <td>1369</td>\n",
              "      <td>411</td>\n",
              "      <td>0.54</td>\n",
              "    </tr>\n",
              "    <tr>\n",
              "      <th>St George Hotel</th>\n",
              "      <td>108</td>\n",
              "      <td>112</td>\n",
              "      <td>556</td>\n",
              "      <td>220</td>\n",
              "      <td>0.51</td>\n",
              "    </tr>\n",
              "    <tr>\n",
              "      <th>Vienna Marriott Hotel</th>\n",
              "      <td>176</td>\n",
              "      <td>182</td>\n",
              "      <td>1907</td>\n",
              "      <td>358</td>\n",
              "      <td>0.51</td>\n",
              "    </tr>\n",
              "    <tr>\n",
              "      <th>Villa Eugenie</th>\n",
              "      <td>52</td>\n",
              "      <td>54</td>\n",
              "      <td>346</td>\n",
              "      <td>106</td>\n",
              "      <td>0.51</td>\n",
              "    </tr>\n",
              "    <tr>\n",
              "      <th>Villa Lut ce Port Royal</th>\n",
              "      <td>41</td>\n",
              "      <td>43</td>\n",
              "      <td>635</td>\n",
              "      <td>84</td>\n",
              "      <td>0.51</td>\n",
              "    </tr>\n",
              "  </tbody>\n",
              "</table>\n",
              "</div>"
            ],
            "text/plain": [
              "                                                 +     -  ...  Total  Neg_rate\n",
              "Hotel_Name                                                ...                 \n",
              "AC Hotel Irla a Marriott Lifestyle Hotel        12    13  ...     25      0.52\n",
              "BEST WESTERN Maitrise Hotel Maida Vale         695   732  ...   1427      0.51\n",
              "Best Western Maitrise Hotel Edgware Road       175   203  ...    378      0.54\n",
              "Britannia International Hotel Canary Wharf    4099  4262  ...   8361      0.51\n",
              "Gran Hotel Barcino                              66    73  ...    139      0.53\n",
              "Hallmark Hotel London Chigwell Prince Regent   384   415  ...    799      0.52\n",
              "Hotel Liberty                                   51    64  ...    115      0.56\n",
              "Ibis Styles Milano Palmanova                     9    11  ...     20      0.55\n",
              "Idea Hotel Milano San Siro                     393   419  ...    812      0.52\n",
              "Kube Hotel Ice Bar                              16    18  ...     34      0.53\n",
              "Le M ridien Etoile                              77    80  ...    157      0.51\n",
              "Le Meridien Piccadilly                         221   230  ...    451      0.51\n",
              "Mercure Paris Op ra Faubourg Montmartre         30    31  ...     61      0.51\n",
              "Mercure Paris Tour Eiffel Pont Mirabeau         56    58  ...    114      0.51\n",
              "Milan Marriott Hotel                            59    62  ...    121      0.51\n",
              "Novotel Suites Paris Montreuil Vincennes       162   166  ...    328      0.51\n",
              "Novotel Suites Paris Nord 18 me                150   166  ...    316      0.53\n",
              "Paris Marriott Champs Elysees Hotel             78    81  ...    159      0.51\n",
              "Savoy Hotel Amsterdam                          189   222  ...    411      0.54\n",
              "St George Hotel                                108   112  ...    220      0.51\n",
              "Vienna Marriott Hotel                          176   182  ...    358      0.51\n",
              "Villa Eugenie                                   52    54  ...    106      0.51\n",
              "Villa Lut ce Port Royal                         41    43  ...     84      0.51\n",
              "\n",
              "[23 rows x 5 columns]"
            ]
          },
          "metadata": {
            "tags": []
          },
          "execution_count": 22
        }
      ]
    },
    {
      "cell_type": "markdown",
      "metadata": {
        "id": "fwQBrjWjxsIc"
      },
      "source": [
        "#Part 2"
      ]
    },
    {
      "cell_type": "code",
      "metadata": {
        "id": "YXWg264hxtXG",
        "colab": {
          "base_uri": "https://localhost:8080/",
          "height": 206
        },
        "outputId": "713df948-7d91-42ae-f344-df7717c42e89"
      },
      "source": [
        "# read data\n",
        "reviews_df = pd.read_csv(\"/content/Hotel_Reviews.csv\")\n",
        "# append the positive and negative text reviews\n",
        "reviews_df[\"review\"] = reviews_df[\"Negative_Review\"] + reviews_df[\"Positive_Review\"]\n",
        "# create the label\n",
        "reviews_df[\"is_bad_review\"] = reviews_df[\"Reviewer_Score\"].apply(lambda x: 1 if x < 7 else 0)\n",
        "# select only relevant columns\n",
        "reviews_df = reviews_df[[\"review\", \"is_bad_review\"]]\n",
        "reviews_df.head()"
      ],
      "execution_count": 23,
      "outputs": [
        {
          "output_type": "execute_result",
          "data": {
            "text/html": [
              "<div>\n",
              "<style scoped>\n",
              "    .dataframe tbody tr th:only-of-type {\n",
              "        vertical-align: middle;\n",
              "    }\n",
              "\n",
              "    .dataframe tbody tr th {\n",
              "        vertical-align: top;\n",
              "    }\n",
              "\n",
              "    .dataframe thead th {\n",
              "        text-align: right;\n",
              "    }\n",
              "</style>\n",
              "<table border=\"1\" class=\"dataframe\">\n",
              "  <thead>\n",
              "    <tr style=\"text-align: right;\">\n",
              "      <th></th>\n",
              "      <th>review</th>\n",
              "      <th>is_bad_review</th>\n",
              "    </tr>\n",
              "  </thead>\n",
              "  <tbody>\n",
              "    <tr>\n",
              "      <th>0</th>\n",
              "      <td>I am so angry that i made this post available...</td>\n",
              "      <td>1</td>\n",
              "    </tr>\n",
              "    <tr>\n",
              "      <th>1</th>\n",
              "      <td>No Negative No real complaints the hotel was g...</td>\n",
              "      <td>0</td>\n",
              "    </tr>\n",
              "    <tr>\n",
              "      <th>2</th>\n",
              "      <td>Rooms are nice but for elderly a bit difficul...</td>\n",
              "      <td>0</td>\n",
              "    </tr>\n",
              "    <tr>\n",
              "      <th>3</th>\n",
              "      <td>My room was dirty and I was afraid to walk ba...</td>\n",
              "      <td>1</td>\n",
              "    </tr>\n",
              "    <tr>\n",
              "      <th>4</th>\n",
              "      <td>You When I booked with your company on line y...</td>\n",
              "      <td>1</td>\n",
              "    </tr>\n",
              "  </tbody>\n",
              "</table>\n",
              "</div>"
            ],
            "text/plain": [
              "                                              review  is_bad_review\n",
              "0   I am so angry that i made this post available...              1\n",
              "1  No Negative No real complaints the hotel was g...              0\n",
              "2   Rooms are nice but for elderly a bit difficul...              0\n",
              "3   My room was dirty and I was afraid to walk ba...              1\n",
              "4   You When I booked with your company on line y...              1"
            ]
          },
          "metadata": {
            "tags": []
          },
          "execution_count": 23
        }
      ]
    },
    {
      "cell_type": "code",
      "metadata": {
        "id": "cioAe47my1mN"
      },
      "source": [
        "reviews_df = reviews_df.sample(frac = 0.1, replace = False, random_state=42)\n",
        "reviews_df[\"review\"] = reviews_df[\"review\"].apply(lambda x: x.replace(\"No Negative\", \"\").replace(\"No Positive\", \"\"))\n"
      ],
      "execution_count": 24,
      "outputs": []
    },
    {
      "cell_type": "code",
      "metadata": {
        "id": "zmlfyCKfy76q"
      },
      "source": [
        "# return the wordnet object value corresponding to the POS tag\n",
        "from nltk.corpus import wordnet\n",
        "\n",
        "def get_wordnet_pos(pos_tag):\n",
        "    if pos_tag.startswith('J'):\n",
        "        return wordnet.ADJ\n",
        "    elif pos_tag.startswith('V'):\n",
        "        return wordnet.VERB\n",
        "    elif pos_tag.startswith('N'):\n",
        "        return wordnet.NOUN\n",
        "    elif pos_tag.startswith('R'):\n",
        "        return wordnet.ADV\n",
        "    else:\n",
        "        return wordnet.NOUN\n",
        "    \n",
        "import string\n",
        "from nltk import pos_tag\n",
        "from nltk.corpus import stopwords\n",
        "from nltk.tokenize import WhitespaceTokenizer\n",
        "from nltk.stem import WordNetLemmatizer\n",
        "\n",
        "def clean_text(text):\n",
        "    # lower text\n",
        "    text = text.lower()\n",
        "    # tokenize text and remove puncutation\n",
        "    text = [word.strip(string.punctuation) for word in text.split(\" \")]\n",
        "    # remove words that contain numbers\n",
        "    text = [word for word in text if not any(c.isdigit() for c in word)]\n",
        "    # remove stop words\n",
        "    stop = stopwords.words('english')\n",
        "    text = [x for x in text if x not in stop]\n",
        "    # remove empty tokens\n",
        "    text = [t for t in text if len(t) > 0]\n",
        "    # pos tag text\n",
        "    pos_tags = pos_tag(text)\n",
        "    # lemmatize text\n",
        "    text = [WordNetLemmatizer().lemmatize(t[0], get_wordnet_pos(t[1])) for t in pos_tags]\n",
        "    # remove words with only one letter\n",
        "    text = [t for t in text if len(t) > 1]\n",
        "    # join all\n",
        "    text = \" \".join(text)\n",
        "    return(text)\n",
        "\n",
        "# clean text data\n",
        "reviews_df[\"review_clean\"] = reviews_df[\"review\"].apply(lambda x: clean_text(x))"
      ],
      "execution_count": 25,
      "outputs": []
    },
    {
      "cell_type": "code",
      "metadata": {
        "id": "E8kBIN6-zGpU",
        "colab": {
          "base_uri": "https://localhost:8080/"
        },
        "outputId": "da9944fb-4429-445f-e83f-9e7b3c252158"
      },
      "source": [
        "# add sentiment anaylsis columns\n",
        "from nltk.sentiment.vader import SentimentIntensityAnalyzer\n",
        "\n",
        "sid = SentimentIntensityAnalyzer()\n",
        "reviews_df[\"sentiments\"] = reviews_df[\"review\"].apply(lambda x: sid.polarity_scores(x))\n",
        "reviews_df = pd.concat([reviews_df.drop(['sentiments'], axis=1), reviews_df['sentiments'].apply(pd.Series)], axis=1)"
      ],
      "execution_count": 26,
      "outputs": [
        {
          "output_type": "stream",
          "text": [
            "/usr/local/lib/python3.6/dist-packages/nltk/twitter/__init__.py:20: UserWarning: The twython library has not been installed. Some functionality from the twitter package will not be available.\n",
            "  warnings.warn(\"The twython library has not been installed. \"\n"
          ],
          "name": "stderr"
        }
      ]
    },
    {
      "cell_type": "code",
      "metadata": {
        "id": "7y9_qxuAzJOa"
      },
      "source": [
        "# add number of characters column\n",
        "reviews_df[\"nb_chars\"] = reviews_df[\"review\"].apply(lambda x: len(x))\n",
        "\n",
        "# add number of words column\n",
        "reviews_df[\"nb_words\"] = reviews_df[\"review\"].apply(lambda x: len(x.split(\" \")))"
      ],
      "execution_count": 27,
      "outputs": []
    },
    {
      "cell_type": "code",
      "metadata": {
        "id": "A8Y81Kw0zRTH"
      },
      "source": [
        "# create doc2vec vector columns\n",
        "from gensim.test.utils import common_texts\n",
        "from gensim.models.doc2vec import Doc2Vec, TaggedDocument\n",
        "\n",
        "documents = [TaggedDocument(doc, [i]) for i, doc in enumerate(reviews_df[\"review_clean\"].apply(lambda x: x.split(\" \")))]\n",
        "\n",
        "# train a Doc2Vec model with our text data\n",
        "model = Doc2Vec(documents, vector_size=5, window=2, min_count=1, workers=4)\n",
        "\n",
        "# transform each document into a vector data\n",
        "doc2vec_df = reviews_df[\"review_clean\"].apply(lambda x: model.infer_vector(x.split(\" \"))).apply(pd.Series)\n",
        "doc2vec_df.columns = [\"doc2vec_vector_\" + str(x) for x in doc2vec_df.columns]\n",
        "reviews_df = pd.concat([reviews_df, doc2vec_df], axis=1)"
      ],
      "execution_count": 28,
      "outputs": []
    },
    {
      "cell_type": "code",
      "metadata": {
        "id": "YtbGv23izUsf"
      },
      "source": [
        "# add tf-idfs columns\n",
        "from sklearn.feature_extraction.text import TfidfVectorizer\n",
        "tfidf = TfidfVectorizer(min_df = 10)\n",
        "tfidf_result = tfidf.fit_transform(reviews_df[\"review_clean\"]).toarray()\n",
        "tfidf_df = pd.DataFrame(tfidf_result, columns = tfidf.get_feature_names())\n",
        "tfidf_df.columns = [\"word_\" + str(x) for x in tfidf_df.columns]\n",
        "tfidf_df.index = reviews_df.index\n",
        "reviews_df = pd.concat([reviews_df, tfidf_df], axis=1)"
      ],
      "execution_count": 29,
      "outputs": []
    },
    {
      "cell_type": "code",
      "metadata": {
        "id": "yQ6yQdtvzXEO",
        "colab": {
          "base_uri": "https://localhost:8080/",
          "height": 585
        },
        "outputId": "e9d22a55-70c0-473c-b339-796bce80a94b"
      },
      "source": [
        "reviews_df.head()"
      ],
      "execution_count": 30,
      "outputs": [
        {
          "output_type": "execute_result",
          "data": {
            "text/html": [
              "<div>\n",
              "<style scoped>\n",
              "    .dataframe tbody tr th:only-of-type {\n",
              "        vertical-align: middle;\n",
              "    }\n",
              "\n",
              "    .dataframe tbody tr th {\n",
              "        vertical-align: top;\n",
              "    }\n",
              "\n",
              "    .dataframe thead th {\n",
              "        text-align: right;\n",
              "    }\n",
              "</style>\n",
              "<table border=\"1\" class=\"dataframe\">\n",
              "  <thead>\n",
              "    <tr style=\"text-align: right;\">\n",
              "      <th></th>\n",
              "      <th>review</th>\n",
              "      <th>is_bad_review</th>\n",
              "      <th>review_clean</th>\n",
              "      <th>neg</th>\n",
              "      <th>neu</th>\n",
              "      <th>pos</th>\n",
              "      <th>compound</th>\n",
              "      <th>nb_chars</th>\n",
              "      <th>nb_words</th>\n",
              "      <th>doc2vec_vector_0</th>\n",
              "      <th>doc2vec_vector_1</th>\n",
              "      <th>doc2vec_vector_2</th>\n",
              "      <th>doc2vec_vector_3</th>\n",
              "      <th>doc2vec_vector_4</th>\n",
              "      <th>word_abbey</th>\n",
              "      <th>word_ability</th>\n",
              "      <th>word_abit</th>\n",
              "      <th>word_able</th>\n",
              "      <th>word_abroad</th>\n",
              "      <th>word_abrupt</th>\n",
              "      <th>word_absence</th>\n",
              "      <th>word_absolute</th>\n",
              "      <th>word_absolutely</th>\n",
              "      <th>word_abundant</th>\n",
              "      <th>word_ac</th>\n",
              "      <th>word_accept</th>\n",
              "      <th>word_acceptable</th>\n",
              "      <th>word_acces</th>\n",
              "      <th>word_access</th>\n",
              "      <th>word_accessibility</th>\n",
              "      <th>word_accessible</th>\n",
              "      <th>word_accessory</th>\n",
              "      <th>word_accident</th>\n",
              "      <th>word_accidentally</th>\n",
              "      <th>word_accommodate</th>\n",
              "      <th>word_accommodating</th>\n",
              "      <th>word_accommodation</th>\n",
              "      <th>word_accomodate</th>\n",
              "      <th>word_accomodating</th>\n",
              "      <th>word_accomodation</th>\n",
              "      <th>...</th>\n",
              "      <th>word_wonderfully</th>\n",
              "      <th>word_wont</th>\n",
              "      <th>word_wood</th>\n",
              "      <th>word_wooden</th>\n",
              "      <th>word_word</th>\n",
              "      <th>word_work</th>\n",
              "      <th>word_worked</th>\n",
              "      <th>word_worker</th>\n",
              "      <th>word_working</th>\n",
              "      <th>word_workout</th>\n",
              "      <th>word_world</th>\n",
              "      <th>word_worn</th>\n",
              "      <th>word_worried</th>\n",
              "      <th>word_worry</th>\n",
              "      <th>word_worse</th>\n",
              "      <th>word_worst</th>\n",
              "      <th>word_worth</th>\n",
              "      <th>word_worthy</th>\n",
              "      <th>word_would</th>\n",
              "      <th>word_wouldnt</th>\n",
              "      <th>word_wow</th>\n",
              "      <th>word_write</th>\n",
              "      <th>word_wrong</th>\n",
              "      <th>word_xmas</th>\n",
              "      <th>word_xx</th>\n",
              "      <th>word_yard</th>\n",
              "      <th>word_year</th>\n",
              "      <th>word_yell</th>\n",
              "      <th>word_yellow</th>\n",
              "      <th>word_yes</th>\n",
              "      <th>word_yet</th>\n",
              "      <th>word_yoghurt</th>\n",
              "      <th>word_yogurt</th>\n",
              "      <th>word_young</th>\n",
              "      <th>word_yr</th>\n",
              "      <th>word_yummy</th>\n",
              "      <th>word_zero</th>\n",
              "      <th>word_ziggo</th>\n",
              "      <th>word_zone</th>\n",
              "      <th>word_zuid</th>\n",
              "    </tr>\n",
              "  </thead>\n",
              "  <tbody>\n",
              "    <tr>\n",
              "      <th>488440</th>\n",
              "      <td>Would have appreciated a shop in the hotel th...</td>\n",
              "      <td>0</td>\n",
              "      <td>would appreciate shop hotel sell drinking wate...</td>\n",
              "      <td>0.049</td>\n",
              "      <td>0.617</td>\n",
              "      <td>0.334</td>\n",
              "      <td>0.9924</td>\n",
              "      <td>599</td>\n",
              "      <td>113</td>\n",
              "      <td>0.061780</td>\n",
              "      <td>0.198190</td>\n",
              "      <td>-0.305746</td>\n",
              "      <td>-0.017266</td>\n",
              "      <td>-0.071531</td>\n",
              "      <td>0.0</td>\n",
              "      <td>0.0</td>\n",
              "      <td>0.0</td>\n",
              "      <td>0.0</td>\n",
              "      <td>0.0</td>\n",
              "      <td>0.0</td>\n",
              "      <td>0.0</td>\n",
              "      <td>0.0</td>\n",
              "      <td>0.0</td>\n",
              "      <td>0.0</td>\n",
              "      <td>0.0</td>\n",
              "      <td>0.0</td>\n",
              "      <td>0.0</td>\n",
              "      <td>0.0</td>\n",
              "      <td>0.0</td>\n",
              "      <td>0.0</td>\n",
              "      <td>0.0</td>\n",
              "      <td>0.0</td>\n",
              "      <td>0.0</td>\n",
              "      <td>0.0</td>\n",
              "      <td>0.0</td>\n",
              "      <td>0.0</td>\n",
              "      <td>0.0</td>\n",
              "      <td>0.0</td>\n",
              "      <td>0.0</td>\n",
              "      <td>0.0</td>\n",
              "      <td>...</td>\n",
              "      <td>0.0</td>\n",
              "      <td>0.0</td>\n",
              "      <td>0.0</td>\n",
              "      <td>0.0</td>\n",
              "      <td>0.0</td>\n",
              "      <td>0.0</td>\n",
              "      <td>0.0</td>\n",
              "      <td>0.0</td>\n",
              "      <td>0.0</td>\n",
              "      <td>0.0</td>\n",
              "      <td>0.0</td>\n",
              "      <td>0.0</td>\n",
              "      <td>0.0</td>\n",
              "      <td>0.0</td>\n",
              "      <td>0.0</td>\n",
              "      <td>0.0</td>\n",
              "      <td>0.0</td>\n",
              "      <td>0.0</td>\n",
              "      <td>0.249614</td>\n",
              "      <td>0.0</td>\n",
              "      <td>0.0</td>\n",
              "      <td>0.0</td>\n",
              "      <td>0.0</td>\n",
              "      <td>0.0</td>\n",
              "      <td>0.0</td>\n",
              "      <td>0.0</td>\n",
              "      <td>0.0</td>\n",
              "      <td>0.0</td>\n",
              "      <td>0.0</td>\n",
              "      <td>0.0</td>\n",
              "      <td>0.0</td>\n",
              "      <td>0.0</td>\n",
              "      <td>0.0</td>\n",
              "      <td>0.0</td>\n",
              "      <td>0.0</td>\n",
              "      <td>0.0</td>\n",
              "      <td>0.0</td>\n",
              "      <td>0.0</td>\n",
              "      <td>0.0</td>\n",
              "      <td>0.0</td>\n",
              "    </tr>\n",
              "    <tr>\n",
              "      <th>274649</th>\n",
              "      <td>No tissue paper box was present at the room</td>\n",
              "      <td>0</td>\n",
              "      <td>tissue paper box present room</td>\n",
              "      <td>0.216</td>\n",
              "      <td>0.784</td>\n",
              "      <td>0.000</td>\n",
              "      <td>-0.2960</td>\n",
              "      <td>44</td>\n",
              "      <td>10</td>\n",
              "      <td>-0.081090</td>\n",
              "      <td>0.092126</td>\n",
              "      <td>-0.008870</td>\n",
              "      <td>0.047073</td>\n",
              "      <td>-0.061908</td>\n",
              "      <td>0.0</td>\n",
              "      <td>0.0</td>\n",
              "      <td>0.0</td>\n",
              "      <td>0.0</td>\n",
              "      <td>0.0</td>\n",
              "      <td>0.0</td>\n",
              "      <td>0.0</td>\n",
              "      <td>0.0</td>\n",
              "      <td>0.0</td>\n",
              "      <td>0.0</td>\n",
              "      <td>0.0</td>\n",
              "      <td>0.0</td>\n",
              "      <td>0.0</td>\n",
              "      <td>0.0</td>\n",
              "      <td>0.0</td>\n",
              "      <td>0.0</td>\n",
              "      <td>0.0</td>\n",
              "      <td>0.0</td>\n",
              "      <td>0.0</td>\n",
              "      <td>0.0</td>\n",
              "      <td>0.0</td>\n",
              "      <td>0.0</td>\n",
              "      <td>0.0</td>\n",
              "      <td>0.0</td>\n",
              "      <td>0.0</td>\n",
              "      <td>0.0</td>\n",
              "      <td>...</td>\n",
              "      <td>0.0</td>\n",
              "      <td>0.0</td>\n",
              "      <td>0.0</td>\n",
              "      <td>0.0</td>\n",
              "      <td>0.0</td>\n",
              "      <td>0.0</td>\n",
              "      <td>0.0</td>\n",
              "      <td>0.0</td>\n",
              "      <td>0.0</td>\n",
              "      <td>0.0</td>\n",
              "      <td>0.0</td>\n",
              "      <td>0.0</td>\n",
              "      <td>0.0</td>\n",
              "      <td>0.0</td>\n",
              "      <td>0.0</td>\n",
              "      <td>0.0</td>\n",
              "      <td>0.0</td>\n",
              "      <td>0.0</td>\n",
              "      <td>0.000000</td>\n",
              "      <td>0.0</td>\n",
              "      <td>0.0</td>\n",
              "      <td>0.0</td>\n",
              "      <td>0.0</td>\n",
              "      <td>0.0</td>\n",
              "      <td>0.0</td>\n",
              "      <td>0.0</td>\n",
              "      <td>0.0</td>\n",
              "      <td>0.0</td>\n",
              "      <td>0.0</td>\n",
              "      <td>0.0</td>\n",
              "      <td>0.0</td>\n",
              "      <td>0.0</td>\n",
              "      <td>0.0</td>\n",
              "      <td>0.0</td>\n",
              "      <td>0.0</td>\n",
              "      <td>0.0</td>\n",
              "      <td>0.0</td>\n",
              "      <td>0.0</td>\n",
              "      <td>0.0</td>\n",
              "      <td>0.0</td>\n",
              "    </tr>\n",
              "    <tr>\n",
              "      <th>374688</th>\n",
              "      <td>Pillows  Nice welcoming and service</td>\n",
              "      <td>0</td>\n",
              "      <td>pillow nice welcome service</td>\n",
              "      <td>0.000</td>\n",
              "      <td>0.345</td>\n",
              "      <td>0.655</td>\n",
              "      <td>0.6908</td>\n",
              "      <td>36</td>\n",
              "      <td>7</td>\n",
              "      <td>0.065367</td>\n",
              "      <td>0.075714</td>\n",
              "      <td>-0.045814</td>\n",
              "      <td>0.016792</td>\n",
              "      <td>0.068438</td>\n",
              "      <td>0.0</td>\n",
              "      <td>0.0</td>\n",
              "      <td>0.0</td>\n",
              "      <td>0.0</td>\n",
              "      <td>0.0</td>\n",
              "      <td>0.0</td>\n",
              "      <td>0.0</td>\n",
              "      <td>0.0</td>\n",
              "      <td>0.0</td>\n",
              "      <td>0.0</td>\n",
              "      <td>0.0</td>\n",
              "      <td>0.0</td>\n",
              "      <td>0.0</td>\n",
              "      <td>0.0</td>\n",
              "      <td>0.0</td>\n",
              "      <td>0.0</td>\n",
              "      <td>0.0</td>\n",
              "      <td>0.0</td>\n",
              "      <td>0.0</td>\n",
              "      <td>0.0</td>\n",
              "      <td>0.0</td>\n",
              "      <td>0.0</td>\n",
              "      <td>0.0</td>\n",
              "      <td>0.0</td>\n",
              "      <td>0.0</td>\n",
              "      <td>0.0</td>\n",
              "      <td>...</td>\n",
              "      <td>0.0</td>\n",
              "      <td>0.0</td>\n",
              "      <td>0.0</td>\n",
              "      <td>0.0</td>\n",
              "      <td>0.0</td>\n",
              "      <td>0.0</td>\n",
              "      <td>0.0</td>\n",
              "      <td>0.0</td>\n",
              "      <td>0.0</td>\n",
              "      <td>0.0</td>\n",
              "      <td>0.0</td>\n",
              "      <td>0.0</td>\n",
              "      <td>0.0</td>\n",
              "      <td>0.0</td>\n",
              "      <td>0.0</td>\n",
              "      <td>0.0</td>\n",
              "      <td>0.0</td>\n",
              "      <td>0.0</td>\n",
              "      <td>0.000000</td>\n",
              "      <td>0.0</td>\n",
              "      <td>0.0</td>\n",
              "      <td>0.0</td>\n",
              "      <td>0.0</td>\n",
              "      <td>0.0</td>\n",
              "      <td>0.0</td>\n",
              "      <td>0.0</td>\n",
              "      <td>0.0</td>\n",
              "      <td>0.0</td>\n",
              "      <td>0.0</td>\n",
              "      <td>0.0</td>\n",
              "      <td>0.0</td>\n",
              "      <td>0.0</td>\n",
              "      <td>0.0</td>\n",
              "      <td>0.0</td>\n",
              "      <td>0.0</td>\n",
              "      <td>0.0</td>\n",
              "      <td>0.0</td>\n",
              "      <td>0.0</td>\n",
              "      <td>0.0</td>\n",
              "      <td>0.0</td>\n",
              "    </tr>\n",
              "    <tr>\n",
              "      <th>404352</th>\n",
              "      <td>Everything including the nice upgrade The Hot...</td>\n",
              "      <td>0</td>\n",
              "      <td>everything include nice upgrade hotel revamp s...</td>\n",
              "      <td>0.000</td>\n",
              "      <td>0.621</td>\n",
              "      <td>0.379</td>\n",
              "      <td>0.9153</td>\n",
              "      <td>155</td>\n",
              "      <td>27</td>\n",
              "      <td>0.025041</td>\n",
              "      <td>-0.044675</td>\n",
              "      <td>-0.031963</td>\n",
              "      <td>0.062551</td>\n",
              "      <td>0.021424</td>\n",
              "      <td>0.0</td>\n",
              "      <td>0.0</td>\n",
              "      <td>0.0</td>\n",
              "      <td>0.0</td>\n",
              "      <td>0.0</td>\n",
              "      <td>0.0</td>\n",
              "      <td>0.0</td>\n",
              "      <td>0.0</td>\n",
              "      <td>0.0</td>\n",
              "      <td>0.0</td>\n",
              "      <td>0.0</td>\n",
              "      <td>0.0</td>\n",
              "      <td>0.0</td>\n",
              "      <td>0.0</td>\n",
              "      <td>0.0</td>\n",
              "      <td>0.0</td>\n",
              "      <td>0.0</td>\n",
              "      <td>0.0</td>\n",
              "      <td>0.0</td>\n",
              "      <td>0.0</td>\n",
              "      <td>0.0</td>\n",
              "      <td>0.0</td>\n",
              "      <td>0.0</td>\n",
              "      <td>0.0</td>\n",
              "      <td>0.0</td>\n",
              "      <td>0.0</td>\n",
              "      <td>...</td>\n",
              "      <td>0.0</td>\n",
              "      <td>0.0</td>\n",
              "      <td>0.0</td>\n",
              "      <td>0.0</td>\n",
              "      <td>0.0</td>\n",
              "      <td>0.0</td>\n",
              "      <td>0.0</td>\n",
              "      <td>0.0</td>\n",
              "      <td>0.0</td>\n",
              "      <td>0.0</td>\n",
              "      <td>0.0</td>\n",
              "      <td>0.0</td>\n",
              "      <td>0.0</td>\n",
              "      <td>0.0</td>\n",
              "      <td>0.0</td>\n",
              "      <td>0.0</td>\n",
              "      <td>0.0</td>\n",
              "      <td>0.0</td>\n",
              "      <td>0.000000</td>\n",
              "      <td>0.0</td>\n",
              "      <td>0.0</td>\n",
              "      <td>0.0</td>\n",
              "      <td>0.0</td>\n",
              "      <td>0.0</td>\n",
              "      <td>0.0</td>\n",
              "      <td>0.0</td>\n",
              "      <td>0.0</td>\n",
              "      <td>0.0</td>\n",
              "      <td>0.0</td>\n",
              "      <td>0.0</td>\n",
              "      <td>0.0</td>\n",
              "      <td>0.0</td>\n",
              "      <td>0.0</td>\n",
              "      <td>0.0</td>\n",
              "      <td>0.0</td>\n",
              "      <td>0.0</td>\n",
              "      <td>0.0</td>\n",
              "      <td>0.0</td>\n",
              "      <td>0.0</td>\n",
              "      <td>0.0</td>\n",
              "    </tr>\n",
              "    <tr>\n",
              "      <th>451596</th>\n",
              "      <td>Lovely hotel v welcoming staff</td>\n",
              "      <td>0</td>\n",
              "      <td>lovely hotel welcome staff</td>\n",
              "      <td>0.000</td>\n",
              "      <td>0.230</td>\n",
              "      <td>0.770</td>\n",
              "      <td>0.7717</td>\n",
              "      <td>32</td>\n",
              "      <td>7</td>\n",
              "      <td>-0.039076</td>\n",
              "      <td>0.123407</td>\n",
              "      <td>0.098141</td>\n",
              "      <td>-0.040361</td>\n",
              "      <td>0.076197</td>\n",
              "      <td>0.0</td>\n",
              "      <td>0.0</td>\n",
              "      <td>0.0</td>\n",
              "      <td>0.0</td>\n",
              "      <td>0.0</td>\n",
              "      <td>0.0</td>\n",
              "      <td>0.0</td>\n",
              "      <td>0.0</td>\n",
              "      <td>0.0</td>\n",
              "      <td>0.0</td>\n",
              "      <td>0.0</td>\n",
              "      <td>0.0</td>\n",
              "      <td>0.0</td>\n",
              "      <td>0.0</td>\n",
              "      <td>0.0</td>\n",
              "      <td>0.0</td>\n",
              "      <td>0.0</td>\n",
              "      <td>0.0</td>\n",
              "      <td>0.0</td>\n",
              "      <td>0.0</td>\n",
              "      <td>0.0</td>\n",
              "      <td>0.0</td>\n",
              "      <td>0.0</td>\n",
              "      <td>0.0</td>\n",
              "      <td>0.0</td>\n",
              "      <td>0.0</td>\n",
              "      <td>...</td>\n",
              "      <td>0.0</td>\n",
              "      <td>0.0</td>\n",
              "      <td>0.0</td>\n",
              "      <td>0.0</td>\n",
              "      <td>0.0</td>\n",
              "      <td>0.0</td>\n",
              "      <td>0.0</td>\n",
              "      <td>0.0</td>\n",
              "      <td>0.0</td>\n",
              "      <td>0.0</td>\n",
              "      <td>0.0</td>\n",
              "      <td>0.0</td>\n",
              "      <td>0.0</td>\n",
              "      <td>0.0</td>\n",
              "      <td>0.0</td>\n",
              "      <td>0.0</td>\n",
              "      <td>0.0</td>\n",
              "      <td>0.0</td>\n",
              "      <td>0.000000</td>\n",
              "      <td>0.0</td>\n",
              "      <td>0.0</td>\n",
              "      <td>0.0</td>\n",
              "      <td>0.0</td>\n",
              "      <td>0.0</td>\n",
              "      <td>0.0</td>\n",
              "      <td>0.0</td>\n",
              "      <td>0.0</td>\n",
              "      <td>0.0</td>\n",
              "      <td>0.0</td>\n",
              "      <td>0.0</td>\n",
              "      <td>0.0</td>\n",
              "      <td>0.0</td>\n",
              "      <td>0.0</td>\n",
              "      <td>0.0</td>\n",
              "      <td>0.0</td>\n",
              "      <td>0.0</td>\n",
              "      <td>0.0</td>\n",
              "      <td>0.0</td>\n",
              "      <td>0.0</td>\n",
              "      <td>0.0</td>\n",
              "    </tr>\n",
              "  </tbody>\n",
              "</table>\n",
              "<p>5 rows × 3840 columns</p>\n",
              "</div>"
            ],
            "text/plain": [
              "                                                   review  ...  word_zuid\n",
              "488440   Would have appreciated a shop in the hotel th...  ...        0.0\n",
              "274649        No tissue paper box was present at the room  ...        0.0\n",
              "374688                Pillows  Nice welcoming and service  ...        0.0\n",
              "404352   Everything including the nice upgrade The Hot...  ...        0.0\n",
              "451596                    Lovely hotel v welcoming staff   ...        0.0\n",
              "\n",
              "[5 rows x 3840 columns]"
            ]
          },
          "metadata": {
            "tags": []
          },
          "execution_count": 30
        }
      ]
    },
    {
      "cell_type": "code",
      "metadata": {
        "id": "Ebc4hvjA2Scb",
        "colab": {
          "base_uri": "https://localhost:8080/"
        },
        "outputId": "59aad42e-d3be-4ba6-8144-0317051a5d3f"
      },
      "source": [
        "reviews_df.shape"
      ],
      "execution_count": 31,
      "outputs": [
        {
          "output_type": "execute_result",
          "data": {
            "text/plain": [
              "(51574, 3840)"
            ]
          },
          "metadata": {
            "tags": []
          },
          "execution_count": 31
        }
      ]
    },
    {
      "cell_type": "code",
      "metadata": {
        "id": "5W6XCuoy2ZGW",
        "colab": {
          "base_uri": "https://localhost:8080/",
          "height": 589
        },
        "outputId": "dd13253a-1a83-4308-af72-a3b91d23a72c"
      },
      "source": [
        "# show is_bad_review distribution\n",
        "reviews_df[\"is_bad_review\"].value_counts(normalize = True)\n",
        "\n",
        "# wordcloud function\n",
        "\n",
        "from wordcloud import WordCloud\n",
        "import matplotlib.pyplot as plt\n",
        "\n",
        "def show_wordcloud(data, title = None):\n",
        "    wordcloud = WordCloud(\n",
        "        background_color = 'white',\n",
        "        max_words = 200,\n",
        "        max_font_size = 40, \n",
        "        scale = 3,\n",
        "        random_state = 42\n",
        "    ).generate(str(data))\n",
        "\n",
        "    fig = plt.figure(1, figsize = (20, 20))\n",
        "    plt.axis('off')\n",
        "    if title: \n",
        "        fig.suptitle(title, fontsize = 20)\n",
        "        fig.subplots_adjust(top = 2.3)\n",
        "\n",
        "    plt.imshow(wordcloud)\n",
        "    plt.show()\n",
        "    \n",
        "# print wordcloud\n",
        "show_wordcloud(reviews_df[\"review\"])"
      ],
      "execution_count": 32,
      "outputs": [
        {
          "output_type": "display_data",
          "data": {
            "image/png": "[encoded data removed]",
            "text/plain": [
              "<Figure size 1440x1440 with 1 Axes>"
            ]
          },
          "metadata": {
            "tags": [],
            "needs_background": "light"
          }
        }
      ]
    },
    {
      "cell_type": "code",
      "metadata": {
        "id": "h58n54so2hIc",
        "colab": {
          "base_uri": "https://localhost:8080/",
          "height": 363
        },
        "outputId": "7c4199df-14a6-4c68-8be8-fc17e62b2142"
      },
      "source": [
        "# highest positive sentiment reviews (with more than 5 words)\n",
        "reviews_df[reviews_df[\"nb_words\"] >= 5].sort_values(\"pos\", ascending = False)[[\"review\", \"pos\"]].head(10)"
      ],
      "execution_count": 33,
      "outputs": [
        {
          "output_type": "execute_result",
          "data": {
            "text/html": [
              "<div>\n",
              "<style scoped>\n",
              "    .dataframe tbody tr th:only-of-type {\n",
              "        vertical-align: middle;\n",
              "    }\n",
              "\n",
              "    .dataframe tbody tr th {\n",
              "        vertical-align: top;\n",
              "    }\n",
              "\n",
              "    .dataframe thead th {\n",
              "        text-align: right;\n",
              "    }\n",
              "</style>\n",
              "<table border=\"1\" class=\"dataframe\">\n",
              "  <thead>\n",
              "    <tr style=\"text-align: right;\">\n",
              "      <th></th>\n",
              "      <th>review</th>\n",
              "      <th>pos</th>\n",
              "    </tr>\n",
              "  </thead>\n",
              "  <tbody>\n",
              "    <tr>\n",
              "      <th>43101</th>\n",
              "      <td>A perfect location comfortable great value</td>\n",
              "      <td>0.931</td>\n",
              "    </tr>\n",
              "    <tr>\n",
              "      <th>211742</th>\n",
              "      <td>Clean comfortable lovely staff</td>\n",
              "      <td>0.907</td>\n",
              "    </tr>\n",
              "    <tr>\n",
              "      <th>175551</th>\n",
              "      <td>Friendly welcome Comfortable room</td>\n",
              "      <td>0.905</td>\n",
              "    </tr>\n",
              "    <tr>\n",
              "      <th>365085</th>\n",
              "      <td>Good location great value</td>\n",
              "      <td>0.904</td>\n",
              "    </tr>\n",
              "    <tr>\n",
              "      <th>109564</th>\n",
              "      <td>Clean friendly and comfortable</td>\n",
              "      <td>0.902</td>\n",
              "    </tr>\n",
              "    <tr>\n",
              "      <th>145743</th>\n",
              "      <td>Good value amazing location</td>\n",
              "      <td>0.901</td>\n",
              "    </tr>\n",
              "    <tr>\n",
              "      <th>407590</th>\n",
              "      <td>breakfast excellent Clean comfort</td>\n",
              "      <td>0.899</td>\n",
              "    </tr>\n",
              "    <tr>\n",
              "      <th>407546</th>\n",
              "      <td>Great place I enjoyed</td>\n",
              "      <td>0.881</td>\n",
              "    </tr>\n",
              "    <tr>\n",
              "      <th>218571</th>\n",
              "      <td>Beautiful Quirky Comfortable</td>\n",
              "      <td>0.878</td>\n",
              "    </tr>\n",
              "    <tr>\n",
              "      <th>436901</th>\n",
              "      <td>Lovely comfortable rooms</td>\n",
              "      <td>0.877</td>\n",
              "    </tr>\n",
              "  </tbody>\n",
              "</table>\n",
              "</div>"
            ],
            "text/plain": [
              "                                             review    pos\n",
              "43101    A perfect location comfortable great value  0.931\n",
              "211742               Clean comfortable lovely staff  0.907\n",
              "175551            Friendly welcome Comfortable room  0.905\n",
              "365085                    Good location great value  0.904\n",
              "109564               Clean friendly and comfortable  0.902\n",
              "145743                  Good value amazing location  0.901\n",
              "407590            breakfast excellent Clean comfort  0.899\n",
              "407546                       Great place I enjoyed   0.881\n",
              "218571                Beautiful Quirky Comfortable   0.878\n",
              "436901                    Lovely comfortable rooms   0.877"
            ]
          },
          "metadata": {
            "tags": []
          },
          "execution_count": 33
        }
      ]
    },
    {
      "cell_type": "code",
      "metadata": {
        "id": "l2eMiaeO2kJj",
        "colab": {
          "base_uri": "https://localhost:8080/",
          "height": 363
        },
        "outputId": "bc3f8035-1d28-48c0-85f6-9345a9db72f9"
      },
      "source": [
        "# lowest negative sentiment reviews (with more than 5 words)\n",
        "reviews_df[reviews_df[\"nb_words\"] >= 5].sort_values(\"neg\", ascending = False)[[\"review\", \"neg\"]].head(10)"
      ],
      "execution_count": 34,
      "outputs": [
        {
          "output_type": "execute_result",
          "data": {
            "text/html": [
              "<div>\n",
              "<style scoped>\n",
              "    .dataframe tbody tr th:only-of-type {\n",
              "        vertical-align: middle;\n",
              "    }\n",
              "\n",
              "    .dataframe tbody tr th {\n",
              "        vertical-align: top;\n",
              "    }\n",
              "\n",
              "    .dataframe thead th {\n",
              "        text-align: right;\n",
              "    }\n",
              "</style>\n",
              "<table border=\"1\" class=\"dataframe\">\n",
              "  <thead>\n",
              "    <tr style=\"text-align: right;\">\n",
              "      <th></th>\n",
              "      <th>review</th>\n",
              "      <th>neg</th>\n",
              "    </tr>\n",
              "  </thead>\n",
              "  <tbody>\n",
              "    <tr>\n",
              "      <th>193086</th>\n",
              "      <td>No dislikes LOCATION</td>\n",
              "      <td>0.831</td>\n",
              "    </tr>\n",
              "    <tr>\n",
              "      <th>356368</th>\n",
              "      <td>Nothing  Great helpful wonderful staff</td>\n",
              "      <td>0.812</td>\n",
              "    </tr>\n",
              "    <tr>\n",
              "      <th>318516</th>\n",
              "      <td>A disaster  Nothing</td>\n",
              "      <td>0.804</td>\n",
              "    </tr>\n",
              "    <tr>\n",
              "      <th>458794</th>\n",
              "      <td>Nothing Excellent friendly helpful staff</td>\n",
              "      <td>0.799</td>\n",
              "    </tr>\n",
              "    <tr>\n",
              "      <th>29666</th>\n",
              "      <td>A bit noisy No</td>\n",
              "      <td>0.796</td>\n",
              "    </tr>\n",
              "    <tr>\n",
              "      <th>426057</th>\n",
              "      <td>Dirty hotel Smells bad</td>\n",
              "      <td>0.762</td>\n",
              "    </tr>\n",
              "    <tr>\n",
              "      <th>263187</th>\n",
              "      <td>Very bad service No</td>\n",
              "      <td>0.758</td>\n",
              "    </tr>\n",
              "    <tr>\n",
              "      <th>443796</th>\n",
              "      <td>Nothing  perfect</td>\n",
              "      <td>0.750</td>\n",
              "    </tr>\n",
              "    <tr>\n",
              "      <th>181508</th>\n",
              "      <td>Window blind was broken</td>\n",
              "      <td>0.744</td>\n",
              "    </tr>\n",
              "    <tr>\n",
              "      <th>175316</th>\n",
              "      <td>Nothing Super friendly staff</td>\n",
              "      <td>0.743</td>\n",
              "    </tr>\n",
              "  </tbody>\n",
              "</table>\n",
              "</div>"
            ],
            "text/plain": [
              "                                           review    neg\n",
              "193086                      No dislikes LOCATION   0.831\n",
              "356368    Nothing  Great helpful wonderful staff   0.812\n",
              "318516                        A disaster  Nothing  0.804\n",
              "458794   Nothing Excellent friendly helpful staff  0.799\n",
              "29666                              A bit noisy No  0.796\n",
              "426057                     Dirty hotel Smells bad  0.762\n",
              "263187                        Very bad service No  0.758\n",
              "443796                          Nothing  perfect   0.750\n",
              "181508                    Window blind was broken  0.744\n",
              "175316               Nothing Super friendly staff  0.743"
            ]
          },
          "metadata": {
            "tags": []
          },
          "execution_count": 34
        }
      ]
    },
    {
      "cell_type": "code",
      "metadata": {
        "id": "ZSFNBWCn2sAX",
        "colab": {
          "base_uri": "https://localhost:8080/",
          "height": 374
        },
        "outputId": "072f98c2-1171-49a8-b3a7-ac65a5156021"
      },
      "source": [
        "# plot sentiment distribution for positive and negative reviews\n",
        "\n",
        "import seaborn as sns\n",
        "\n",
        "for x in [0, 1]:\n",
        "    subset = reviews_df[reviews_df['is_bad_review'] == x]\n",
        "    \n",
        "    # Draw the density plot\n",
        "    if x == 0:\n",
        "        label = \"Good reviews\"\n",
        "    else:\n",
        "        label = \"Bad reviews\"\n",
        "    sns.distplot(subset['compound'], hist = False, label = label)"
      ],
      "execution_count": 35,
      "outputs": [
        {
          "output_type": "stream",
          "text": [
            "/usr/local/lib/python3.6/dist-packages/seaborn/distributions.py:2551: FutureWarning: `distplot` is a deprecated function and will be removed in a future version. Please adapt your code to use either `displot` (a figure-level function with similar flexibility) or `kdeplot` (an axes-level function for kernel density plots).\n",
            "  warnings.warn(msg, FutureWarning)\n",
            "/usr/local/lib/python3.6/dist-packages/seaborn/distributions.py:2551: FutureWarning: `distplot` is a deprecated function and will be removed in a future version. Please adapt your code to use either `displot` (a figure-level function with similar flexibility) or `kdeplot` (an axes-level function for kernel density plots).\n",
            "  warnings.warn(msg, FutureWarning)\n"
          ],
          "name": "stderr"
        },
        {
          "output_type": "display_data",
          "data": {
            "image/png": "[encoded data removed]",
            "text/plain": [
              "<Figure size 432x288 with 1 Axes>"
            ]
          },
          "metadata": {
            "tags": [],
            "needs_background": "light"
          }
        }
      ]
    },
    {
      "cell_type": "code",
      "metadata": {
        "id": "CgAZmYkd20BZ"
      },
      "source": [
        "# feature selection\n",
        "label = \"is_bad_review\"\n",
        "ignore_cols = [label, \"review\", \"review_clean\"]\n",
        "features = [c for c in reviews_df.columns if c not in ignore_cols]\n",
        "\n",
        "# split the data into train and test\n",
        "from sklearn.ensemble import RandomForestClassifier\n",
        "from sklearn.model_selection import train_test_split\n",
        "\n",
        "X_train, X_test, y_train, y_test = train_test_split(reviews_df[features], reviews_df[label], test_size = 0.20, random_state = 42)"
      ],
      "execution_count": 36,
      "outputs": []
    },
    {
      "cell_type": "code",
      "metadata": {
        "id": "WfmDpXCG25qp",
        "colab": {
          "base_uri": "https://localhost:8080/",
          "height": 676
        },
        "outputId": "20187f05-ee21-4604-f44d-0d9f293fad01"
      },
      "source": [
        "# train a random forest classifier\n",
        "rf = RandomForestClassifier(n_estimators = 100, random_state = 42)\n",
        "rf.fit(X_train, y_train)\n",
        "\n",
        "# show feature importance\n",
        "feature_importances_df = pd.DataFrame({\"feature\": features, \"importance\": rf.feature_importances_}).sort_values(\"importance\", ascending = False)\n",
        "feature_importances_df.head(20)"
      ],
      "execution_count": 37,
      "outputs": [
        {
          "output_type": "execute_result",
          "data": {
            "text/html": [
              "<div>\n",
              "<style scoped>\n",
              "    .dataframe tbody tr th:only-of-type {\n",
              "        vertical-align: middle;\n",
              "    }\n",
              "\n",
              "    .dataframe tbody tr th {\n",
              "        vertical-align: top;\n",
              "    }\n",
              "\n",
              "    .dataframe thead th {\n",
              "        text-align: right;\n",
              "    }\n",
              "</style>\n",
              "<table border=\"1\" class=\"dataframe\">\n",
              "  <thead>\n",
              "    <tr style=\"text-align: right;\">\n",
              "      <th></th>\n",
              "      <th>feature</th>\n",
              "      <th>importance</th>\n",
              "    </tr>\n",
              "  </thead>\n",
              "  <tbody>\n",
              "    <tr>\n",
              "      <th>3</th>\n",
              "      <td>compound</td>\n",
              "      <td>0.047991</td>\n",
              "    </tr>\n",
              "    <tr>\n",
              "      <th>2</th>\n",
              "      <td>pos</td>\n",
              "      <td>0.044161</td>\n",
              "    </tr>\n",
              "    <tr>\n",
              "      <th>0</th>\n",
              "      <td>neg</td>\n",
              "      <td>0.034539</td>\n",
              "    </tr>\n",
              "    <tr>\n",
              "      <th>1</th>\n",
              "      <td>neu</td>\n",
              "      <td>0.023107</td>\n",
              "    </tr>\n",
              "    <tr>\n",
              "      <th>9</th>\n",
              "      <td>doc2vec_vector_3</td>\n",
              "      <td>0.020163</td>\n",
              "    </tr>\n",
              "    <tr>\n",
              "      <th>10</th>\n",
              "      <td>doc2vec_vector_4</td>\n",
              "      <td>0.019821</td>\n",
              "    </tr>\n",
              "    <tr>\n",
              "      <th>6</th>\n",
              "      <td>doc2vec_vector_0</td>\n",
              "      <td>0.019561</td>\n",
              "    </tr>\n",
              "    <tr>\n",
              "      <th>4</th>\n",
              "      <td>nb_chars</td>\n",
              "      <td>0.017199</td>\n",
              "    </tr>\n",
              "    <tr>\n",
              "      <th>8</th>\n",
              "      <td>doc2vec_vector_2</td>\n",
              "      <td>0.016202</td>\n",
              "    </tr>\n",
              "    <tr>\n",
              "      <th>7</th>\n",
              "      <td>doc2vec_vector_1</td>\n",
              "      <td>0.015947</td>\n",
              "    </tr>\n",
              "    <tr>\n",
              "      <th>5</th>\n",
              "      <td>nb_words</td>\n",
              "      <td>0.014815</td>\n",
              "    </tr>\n",
              "    <tr>\n",
              "      <th>2853</th>\n",
              "      <td>word_room</td>\n",
              "      <td>0.012965</td>\n",
              "    </tr>\n",
              "    <tr>\n",
              "      <th>3088</th>\n",
              "      <td>word_small</td>\n",
              "      <td>0.010114</td>\n",
              "    </tr>\n",
              "    <tr>\n",
              "      <th>1945</th>\n",
              "      <td>word_location</td>\n",
              "      <td>0.008557</td>\n",
              "    </tr>\n",
              "    <tr>\n",
              "      <th>950</th>\n",
              "      <td>word_dirty</td>\n",
              "      <td>0.007717</td>\n",
              "    </tr>\n",
              "    <tr>\n",
              "      <th>3202</th>\n",
              "      <td>word_staff</td>\n",
              "      <td>0.007665</td>\n",
              "    </tr>\n",
              "    <tr>\n",
              "      <th>2517</th>\n",
              "      <td>word_poor</td>\n",
              "      <td>0.007344</td>\n",
              "    </tr>\n",
              "    <tr>\n",
              "      <th>3216</th>\n",
              "      <td>word_star</td>\n",
              "      <td>0.006948</td>\n",
              "    </tr>\n",
              "    <tr>\n",
              "      <th>1499</th>\n",
              "      <td>word_great</td>\n",
              "      <td>0.006841</td>\n",
              "    </tr>\n",
              "    <tr>\n",
              "      <th>285</th>\n",
              "      <td>word_bad</td>\n",
              "      <td>0.005870</td>\n",
              "    </tr>\n",
              "  </tbody>\n",
              "</table>\n",
              "</div>"
            ],
            "text/plain": [
              "               feature  importance\n",
              "3             compound    0.047991\n",
              "2                  pos    0.044161\n",
              "0                  neg    0.034539\n",
              "1                  neu    0.023107\n",
              "9     doc2vec_vector_3    0.020163\n",
              "10    doc2vec_vector_4    0.019821\n",
              "6     doc2vec_vector_0    0.019561\n",
              "4             nb_chars    0.017199\n",
              "8     doc2vec_vector_2    0.016202\n",
              "7     doc2vec_vector_1    0.015947\n",
              "5             nb_words    0.014815\n",
              "2853         word_room    0.012965\n",
              "3088        word_small    0.010114\n",
              "1945     word_location    0.008557\n",
              "950         word_dirty    0.007717\n",
              "3202        word_staff    0.007665\n",
              "2517         word_poor    0.007344\n",
              "3216         word_star    0.006948\n",
              "1499        word_great    0.006841\n",
              "285           word_bad    0.005870"
            ]
          },
          "metadata": {
            "tags": []
          },
          "execution_count": 37
        }
      ]
    },
    {
      "cell_type": "code",
      "metadata": {
        "id": "CROEMGpG29Gv",
        "colab": {
          "base_uri": "https://localhost:8080/",
          "height": 621
        },
        "outputId": "63b57ab8-683f-4f86-e1b0-ec36df949b11"
      },
      "source": [
        "# ROC curve\n",
        "\n",
        "from sklearn.metrics import roc_curve, auc, roc_auc_score\n",
        "import matplotlib.pyplot as plt\n",
        "\n",
        "y_pred = [x[1] for x in rf.predict_proba(X_test)]\n",
        "fpr, tpr, thresholds = roc_curve(y_test, y_pred, pos_label = 1)\n",
        "\n",
        "roc_auc = auc(fpr, tpr)\n",
        "\n",
        "plt.figure(1, figsize = (15, 10))\n",
        "lw = 2\n",
        "plt.plot(fpr, tpr, color='darkorange',\n",
        "         lw=lw, label='ROC curve (area = %0.2f)' % roc_auc)\n",
        "plt.plot([0, 1], [0, 1], lw=lw, linestyle='--')\n",
        "plt.xlim([0.0, 1.0])\n",
        "plt.ylim([0.0, 1.0])\n",
        "plt.xlabel('False Positive Rate')\n",
        "plt.ylabel('True Positive Rate')\n",
        "plt.title('Receiver operating characteristic example')\n",
        "plt.legend(loc=\"lower right\")\n",
        "plt.show()"
      ],
      "execution_count": 38,
      "outputs": [
        {
          "output_type": "display_data",
          "data": {
            "image/png": "[encoded data removed]",
            "text/plain": [
              "<Figure size 1080x720 with 1 Axes>"
            ]
          },
          "metadata": {
            "tags": [],
            "needs_background": "light"
          }
        }
      ]
    },
    {
      "cell_type": "markdown",
      "metadata": {
        "id": "7Z9LHnuVXj9d"
      },
      "source": [
        "#Part 3 - LIME - Explaining the model annd summarizing context."
      ]
    },
    {
      "cell_type": "code",
      "metadata": {
        "colab": {
          "base_uri": "https://localhost:8080/"
        },
        "id": "NL0audG9lh8t",
        "outputId": "a25ff934-b520-4479-a7b6-69cd65879bd9"
      },
      "source": [
        "!pip install lime"
      ],
      "execution_count": 42,
      "outputs": [
        {
          "output_type": "stream",
          "text": [
            "Requirement already satisfied: lime in /usr/local/lib/python3.6/dist-packages (0.2.0.1)\n",
            "Requirement already satisfied: numpy in /usr/local/lib/python3.6/dist-packages (from lime) (1.18.5)\n",
            "Requirement already satisfied: tqdm in /usr/local/lib/python3.6/dist-packages (from lime) (4.41.1)\n",
            "Requirement already satisfied: matplotlib in /usr/local/lib/python3.6/dist-packages (from lime) (3.2.2)\n",
            "Requirement already satisfied: scipy in /usr/local/lib/python3.6/dist-packages (from lime) (1.4.1)\n",
            "Requirement already satisfied: scikit-learn>=0.18 in /usr/local/lib/python3.6/dist-packages (from lime) (0.22.2.post1)\n",
            "Requirement already satisfied: scikit-image>=0.12 in /usr/local/lib/python3.6/dist-packages (from lime) (0.16.2)\n",
            "Requirement already satisfied: kiwisolver>=1.0.1 in /usr/local/lib/python3.6/dist-packages (from matplotlib->lime) (1.3.1)\n",
            "Requirement already satisfied: python-dateutil>=2.1 in /usr/local/lib/python3.6/dist-packages (from matplotlib->lime) (2.8.1)\n",
            "Requirement already satisfied: pyparsing!=2.0.4,!=2.1.2,!=2.1.6,>=2.0.1 in /usr/local/lib/python3.6/dist-packages (from matplotlib->lime) (2.4.7)\n",
            "Requirement already satisfied: cycler>=0.10 in /usr/local/lib/python3.6/dist-packages (from matplotlib->lime) (0.10.0)\n",
            "Requirement already satisfied: joblib>=0.11 in /usr/local/lib/python3.6/dist-packages (from scikit-learn>=0.18->lime) (0.17.0)\n",
            "Requirement already satisfied: imageio>=2.3.0 in /usr/local/lib/python3.6/dist-packages (from scikit-image>=0.12->lime) (2.4.1)\n",
            "Requirement already satisfied: pillow>=4.3.0 in /usr/local/lib/python3.6/dist-packages (from scikit-image>=0.12->lime) (7.0.0)\n",
            "Requirement already satisfied: networkx>=2.0 in /usr/local/lib/python3.6/dist-packages (from scikit-image>=0.12->lime) (2.5)\n",
            "Requirement already satisfied: PyWavelets>=0.4.0 in /usr/local/lib/python3.6/dist-packages (from scikit-image>=0.12->lime) (1.1.1)\n",
            "Requirement already satisfied: six>=1.5 in /usr/local/lib/python3.6/dist-packages (from python-dateutil>=2.1->matplotlib->lime) (1.15.0)\n",
            "Requirement already satisfied: decorator>=4.3.0 in /usr/local/lib/python3.6/dist-packages (from networkx>=2.0->scikit-image>=0.12->lime) (4.4.2)\n"
          ],
          "name": "stdout"
        }
      ]
    },
    {
      "cell_type": "code",
      "metadata": {
        "id": "bj_smqTjlnXJ"
      },
      "source": [
        "from tqdm import tqdm\n",
        "\n",
        "from lime import lime_tabular\n",
        "from lime.lime_text import LimeTextExplainer\n",
        "\n",
        "from tensorflow.keras import layers\n",
        "from tensorflow.keras import losses\n",
        "from tensorflow.keras import preprocessing\n",
        "from tensorflow.keras.layers.experimental.preprocessing import TextVectorization\n",
        "from keras.models import Sequential\n",
        "from keras.layers import Dense\n",
        "from keras.layers import LSTM\n",
        "from keras.layers.embeddings import Embedding\n",
        "from keras.preprocessing import sequence\n",
        "\n",
        "from sklearn.feature_extraction.text import CountVectorizer\n",
        "from sklearn.linear_model import LogisticRegression\n",
        "from sklearn.ensemble import RandomForestClassifier\n",
        "\n",
        "from sklearn.metrics import classification_report"
      ],
      "execution_count": 43,
      "outputs": []
    },
    {
      "cell_type": "markdown",
      "metadata": {
        "id": "rPax7hbeEd4v"
      },
      "source": [
        "##Model Explanation With Traditional Machine Learning\n",
        "\n",
        "In the first set of experiments, we try using statsitical ML to understand how LIME assigns importance to features to explain the model\n",
        "\n",
        "LIME (Local Interpretable Model-Agnostic Explanations)\n",
        "\n",
        "LIME is model-agnostic, meaning that it can be applied to any machine learning model. The technique attempts to understand the model by perturbing the input of data samples and understanding how the predictions change.\n",
        "\n",
        "Many of the state of the art machine learning models are functionally black boxes, as it is nearly impossible to get a feeling for its inner workings. This brings us to a question of trust: do I trust that a certain prediction from the model is correct? Or do I even trust that the model is making reasonable predictions in general? \n",
        "\n",
        "It seems intuitive that explaining the rationale behind individual predictions would make us better positioned to trust or mistrust the prediction, or the classifier as a whole. Even if we can't necessarily understand how the model behaves on all cases, it may be possible (and indeed it is in most cases) to understand how it behaves in particular cases."
      ]
    },
    {
      "cell_type": "code",
      "metadata": {
        "id": "0naisEl65Ows"
      },
      "source": [
        "explainer = LimeTextExplainer(\n",
        "    class_names = ['negative', 'positive'],\n",
        "    bow=True\n",
        "  )\n",
        "\n",
        "cv = CountVectorizer(analyzer = 'word',stop_words = 'english',max_features = 20,ngram_range=(2,2))\n",
        "text = cv.fit_transform(pos)\n"
      ],
      "execution_count": 57,
      "outputs": []
    },
    {
      "cell_type": "code",
      "metadata": {
        "id": "Cl8KRStoiww1"
      },
      "source": [
        "word2idx = reviews_df['review_clean'].to_dict()\n",
        "idx2word = {value: key for key, value in word2idx.items()}"
      ],
      "execution_count": 63,
      "outputs": []
    },
    {
      "cell_type": "code",
      "metadata": {
        "id": "QRsrZ9NRjVXV"
      },
      "source": [
        "def idxes2string(idx_list, idx2word):\n",
        "  \"\"\"\n",
        "  Converts a list like [2,44,67] to string like 'How are you' where the three words map to the three numbers\n",
        "\n",
        "  --params:\n",
        "    --idx_list: list(int) [list of indexes of words in the sentence]\n",
        "    --idx2word: dict. keys=int, values=str. Unique mapping of indexes to words\n",
        "\n",
        "  --returns:\n",
        "    -- str\n",
        "  \"\"\"\n",
        "  return \" \".join([idx2word[idx] for idx in idx_list])"
      ],
      "execution_count": 75,
      "outputs": []
    },
    {
      "cell_type": "code",
      "metadata": {
        "id": "0cmimQ_hjnWy"
      },
      "source": [
        "def prediction(sentence, vectorizer=cv, model=rf):\n",
        "  x_input = vectorizer.transform(sentence).toarray()\n",
        "  return model.predict_proba(x_input)"
      ],
      "execution_count": 76,
      "outputs": []
    },
    {
      "cell_type": "code",
      "metadata": {
        "id": "0neM4Fa_a8-g"
      },
      "source": [
        "# i = 10\n",
        "# text = idxes2string(X_test[i], idx2word)\n",
        "# label = y_test[i]\n",
        "\n",
        "# print(\"Text: \\n\",text)\n",
        "# print(\"-\"*100)\n",
        "# print(\"Label: \", \"negative\" if label==0 else \"positive\")"
      ],
      "execution_count": 99,
      "outputs": []
    }
  ]
}